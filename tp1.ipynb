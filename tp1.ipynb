{
 "cells": [
  {
   "cell_type": "markdown",
   "metadata": {
    "pycharm": {
     "name": "#%% md\n"
    }
   },
   "source": [
    "# Trabajo Práctico 1"
   ]
  },
  {
   "cell_type": "code",
   "execution_count": null,
   "metadata": {
    "collapsed": false,
    "pycharm": {
     "name": "#%%\n"
    }
   },
   "outputs": [],
   "source": [
    "import pandas as pd\n",
    "import seaborn as sns\n",
    "import geopandas as gpd\n",
    "import matplotlib.pyplot as plt\n",
    "import descartes\n",
    "import pyproj\n",
    "import shapely.wkt\n",
    "import numpy as np"
   ]
  },
  {
   "cell_type": "markdown",
   "metadata": {
    "collapsed": false,
    "pycharm": {
     "name": "#%% md\n"
    }
   },
   "source": [
    " # Glosario columnas\n",
    "\n",
    "-  operation: tipo de operacion (venta)\n",
    "-  property type: tipo de propiedad (house, PH, apartment, store)\n",
    "-  place_name: localidad de la propiedad.\n",
    "-  place_with_parent_names: localidad junto a provinca, pais.\n",
    "-  country_name: pais donde se encuentra la propiedad.\n",
    "-  state_name: provincia donde se encuentra la propiedad.\n",
    "-  geonames_id: número de identificación en la base de datos GeoNames.\n",
    "-  lat-lon: latitud y longitud juntos.\n",
    "-  lat: latidud.\n",
    "-  lon: longitud.\n",
    "-  price: precio de la propiedad en relacion a su moneda.\n",
    "-  currency: moneda en la que se encuentra valorizada la propiedad.\n",
    "-  price_aprox_local_currency: precio aproximado en pesos de la propiedad.\n",
    "-  price_aprox_usd: precio aproximado del inmueble en dólares.\n",
    "-  surface_total_in_m2: superficie total del inmueble en metros cuadrados.\n",
    "-  surface_covered_in_m2: superficie cubierta del inmueble en metros cuadrados.\n",
    "-  price_usd_per_m2: precio en dólares del metro cuadrado vs total m2.\n",
    "-  price_per_m2: precio, no se sabe en qué moneda.\n",
    "-  floor: piso? no es claro, valores extraños.\n",
    "-  rooms: cantidad de habitaciones.\n",
    "-  expenses: valor de las expensas.\n",
    "-  properati_url: url de la url de properati donde está publicado el inmueble.\n",
    "-  description: descripción completa de todo el inmueble. Contiene información de todas las columnas y más.\n",
    "-  title: título con el que se encuentra publicado. Aparece el tipo de propiedad, zona y alguna característica destacada como cantidad de ambientes.\n",
    "-  image_thumbnail: fotos del inmueble."
   ]
  },
  {
   "cell_type": "markdown",
   "metadata": {
    "collapsed": false,
    "pycharm": {
     "name": "#%% md\n"
    }
   },
   "source": [
    "# Leemos el dataset"
   ]
  },
  {
   "cell_type": "code",
   "execution_count": null,
   "metadata": {
    "collapsed": false,
    "pycharm": {
     "name": "#%%\n"
    }
   },
   "outputs": [],
   "source": [
    "data=pd.read_csv('./properatti.csv')"
   ]
  },
  {
   "cell_type": "markdown",
   "metadata": {
    "collapsed": false,
    "pycharm": {
     "name": "#%% md\n"
    }
   },
   "source": [
    "# Observamos las diferentes columnas, los tipos de datos y cuantos valores no nulos tienen\n"
   ]
  },
  {
   "cell_type": "code",
   "execution_count": null,
   "metadata": {
    "collapsed": false,
    "pycharm": {
     "name": "#%%\n"
    }
   },
   "outputs": [],
   "source": [
    "data.info()"
   ]
  },
  {
   "cell_type": "code",
   "execution_count": null,
   "metadata": {
    "collapsed": false,
    "pycharm": {
     "name": "#%%\n"
    }
   },
   "outputs": [],
   "source": [
    "#El metodo describe arroja principalmente estadisticas descriptivas para columnas con datos cuantitativos, es por ello que vemos tan solo 14 columnas del dataset\n",
    "data.describe()"
   ]
  },
  {
   "cell_type": "code",
   "execution_count": null,
   "metadata": {
    "collapsed": false,
    "pycharm": {
     "name": "#%%\n"
    }
   },
   "outputs": [],
   "source": [
    "#Tomamos una muestra para entender los valores del dataset\n",
    "data.sample(10)"
   ]
  },
  {
   "cell_type": "markdown",
   "metadata": {
    "collapsed": false,
    "pycharm": {
     "name": "#%% md\n"
    }
   },
   "source": [
    "# EDA (Exploration Data Analysis)"
   ]
  },
  {
   "cell_type": "markdown",
   "metadata": {
    "collapsed": false,
    "pycharm": {
     "name": "#%% md\n"
    }
   },
   "source": [
    "## Porcentaje por columna\n"
   ]
  },
  {
   "cell_type": "code",
   "execution_count": null,
   "metadata": {
    "collapsed": false,
    "pycharm": {
     "name": "#%%\n"
    }
   },
   "outputs": [],
   "source": [
    "#Porcentaje de nulls respecto al total del dataset por columna\n",
    "\n",
    "percent_missing = data.isnull().sum() * 100 / len(data)\n",
    "missing_value_df = pd.DataFrame({'column_name': data.columns,\n",
    "                                 'percent_missing': percent_missing})\n",
    "\n",
    "missing_value_df.sort_values('percent_missing', inplace=True, ascending=False)\n",
    "missing_value_df"
   ]
  },
  {
   "cell_type": "code",
   "execution_count": null,
   "metadata": {
    "collapsed": false,
    "pycharm": {
     "name": "#%%\n"
    }
   },
   "outputs": [],
   "source": [
    "# Verificamos que todas las operaciones sean de tipo \"Venta\" // Podemos descartar esta columna\n",
    "data.operation.value_counts()"
   ]
  },
  {
   "cell_type": "markdown",
   "metadata": {
    "collapsed": false,
    "pycharm": {
     "name": "#%% md\n"
    }
   },
   "source": [
    "## Dropeamos (descartamos) la columna operation porque tiene un solo valor"
   ]
  },
  {
   "cell_type": "code",
   "execution_count": null,
   "metadata": {
    "collapsed": false,
    "pycharm": {
     "name": "#%%\n"
    }
   },
   "outputs": [],
   "source": [
    "data.drop('operation',inplace=True, axis=1)"
   ]
  },
  {
   "cell_type": "markdown",
   "metadata": {},
   "source": [
    "## Análisis columnas económicas"
   ]
  },
  {
   "cell_type": "markdown",
   "metadata": {},
   "source": [
    "Price, Currency, Price_aprox_usd, Price_aprox_local_currency\n",
    "\n",
    "Como decisión de negocios, decidimos usar valores de precio en dólares únicamente, por lo que estos son los que intentaremos completar y depurar."
   ]
  },
  {
   "cell_type": "code",
   "execution_count": null,
   "metadata": {},
   "outputs": [
    {
     "data": {
      "text/plain": [
       "87588"
      ]
     },
     "metadata": {},
     "output_type": "display_data"
    }
   ],
   "source": [
    "#Cantidad de casos en que 'price' coincide con 'Price_aprox_usd'. Tenemos 87588 que coinciden.\n",
    "\n",
    "sum(data.price == data.price_aprox_usd)"
   ]
  },
  {
   "cell_type": "code",
   "execution_count": null,
   "metadata": {},
   "outputs": [
    {
     "data": {
      "text/plain": [
       "33632"
      ]
     },
     "metadata": {},
     "output_type": "display_data"
    }
   ],
   "source": [
    "#Cantidad de casos en que 'price' no coincide con 'Price_aprox_usd'. Tenemos 33632 que no coinciden.\n",
    "sum(data.price != data.price_aprox_usd)"
   ]
  },
  {
   "cell_type": "code",
   "execution_count": null,
   "metadata": {},
   "outputs": [
    {
     "data": {
      "text/plain": [
       "1"
      ]
     },
     "metadata": {},
     "output_type": "display_data"
    }
   ],
   "source": [
    "#Cantidad de casos en que 'price' coincide con 'price_aprox_local_currency'\n",
    "sum(data.price == data.price_aprox_local_currency)"
   ]
  },
  {
   "cell_type": "code",
   "execution_count": null,
   "metadata": {},
   "outputs": [
    {
     "data": {
      "text/html": [
       "<div>\n",
       "<style scoped>\n",
       "    .dataframe tbody tr th:only-of-type {\n",
       "        vertical-align: middle;\n",
       "    }\n",
       "\n",
       "    .dataframe tbody tr th {\n",
       "        vertical-align: top;\n",
       "    }\n",
       "\n",
       "    .dataframe thead th {\n",
       "        text-align: right;\n",
       "    }\n",
       "</style>\n",
       "<table border=\"1\" class=\"dataframe\">\n",
       "  <thead>\n",
       "    <tr style=\"text-align: right;\">\n",
       "      <th></th>\n",
       "      <th>price</th>\n",
       "      <th>currency</th>\n",
       "      <th>price_aprox_usd</th>\n",
       "      <th>price_aprox_local_currency</th>\n",
       "    </tr>\n",
       "  </thead>\n",
       "  <tbody>\n",
       "    <tr>\n",
       "      <th>9761</th>\n",
       "      <td>0.0</td>\n",
       "      <td>NaN</td>\n",
       "      <td>0.0</td>\n",
       "      <td>0.0</td>\n",
       "    </tr>\n",
       "  </tbody>\n",
       "</table>\n",
       "</div>"
      ],
      "text/plain": [
       "      price currency  price_aprox_usd  price_aprox_local_currency\n",
       "9761    0.0      NaN              0.0                         0.0"
      ]
     },
     "metadata": {},
     "output_type": "display_data"
    }
   ],
   "source": [
    "#Es uno solo, así que veo cuál es:\n",
    "\n",
    "data[data.price == data.price_aprox_local_currency][['price', 'currency', 'price_aprox_usd', 'price_aprox_local_currency']]"
   ]
  },
  {
   "cell_type": "code",
   "execution_count": null,
   "metadata": {},
   "outputs": [],
   "source": [
    "#Corroboro que todos los 'price' cuya 'currency' es USD se correspondan con el 'price_aprox_usd'\n",
    "\n",
    "data2 = data[data.currency == 'USD']"
   ]
  },
  {
   "cell_type": "code",
   "execution_count": null,
   "metadata": {},
   "outputs": [
    {
     "data": {
      "text/plain": [
       "0"
      ]
     },
     "metadata": {},
     "output_type": "display_data"
    }
   ],
   "source": [
    "#Valido si hay algun precio que sea distinto\n",
    "len(data2[data2.price != data2.price_aprox_usd])"
   ]
  },
  {
   "cell_type": "code",
   "execution_count": null,
   "metadata": {},
   "outputs": [
    {
     "data": {
      "text/plain": [
       "87587"
      ]
     },
     "metadata": {},
     "output_type": "display_data"
    }
   ],
   "source": [
    "#veo que hay uno menos que los coincidentes en valor(87588 vs 87587), alguno debe estar mal etiquetado, lo busco.\n",
    "len(data2)"
   ]
  },
  {
   "cell_type": "code",
   "execution_count": null,
   "metadata": {},
   "outputs": [
    {
     "data": {
      "text/html": [
       "<div>\n",
       "<style scoped>\n",
       "    .dataframe tbody tr th:only-of-type {\n",
       "        vertical-align: middle;\n",
       "    }\n",
       "\n",
       "    .dataframe tbody tr th {\n",
       "        vertical-align: top;\n",
       "    }\n",
       "\n",
       "    .dataframe thead th {\n",
       "        text-align: right;\n",
       "    }\n",
       "</style>\n",
       "<table border=\"1\" class=\"dataframe\">\n",
       "  <thead>\n",
       "    <tr style=\"text-align: right;\">\n",
       "      <th></th>\n",
       "      <th>price</th>\n",
       "      <th>currency</th>\n",
       "      <th>price_aprox_usd</th>\n",
       "      <th>price_aprox_local_currency</th>\n",
       "    </tr>\n",
       "  </thead>\n",
       "  <tbody>\n",
       "    <tr>\n",
       "      <th>9761</th>\n",
       "      <td>0.0</td>\n",
       "      <td>NaN</td>\n",
       "      <td>0.0</td>\n",
       "      <td>0.0</td>\n",
       "    </tr>\n",
       "  </tbody>\n",
       "</table>\n",
       "</div>"
      ],
      "text/plain": [
       "      price currency  price_aprox_usd  price_aprox_local_currency\n",
       "9761    0.0      NaN              0.0                         0.0"
      ]
     },
     "metadata": {},
     "output_type": "display_data"
    }
   ],
   "source": [
    "data[(data.price == data.price_aprox_usd) & (data.currency != 'USD')][['price', 'currency', 'price_aprox_usd', 'price_aprox_local_currency']]"
   ]
  },
  {
   "cell_type": "code",
   "execution_count": null,
   "metadata": {},
   "outputs": [
    {
     "data": {
      "text/plain": [
       "USD    87587\n",
       "ARS    13219\n",
       "PEN        2\n",
       "UYU        1\n",
       "Name: currency, dtype: int64"
      ]
     },
     "metadata": {},
     "output_type": "display_data"
    }
   ],
   "source": [
    "#Ahora analizamos aquellos valores cuyos 'currency' no son USD.\n",
    "data.currency.value_counts()"
   ]
  },
  {
   "cell_type": "code",
   "execution_count": null,
   "metadata": {},
   "outputs": [
    {
     "data": {
      "text/html": [
       "<div>\n",
       "<style scoped>\n",
       "    .dataframe tbody tr th:only-of-type {\n",
       "        vertical-align: middle;\n",
       "    }\n",
       "\n",
       "    .dataframe tbody tr th {\n",
       "        vertical-align: top;\n",
       "    }\n",
       "\n",
       "    .dataframe thead th {\n",
       "        text-align: right;\n",
       "    }\n",
       "</style>\n",
       "<table border=\"1\" class=\"dataframe\">\n",
       "  <thead>\n",
       "    <tr style=\"text-align: right;\">\n",
       "      <th></th>\n",
       "      <th>price_aprox_usd</th>\n",
       "      <th>price</th>\n",
       "    </tr>\n",
       "  </thead>\n",
       "  <tbody>\n",
       "    <tr>\n",
       "      <th>50387</th>\n",
       "      <td>117139.33</td>\n",
       "      <td>380000.0</td>\n",
       "    </tr>\n",
       "    <tr>\n",
       "      <th>50388</th>\n",
       "      <td>292848.33</td>\n",
       "      <td>950000.0</td>\n",
       "    </tr>\n",
       "  </tbody>\n",
       "</table>\n",
       "</div>"
      ],
      "text/plain": [
       "       price_aprox_usd     price\n",
       "50387        117139.33  380000.0\n",
       "50388        292848.33  950000.0"
      ]
     },
     "metadata": {},
     "output_type": "display_data"
    }
   ],
   "source": [
    "data[['price_aprox_usd', 'price']][data.currency == 'PEN']"
   ]
  },
  {
   "cell_type": "code",
   "execution_count": null,
   "metadata": {},
   "outputs": [
    {
     "data": {
      "text/html": [
       "<div>\n",
       "<style scoped>\n",
       "    .dataframe tbody tr th:only-of-type {\n",
       "        vertical-align: middle;\n",
       "    }\n",
       "\n",
       "    .dataframe tbody tr th {\n",
       "        vertical-align: top;\n",
       "    }\n",
       "\n",
       "    .dataframe thead th {\n",
       "        text-align: right;\n",
       "    }\n",
       "</style>\n",
       "<table border=\"1\" class=\"dataframe\">\n",
       "  <thead>\n",
       "    <tr style=\"text-align: right;\">\n",
       "      <th></th>\n",
       "      <th>price_aprox_usd</th>\n",
       "      <th>price</th>\n",
       "    </tr>\n",
       "  </thead>\n",
       "  <tbody>\n",
       "    <tr>\n",
       "      <th>107390</th>\n",
       "      <td>22980378.29</td>\n",
       "      <td>650000000.0</td>\n",
       "    </tr>\n",
       "  </tbody>\n",
       "</table>\n",
       "</div>"
      ],
      "text/plain": [
       "        price_aprox_usd        price\n",
       "107390      22980378.29  650000000.0"
      ]
     },
     "metadata": {},
     "output_type": "display_data"
    }
   ],
   "source": [
    "data[['price_aprox_usd', 'price']][data.currency == 'UYU']"
   ]
  },
  {
   "cell_type": "code",
   "execution_count": null,
   "metadata": {},
   "outputs": [],
   "source": [
    "auxData = data['description']\n"
   ]
  },
  {
   "cell_type": "code",
   "execution_count": null,
   "metadata": {},
   "outputs": [
    {
     "data": {
      "text/plain": [
       "0    2 AMBIENTES TIPO CASA PLANTA BAJA POR PASILLO,...\n",
       "1    VENTA DE DEPARTAMENTO EN DÉCIMO PISO AL FRENTE...\n",
       "2    2 AMBIENTES 3ER PISO LATERAL LIVING COMEDOR AM...\n",
       "3    PH 3 AMBIENTES CON PATIO HAY 3 DEPTOS EN LOTE,...\n",
       "4    DEPARTAMENTO CON FANTÁSTICA ILUMINACIÓN NATURA...\n",
       "Name: description, dtype: object"
      ]
     },
     "metadata": {},
     "output_type": "display_data"
    }
   ],
   "source": [
    "auxData = auxData.str.upper()\n",
    "auxData = auxData.str.replace('.','', regex=True)\n",
    "auxData.fillna('', inplace = True)\n",
    "auxData.head()"
   ]
  },
  {
   "cell_type": "code",
   "execution_count": null,
   "metadata": {},
   "outputs": [
    {
     "data": {
      "text/plain": [
       "<bound method NDFrame.head of           0      1\n",
       "0       NaN    NaN\n",
       "1       U$D  20000\n",
       "2       NaN    NaN\n",
       "3       NaN    NaN\n",
       "4       NaN    NaN\n",
       "...     ...    ...\n",
       "121215  NaN    NaN\n",
       "121216  NaN    NaN\n",
       "121217  USD  20000\n",
       "121218  U$S  95900\n",
       "121219  NaN    NaN\n",
       "\n",
       "[121220 rows x 2 columns]>"
      ]
     },
     "metadata": {},
     "output_type": "display_data"
    }
   ],
   "source": [
    "auxData2 = auxData.str.extract('(USD|USS|US|U[$]D|U[$][$]|U[$]S)\\s?(\\d+)')\n",
    "auxData2.head"
   ]
  },
  {
   "cell_type": "code",
   "execution_count": null,
   "metadata": {},
   "outputs": [],
   "source": [
    "auxData2.columns=['USD', 'price']"
   ]
  },
  {
   "cell_type": "code",
   "execution_count": null,
   "metadata": {},
   "outputs": [
    {
     "data": {
      "text/plain": [
       "13039"
      ]
     },
     "metadata": {},
     "output_type": "display_data"
    }
   ],
   "source": [
    "auxData2.price.notnull().sum()"
   ]
  },
  {
   "cell_type": "code",
   "execution_count": null,
   "metadata": {},
   "outputs": [],
   "source": [
    "#aplico al dataset\n",
    "auxData2.price = pd.to_numeric(auxData2['price'])"
   ]
  },
  {
   "cell_type": "code",
   "execution_count": null,
   "metadata": {},
   "outputs": [],
   "source": [
    "data['price_aprox_usd'] = data['price_aprox_usd'].fillna(auxData2['price'])"
   ]
  },
  {
   "cell_type": "code",
   "execution_count": null,
   "metadata": {},
   "outputs": [
    {
     "data": {
      "text/plain": [
       "19278"
      ]
     },
     "metadata": {},
     "output_type": "display_data"
    }
   ],
   "source": [
    "data['price_aprox_usd'].isnull().sum()"
   ]
  },
  {
   "cell_type": "code",
   "execution_count": null,
   "metadata": {},
   "outputs": [],
   "source": [
    "#regex para tittle\n",
    "auxData3 = data['title']"
   ]
  },
  {
   "cell_type": "code",
   "execution_count": null,
   "metadata": {},
   "outputs": [],
   "source": [
    "# formateo auxData3 para el regex\n",
    "\n",
    "auxData3 = auxData3.str.upper()\n",
    "auxData3 = auxData3.str.replace('.', '', regex=True)\n",
    "auxData3.fillna('', inplace=True)"
   ]
  },
  {
   "cell_type": "code",
   "execution_count": null,
   "metadata": {},
   "outputs": [],
   "source": [
    "# hago la extracion\n",
    "auxData4 = auxData3.str.extract('(USD|USS|US|U[$]D|U[$][$]|U[$]S)\\s?(\\d+)')"
   ]
  },
  {
   "cell_type": "code",
   "execution_count": null,
   "metadata": {},
   "outputs": [],
   "source": [
    "# renombro columnas\n",
    "auxData4.columns = ['USD', 'price']"
   ]
  },
  {
   "cell_type": "code",
   "execution_count": null,
   "metadata": {},
   "outputs": [
    {
     "data": {
      "text/plain": [
       "6948"
      ]
     },
     "metadata": {},
     "output_type": "display_data"
    }
   ],
   "source": [
    "# tenemos 6948 precios que no son nulos\n",
    "auxData4.price.notnull().sum()"
   ]
  },
  {
   "cell_type": "code",
   "execution_count": null,
   "metadata": {},
   "outputs": [],
   "source": [
    "# paso a numero los precios\n",
    "auxData4.price = pd.to_numeric(auxData4['price'])"
   ]
  },
  {
   "cell_type": "code",
   "execution_count": null,
   "metadata": {},
   "outputs": [],
   "source": [
    "#Se aplica al dataset\n",
    "data['price_aprox_usd'] = data['price_aprox_usd'].fillna(auxData4['price'])"
   ]
  },
  {
   "cell_type": "code",
   "execution_count": null,
   "metadata": {},
   "outputs": [
    {
     "data": {
      "text/plain": [
       "17102"
      ]
     },
     "metadata": {},
     "output_type": "display_data"
    }
   ],
   "source": [
    "# Todavia tenemos 17102 valores nulos para price\n",
    "data['price_aprox_usd'].isnull().sum()"
   ]
  },
  {
   "cell_type": "code",
   "execution_count": null,
   "metadata": {},
   "outputs": [],
   "source": [
    "#Completamos hasta ahora 3308 vacíos, quedandonos con 17102 datos vacíos."
   ]
  },
  {
   "cell_type": "code",
   "execution_count": null,
   "metadata": {},
   "outputs": [
    {
     "name": "stdout",
     "output_type": "stream",
     "text": [
      "ymax: 129629628.45\n"
     ]
    },
    {
     "data": {
      "image/png": "[encoded data removed]",
      "text/plain": [
       "<Figure size 720x432 with 1 Axes>"
      ]
     },
     "metadata": {},
     "output_type": "display_data"
    }
   ],
   "source": [
    "#Separo valores de precios muy extremos para revaluar con coherencia:\n",
    "\n",
    "plt.figure(figsize=(10,6))\n",
    "plt.grid(True)\n",
    "plt.plot(range(len(data.price_aprox_usd)), data.price_aprox_usd, color='red')\n",
    "\n",
    "plt.xlabel('Index')\n",
    "plt.ylabel('Precio aproximado en dólares')\n",
    "plt.title('Valores de precios en dólares')\n",
    "\n",
    "xmin, xmax, ymin, ymax = plt.axis()\n",
    "print('ymax: %.2f'% ymax)"
   ]
  },
  {
   "cell_type": "code",
   "execution_count": null,
   "metadata": {},
   "outputs": [
    {
     "data": {
      "text/plain": [
       "count     68617.000000\n",
       "mean       2160.086916\n",
       "std        2759.288621\n",
       "min           0.600000\n",
       "25%        1218.181818\n",
       "50%        1800.000000\n",
       "75%        2486.411765\n",
       "max      206333.333333\n",
       "Name: price_usd_per_m2, dtype: float64"
      ]
     },
     "metadata": {},
     "output_type": "display_data"
    }
   ],
   "source": [
    "## precio por m2\n",
    "data.price_usd_per_m2.describe()"
   ]
  },
  {
   "cell_type": "code",
   "execution_count": null,
   "metadata": {},
   "outputs": [
    {
     "data": {
      "text/plain": [
       "Int64Index([     5,     20,     41,     62,     67,     76,     83,     84,\n",
       "                85,    100,\n",
       "            ...\n",
       "            121126, 121127, 121129, 121142, 121207, 121208, 121210, 121211,\n",
       "            121212, 121213],\n",
       "           dtype='int64', length=17102)"
      ]
     },
     "metadata": {},
     "output_type": "display_data"
    }
   ],
   "source": [
    "\n",
    "#Vemos los null\n",
    "data.price_aprox_usd[data.price_aprox_usd.isnull()].index\n"
   ]
  },
  {
   "cell_type": "code",
   "execution_count": null,
   "metadata": {},
   "outputs": [
    {
     "data": {
      "text/plain": [
       "17102"
      ]
     },
     "metadata": {},
     "output_type": "display_data"
    }
   ],
   "source": [
    "len(data.price_aprox_usd[data.price_aprox_usd.isnull()].index)"
   ]
  },
  {
   "cell_type": "code",
   "execution_count": null,
   "metadata": {},
   "outputs": [
    {
     "data": {
      "text/plain": [
       "Int64Index([     1,      3,      5,      9,     11,     20,     41,     62,\n",
       "                65,     67,\n",
       "            ...\n",
       "            121152, 121155, 121156, 121207, 121208, 121210, 121211, 121212,\n",
       "            121213, 121214],\n",
       "           dtype='int64', length=52603)"
      ]
     },
     "metadata": {},
     "output_type": "display_data"
    }
   ],
   "source": [
    "indices=data.price_usd_per_m2[data.price_usd_per_m2.isnull()].index\n",
    "indices"
   ]
  },
  {
   "cell_type": "code",
   "execution_count": null,
   "metadata": {},
   "outputs": [
    {
     "data": {
      "text/plain": [
       "52603"
      ]
     },
     "metadata": {},
     "output_type": "display_data"
    }
   ],
   "source": [
    "len(data.price_usd_per_m2[data.price_usd_per_m2.isnull()].index)"
   ]
  },
  {
   "cell_type": "code",
   "execution_count": null,
   "metadata": {},
   "outputs": [
    {
     "data": {
      "text/plain": [
       "Int64Index([     1,      3,      9,     11,     65,     68,     70,     71,\n",
       "                72,     77,\n",
       "            ...\n",
       "            121148, 121149, 121150, 121151, 121152, 121155, 121156, 121207,\n",
       "            121208, 121210],\n",
       "           dtype='int64', length=39328)"
      ]
     },
     "metadata": {},
     "output_type": "display_data"
    }
   ],
   "source": [
    "data.surface_total_in_m2[data.surface_total_in_m2.isnull()].index\n"
   ]
  },
  {
   "cell_type": "code",
   "execution_count": null,
   "metadata": {},
   "outputs": [
    {
     "data": {
      "text/plain": [
       "39328"
      ]
     },
     "metadata": {},
     "output_type": "display_data"
    }
   ],
   "source": [
    "len(data.surface_total_in_m2[data.surface_total_in_m2.isnull()].index)"
   ]
  },
  {
   "cell_type": "code",
   "execution_count": null,
   "metadata": {},
   "outputs": [],
   "source": [
    "price_usd_per_m2_nuevo = data[['price_aprox_usd','surface_total_in_m2']]\n",
    "\n",
    "price_usd_per_m2_nuevo = pd.DataFrame(price_usd_per_m2_nuevo.apply(lambda x: x['price_aprox_usd']/x['surface_total_in_m2'] \n",
    "                                   if(x['price_aprox_usd'] > 0 and x['surface_total_in_m2'] > 0 and x['price_aprox_usd'] > x['surface_total_in_m2']) \n",
    "                                   else np.nan, axis=1\n",
    "                                  )\n",
    "                     )"
   ]
  },
  {
   "cell_type": "code",
   "execution_count": null,
   "metadata": {},
   "outputs": [
    {
     "data": {
      "text/html": [
       "<div>\n",
       "<style scoped>\n",
       "    .dataframe tbody tr th:only-of-type {\n",
       "        vertical-align: middle;\n",
       "    }\n",
       "\n",
       "    .dataframe tbody tr th {\n",
       "        vertical-align: top;\n",
       "    }\n",
       "\n",
       "    .dataframe thead th {\n",
       "        text-align: right;\n",
       "    }\n",
       "</style>\n",
       "<table border=\"1\" class=\"dataframe\">\n",
       "  <thead>\n",
       "    <tr style=\"text-align: right;\">\n",
       "      <th></th>\n",
       "      <th>0</th>\n",
       "    </tr>\n",
       "  </thead>\n",
       "  <tbody>\n",
       "    <tr>\n",
       "      <th>0</th>\n",
       "      <td>1127.272727</td>\n",
       "    </tr>\n",
       "    <tr>\n",
       "      <th>1</th>\n",
       "      <td>NaN</td>\n",
       "    </tr>\n",
       "    <tr>\n",
       "      <th>2</th>\n",
       "      <td>1309.090909</td>\n",
       "    </tr>\n",
       "    <tr>\n",
       "      <th>3</th>\n",
       "      <td>NaN</td>\n",
       "    </tr>\n",
       "    <tr>\n",
       "      <th>4</th>\n",
       "      <td>1828.571429</td>\n",
       "    </tr>\n",
       "    <tr>\n",
       "      <th>...</th>\n",
       "      <td>...</td>\n",
       "    </tr>\n",
       "    <tr>\n",
       "      <th>121215</th>\n",
       "      <td>7699.115044</td>\n",
       "    </tr>\n",
       "    <tr>\n",
       "      <th>121216</th>\n",
       "      <td>1383.333333</td>\n",
       "    </tr>\n",
       "    <tr>\n",
       "      <th>121217</th>\n",
       "      <td>2858.695652</td>\n",
       "    </tr>\n",
       "    <tr>\n",
       "      <th>121218</th>\n",
       "      <td>1997.916667</td>\n",
       "    </tr>\n",
       "    <tr>\n",
       "      <th>121219</th>\n",
       "      <td>1675.324675</td>\n",
       "    </tr>\n",
       "  </tbody>\n",
       "</table>\n",
       "<p>121220 rows × 1 columns</p>\n",
       "</div>"
      ],
      "text/plain": [
       "                  0\n",
       "0       1127.272727\n",
       "1               NaN\n",
       "2       1309.090909\n",
       "3               NaN\n",
       "4       1828.571429\n",
       "...             ...\n",
       "121215  7699.115044\n",
       "121216  1383.333333\n",
       "121217  2858.695652\n",
       "121218  1997.916667\n",
       "121219  1675.324675\n",
       "\n",
       "[121220 rows x 1 columns]"
      ]
     },
     "metadata": {},
     "output_type": "display_data"
    }
   ],
   "source": [
    "price_usd_per_m2_nuevo"
   ]
  },
  {
   "cell_type": "code",
   "execution_count": null,
   "metadata": {},
   "outputs": [
    {
     "data": {
      "text/plain": [
       "0    2130.800129\n",
       "dtype: float64"
      ]
     },
     "metadata": {},
     "output_type": "display_data"
    }
   ],
   "source": [
    "price_usd_per_m2_nuevo.mean()\n"
   ]
  },
  {
   "cell_type": "code",
   "execution_count": null,
   "metadata": {},
   "outputs": [],
   "source": [
    "data.price_usd_per_m2.fillna(price_usd_per_m2_nuevo[0], inplace=True)\n"
   ]
  },
  {
   "cell_type": "code",
   "execution_count": null,
   "metadata": {},
   "outputs": [
    {
     "data": {
      "text/plain": [
       "50222"
      ]
     },
     "metadata": {},
     "output_type": "display_data"
    }
   ],
   "source": [
    "data.price_usd_per_m2.isnull().sum()\n"
   ]
  },
  {
   "cell_type": "markdown",
   "metadata": {},
   "source": [
    "Analizamos cómo fueron calculados los valores de precio por m2, para los datos que coinciden precio y precio_aprox_usd:"
   ]
  },
  {
   "cell_type": "code",
   "execution_count": null,
   "metadata": {},
   "outputs": [
    {
     "data": {
      "text/plain": [
       "(87588, 26)"
      ]
     },
     "metadata": {},
     "output_type": "display_data"
    }
   ],
   "source": [
    "#total\n",
    "data.loc[(data['price'] == data['price_aprox_usd'])].shape"
   ]
  },
  {
   "cell_type": "code",
   "execution_count": null,
   "metadata": {},
   "outputs": [
    {
     "data": {
      "text/plain": [
       "(0, 26)"
      ]
     },
     "metadata": {},
     "output_type": "display_data"
    }
   ],
   "source": [
    "#vacios\n",
    "data.loc[(data['price'] == data['price_aprox_usd']) & (data['price_aprox_usd'].isnull())].shape"
   ]
  },
  {
   "cell_type": "code",
   "execution_count": null,
   "metadata": {},
   "outputs": [
    {
     "data": {
      "text/plain": [
       "(60133, 26)"
      ]
     },
     "metadata": {},
     "output_type": "display_data"
    }
   ],
   "source": [
    "#price usd o price y sup total (bien)\n",
    "\n",
    "data.loc[(data['price'] == data['price_aprox_usd']) & (round(data['price_usd_per_m2'],2) == round((data['price_aprox_usd']/data['surface_total_in_m2']),2))].shape\n"
   ]
  },
  {
   "cell_type": "code",
   "execution_count": null,
   "metadata": {},
   "outputs": [
    {
     "data": {
      "text/plain": [
       "(18400, 26)"
      ]
     },
     "metadata": {},
     "output_type": "display_data"
    }
   ],
   "source": [
    "##price usd o price y sup cubierta\n",
    "\n",
    "data.loc[(data['price'] == data['price_aprox_usd']) & (round(data['price_usd_per_m2'],2) == round((data['price_aprox_usd']/data['surface_covered_in_m2']),2))].shape\n"
   ]
  },
  {
   "cell_type": "markdown",
   "metadata": {},
   "source": [
    "Notamos que fueron calculados de diferenctes maneras y que también hay datos erróneos.\n",
    "\n",
    "En todos los casos, reemplazamos la fórmula por la correcta:"
   ]
  },
  {
   "cell_type": "code",
   "execution_count": null,
   "metadata": {},
   "outputs": [],
   "source": [
    "data.price_usd_per_m2 = np.where((data['price'] != data['price_aprox_usd']) & (data['surface_total_in_m2'] != 0), data['price_aprox_usd']/data['surface_total_in_m2'], data['price_usd_per_m2'])\n"
   ]
  },
  {
   "cell_type": "code",
   "execution_count": null,
   "metadata": {},
   "outputs": [],
   "source": [
    "data.price_usd_per_m2 = np.where((data['price'] == data['price_aprox_usd'])  & (data['surface_total_in_m2'] != 0), data['price_aprox_usd']/data['surface_total_in_m2'], data['price_usd_per_m2'])\n"
   ]
  },
  {
   "cell_type": "code",
   "execution_count": null,
   "metadata": {},
   "outputs": [
    {
     "data": {
      "text/plain": [
       "50010"
      ]
     },
     "metadata": {},
     "output_type": "display_data"
    }
   ],
   "source": [
    "data.price_usd_per_m2.isnull().sum()\n"
   ]
  },
  {
   "cell_type": "code",
   "execution_count": null,
   "metadata": {},
   "outputs": [],
   "source": [
    "# Confirmar, se hizo la media y se completaron los nan\n",
    "data.price_usd_per_m2.fillna(data.groupby(['property_type', 'place_name'])['price_usd_per_m2'].transform('mean'), inplace=True)\n"
   ]
  },
  {
   "cell_type": "code",
   "execution_count": null,
   "metadata": {},
   "outputs": [
    {
     "data": {
      "text/plain": [
       "1542"
      ]
     },
     "metadata": {},
     "output_type": "display_data"
    }
   ],
   "source": [
    "data.price_usd_per_m2.isnull().sum()"
   ]
  },
  {
   "cell_type": "markdown",
   "metadata": {
    "collapsed": false,
    "pycharm": {
     "name": "#%% md\n"
    }
   },
   "source": [
    "## Property Type"
   ]
  },
  {
   "cell_type": "code",
   "execution_count": null,
   "metadata": {
    "collapsed": false,
    "pycharm": {
     "name": "#%%\n"
    }
   },
   "outputs": [],
   "source": [
    "# Vemos 4 valores distintos de property_type. \n",
    "# La mayor cantidad de anuncios son de Apartment y House\n",
    "print(data.property_type.value_counts())\n",
    "sns.histplot( x=\"property_type\", data=data, hue='property_type' )\n",
    "plt.show()\n"
   ]
  },
  {
   "cell_type": "code",
   "execution_count": null,
   "metadata": {
    "collapsed": false,
    "pycharm": {
     "name": "#%%\n"
    }
   },
   "outputs": [],
   "source": [
    "# Valores de property_type\n",
    "data.place_name.value_counts()"
   ]
  },
  {
   "cell_type": "markdown",
   "metadata": {
    "collapsed": false,
    "pycharm": {
     "name": "#%% md\n"
    }
   },
   "source": [
    "## Chequeamos si los valores de place_name coinciden con place_with_parent_names"
   ]
  },
  {
   "cell_type": "code",
   "execution_count": null,
   "metadata": {
    "collapsed": false,
    "pycharm": {
     "name": "#%%\n"
    }
   },
   "outputs": [],
   "source": [
    "# Chequeo si todos los place_names son correctos en place_with_parent_names\n",
    "# 23 --> a 23 registros le falta el place name\n",
    "place_coincide = data.apply(lambda x: True if str(x['place_with_parent_names']).find(str(x['place_name'])) >= 0 else False, axis=1)\n",
    "place_coincide.value_counts()"
   ]
  },
  {
   "cell_type": "code",
   "execution_count": null,
   "metadata": {
    "collapsed": false,
    "pycharm": {
     "name": "#%%\n"
    }
   },
   "outputs": [],
   "source": [
    "#Los que faltan son todos de Tigre\n",
    "data.place_name.isnull().value_counts()"
   ]
  },
  {
   "cell_type": "markdown",
   "metadata": {
    "collapsed": false,
    "pycharm": {
     "name": "#%% md\n"
    }
   },
   "source": [
    "## Imputamos los valores diferentes por Tigre\n"
   ]
  },
  {
   "cell_type": "code",
   "execution_count": null,
   "metadata": {
    "collapsed": false,
    "pycharm": {
     "name": "#%%\n"
    }
   },
   "outputs": [],
   "source": [
    "#Imputamos los valores faltantes en place_name con el Valor de Tigre.\n",
    "data['place_name'] = data['place_name'].replace('nan', 'Tigre')\n",
    "\n",
    "#Chequeamos los valores\n",
    "place_coincide = data.apply(lambda x: True if str(x['place_with_parent_names']).find(str(x['place_name'])) >= 0 else False, axis=1)\n",
    "place_coincide.value_counts()\n",
    "\n",
    "mask= place_coincide== False\n",
    "data[mask]\n",
    "\n",
    "data.iloc[6489]"
   ]
  },
  {
   "cell_type": "code",
   "execution_count": null,
   "metadata": {
    "collapsed": false,
    "pycharm": {
     "name": "#%%\n"
    }
   },
   "outputs": [],
   "source": [
    "#Hay nombres de place_name que tiene espacios al principio/final del string\n",
    "data['place_name'] = data['place_name'].apply(lambda x : str(x).strip())"
   ]
  },
  {
   "cell_type": "markdown",
   "metadata": {
    "collapsed": false,
    "pycharm": {
     "name": "#%% md\n"
    }
   },
   "source": [
    "## Chequeamos si los valores de state_name coinciden con place_with_parent_names\n"
   ]
  },
  {
   "cell_type": "code",
   "execution_count": null,
   "metadata": {
    "collapsed": false,
    "pycharm": {
     "name": "#%%\n"
    }
   },
   "outputs": [],
   "source": [
    "# Chequeo si todos los state_names son correctos en place_with_parent_names.\n",
    "# 121220 --> Todos OK \n",
    "state_coincide = data.apply(lambda x: True if str(x['place_with_parent_names']).find(str(x['state_name'])) >= 0 else False, axis=1)\n",
    "state_coincide.value_counts()"
   ]
  },
  {
   "cell_type": "code",
   "execution_count": null,
   "metadata": {
    "collapsed": false,
    "pycharm": {
     "name": "#%%\n"
    }
   },
   "outputs": [],
   "source": [
    "# Chequeo si todos los country_names son correctos en place_with_parent_names\n",
    "# 121220 --> Todos OK \n",
    "country_coincide = data.apply(lambda x: True if str(x['place_with_parent_names']).find(str(x['country_name'])) >= 0 else False, axis=1)\n",
    "country_coincide.value_counts()"
   ]
  },
  {
   "cell_type": "code",
   "execution_count": null,
   "metadata": {
    "collapsed": false,
    "pycharm": {
     "name": "#%%\n"
    }
   },
   "outputs": [],
   "source": [
    "#Verificamos los diferentes valores de country_name\n",
    "data['country_name'].value_counts()"
   ]
  },
  {
   "cell_type": "markdown",
   "metadata": {
    "collapsed": false,
    "pycharm": {
     "name": "#%% md\n"
    }
   },
   "source": [
    "## Dropeamos country_name"
   ]
  },
  {
   "cell_type": "code",
   "execution_count": null,
   "metadata": {
    "collapsed": false,
    "pycharm": {
     "name": "#%%\n"
    }
   },
   "outputs": [],
   "source": [
    "#Drop country_name porque tiene un solo valor\n",
    "data.drop('country_name', inplace=True, axis=1)"
   ]
  },
  {
   "cell_type": "markdown",
   "metadata": {
    "collapsed": false,
    "pycharm": {
     "name": "#%% md\n"
    }
   },
   "source": [
    "## State Name"
   ]
  },
  {
   "cell_type": "code",
   "execution_count": null,
   "metadata": {
    "collapsed": false,
    "pycharm": {
     "name": "#%%\n"
    }
   },
   "outputs": [],
   "source": [
    "#Top 10 Provincias con mas propiedades\n",
    "s= data.state_name.value_counts().nlargest(10)\n",
    "print(s)\n",
    "plt.figure(figsize=(25, 8))\n",
    "\n",
    "#Histplot con propiedades por provincia\n",
    "g =sns.histplot(x=\"state_name\",  data=data)\n",
    "g.set(xlim=(0,10))\n",
    "plt.show()"
   ]
  },
  {
   "cell_type": "markdown",
   "metadata": {
    "collapsed": false,
    "pycharm": {
     "name": "#%% md\n"
    }
   },
   "source": [
    "## State Name // Group By"
   ]
  },
  {
   "cell_type": "code",
   "execution_count": null,
   "metadata": {
    "collapsed": false,
    "pycharm": {
     "name": "#%%\n"
    }
   },
   "outputs": [],
   "source": [
    "# Chequeo de la cantidad de publicaciones por state_name ordenada.\n",
    "\n",
    "#data.columns\n",
    "#data_grouped = data.groupby(['state_name'])\n",
    "#display(data_grouped.describe().sort_values(by=('price_aprox_usd','count'), ascending=False)['price_aprox_usd'].round)\n",
    "#data_grouped.describe().sort_values(by=('price_aprox_usd','count'), ascending=False)['price_aprox_usd'].round\n",
    "\n",
    "# // Creo que lo de arriba puede ser reemplazable por la linea 9. Es mas prolijo y le agrega el valor de armarlo por property type.\n",
    "# De todas maneras podriamos poner esto aparte ya que parece datos estadisticos y podria ir en otra seccion.\n",
    "\n",
    "data.groupby(['state_name', 'property_type'])[['price_aprox_usd']].describe()\n",
    "\n"
   ]
  },
  {
   "cell_type": "markdown",
   "metadata": {
    "collapsed": false,
    "pycharm": {
     "name": "#%% md\n"
    }
   },
   "source": [
    "## Currency"
   ]
  },
  {
   "cell_type": "code",
   "execution_count": null,
   "metadata": {
    "collapsed": false,
    "pycharm": {
     "name": "#%%\n"
    }
   },
   "outputs": [],
   "source": [
    "#Verificamos los valores de currency\n",
    "data['currency'].value_counts()"
   ]
  },
  {
   "cell_type": "markdown",
   "metadata": {
    "collapsed": false,
    "pycharm": {
     "name": "#%% md\n"
    }
   },
   "source": [
    "## Tipo de Cambio"
   ]
  },
  {
   "cell_type": "code",
   "execution_count": null,
   "metadata": {
    "collapsed": false,
    "pycharm": {
     "name": "#%%\n"
    }
   },
   "outputs": [],
   "source": [
    "#Verificamos el tipo de cambio y si el price_aprox_usd es correcto con respecto al price_aprox_local_currency\n",
    "\n",
    "data[\"tipo_de_cambio\"]=round(data.price_aprox_local_currency/data.price_aprox_usd,2)\n",
    "print(f'Desvío tipo de cambio= ', data.tipo_de_cambio.std())\n",
    "print(data['tipo_de_cambio'].value_counts())\n",
    "print(f'Tipo de cambio nulos: ', data.tipo_de_cambio.isnull().sum())\n"
   ]
  },
  {
   "cell_type": "markdown",
   "metadata": {
    "collapsed": false,
    "pycharm": {
     "name": "#%% md\n"
    }
   },
   "source": [
    "# Analisis Estadistico Descriptivo"
   ]
  },
  {
   "cell_type": "markdown",
   "metadata": {
    "collapsed": false,
    "pycharm": {
     "name": "#%% md\n"
    }
   },
   "source": [
    "## Price Aprox USD"
   ]
  },
  {
   "cell_type": "code",
   "execution_count": null,
   "metadata": {
    "collapsed": false,
    "pycharm": {
     "name": "#%%\n"
    }
   },
   "outputs": [],
   "source": [
    "#Quartiles para graficar outliers de Price aprox USD\n",
    "data['price_aprox_usd'].quantile([.95, .98, .99, .995, .998])\n"
   ]
  },
  {
   "cell_type": "code",
   "execution_count": null,
   "metadata": {
    "collapsed": false,
    "pycharm": {
     "name": "#%%\n"
    }
   },
   "outputs": [],
   "source": [
    "import matplotlib.pyplot as plt\n",
    "import seaborn as sns\n",
    "\n",
    "\n",
    "plt.figure(figsize=(18, 10))\n",
    "sns.boxplot(\n",
    "    data=data, x=\"property_type\", y=data[data['price_aprox_usd'] < 700000]['price_aprox_usd'],\n",
    "    notch=True, showcaps=False,\n",
    "    flierprops={\"marker\": \"x\"},\n",
    "    boxprops={\"facecolor\": (.4, .6, .8, .5)},\n",
    "    medianprops={\"color\": \"coral\"},\n",
    ")\n"
   ]
  },
  {
   "cell_type": "markdown",
   "metadata": {
    "collapsed": false,
    "pycharm": {
     "name": "#%% md\n"
    }
   },
   "source": [
    "## Surface Aprox USD"
   ]
  },
  {
   "cell_type": "code",
   "execution_count": null,
   "metadata": {
    "collapsed": false,
    "pycharm": {
     "name": "#%%\n"
    }
   },
   "outputs": [],
   "source": [
    "#Quartiles para graficar surface total in m2\n",
    "data['surface_total_in_m2'].quantile([.95, .98, .99, .995, .998])\n"
   ]
  },
  {
   "cell_type": "code",
   "execution_count": null,
   "metadata": {
    "collapsed": false,
    "pycharm": {
     "name": "#%%\n"
    }
   },
   "outputs": [],
   "source": [
    "import matplotlib.pyplot as plt\n",
    "import seaborn as sns\n",
    "\n",
    "\n",
    "plt.figure(figsize=(16, 8))\n",
    "sns.boxplot(\n",
    "    data=data, x=\"property_type\", y=data[data['surface_total_in_m2'] < 700]['surface_total_in_m2'],\n",
    "    notch=True, showcaps=False,\n",
    "    flierprops={\"marker\": \"x\"},\n",
    "    boxprops={\"facecolor\": (.4, .6, .8, .5)},\n",
    "    medianprops={\"color\": \"coral\"},\n",
    ")\n"
   ]
  },
  {
   "cell_type": "markdown",
   "metadata": {
    "collapsed": false,
    "pycharm": {
     "name": "#%% md\n"
    }
   },
   "source": [
    "## Top 10 StateName por propiedades"
   ]
  },
  {
   "cell_type": "code",
   "execution_count": null,
   "metadata": {
    "collapsed": false,
    "pycharm": {
     "name": "#%%\n"
    }
   },
   "outputs": [],
   "source": [
    "#Top 10 filtro para State Name grafico 10 provincias con mayor cantidad de propiedades\n",
    "mask_100_state_name =data.state_name.value_counts().nlargest(10)\n",
    "\n",
    "list=[]\n",
    "for i in mask_100_state_name.items():\n",
    "    list.append(i[0])\n",
    "print(list)\n",
    "\n",
    "\n",
    "mask_list=data.state_name.isin(list)\n",
    "\n",
    "plt.figure(figsize=(30, 8))\n",
    "sns.histplot(\n",
    "    data=data[mask_list], x=\"state_name\", stat='count'\n",
    ")\n",
    "\n",
    "print(data.state_name.value_counts().nlargest(10))\n",
    "#data.state_name.unique()"
   ]
  },
  {
   "cell_type": "code",
   "execution_count": null,
   "metadata": {
    "collapsed": false,
    "pycharm": {
     "name": "#%%\n"
    }
   },
   "outputs": [],
   "source": [
    "#Graficamos por property type y price_aprox_usd\n",
    "#Pareceria haber outliers en Apartments > 4, houses > 2 y stores > 1\n",
    "sns.scatterplot(data=data, x='property_type', y=\"price_aprox_usd\", alpha=0.4)"
   ]
  },
  {
   "cell_type": "code",
   "execution_count": null,
   "metadata": {
    "collapsed": false,
    "pycharm": {
     "name": "#%%\n"
    }
   },
   "outputs": [],
   "source": [
    "#Graficamos por property type y surface_total_in_m2\n",
    "#Pareceria haber outliers en Apartments > 25000, houses > 100000 y stores > 75000\n",
    "sns.scatterplot(data=data, x='property_type', y=\"surface_total_in_m2\", alpha=0.4)"
   ]
  },
  {
   "cell_type": "code",
   "execution_count": null,
   "metadata": {
    "collapsed": false,
    "pycharm": {
     "name": "#%%\n"
    }
   },
   "outputs": [],
   "source": [
    "#Graficamos por property type y surface_covered_in_m2\n",
    "#Pareceria haber outliers en Apartments > 50000\n",
    "sns.scatterplot(data=data, x='property_type', y=\"surface_covered_in_m2\", alpha=0.4)"
   ]
  },
  {
   "cell_type": "markdown",
   "metadata": {
    "collapsed": false,
    "pycharm": {
     "name": "#%% md\n"
    }
   },
   "source": [
    "## Correlacion entre Expensas, Superficie total y Precio por M2 (Capital Federal)"
   ]
  },
  {
   "cell_type": "code",
   "execution_count": null,
   "metadata": {
    "collapsed": false,
    "pycharm": {
     "name": "#%%\n"
    }
   },
   "outputs": [],
   "source": [
    "data_deptos_40=(data.surface_covered_in_m2==40)&(data.property_type==\"apartment\")&(data.state_name==\"Capital Federal\")\n",
    "data[data_deptos_40]\n",
    "sns.scatterplot(data=data[data_deptos_40],x=\"expenses\",y=\"price_aprox_usd\")"
   ]
  },
  {
   "cell_type": "code",
   "execution_count": null,
   "metadata": {
    "collapsed": false,
    "pycharm": {
     "name": "#%%\n"
    }
   },
   "outputs": [],
   "source": [
    "data_deptos_50=(data.surface_covered_in_m2==50)&(data.property_type==\"apartment\")&(data.state_name==\"Capital Federal\")\n",
    "data[data_deptos_50]\n",
    "sns.scatterplot(data=data[data_deptos_50],x=\"expenses\",y=\"price_aprox_usd\")"
   ]
  },
  {
   "cell_type": "code",
   "execution_count": null,
   "metadata": {
    "collapsed": false,
    "pycharm": {
     "name": "#%%\n"
    }
   },
   "outputs": [],
   "source": [
    "data_deptos_60=(data.surface_covered_in_m2==60)&(data.property_type==\"apartment\")&(data.state_name==\"Capital Federal\")\n",
    "data[data_deptos_60]\n",
    "sns.scatterplot(data=data[data_deptos_60],x=\"expenses\",y=\"price_aprox_usd\")"
   ]
  },
  {
   "cell_type": "code",
   "execution_count": null,
   "metadata": {
    "collapsed": false,
    "pycharm": {
     "name": "#%%\n"
    }
   },
   "outputs": [],
   "source": [
    "#SUMAR GRAFICOS ELEONORA DE AMBIENTES Y M2"
   ]
  },
  {
   "cell_type": "code",
   "execution_count": null,
   "metadata": {
    "collapsed": false,
    "pycharm": {
     "name": "#%%\n"
    }
   },
   "outputs": [],
   "source": [
    "#Prodiamos dropear las siguientes columnas porque no agregan valor\n",
    "#image_thumbnail \n",
    "#properati_url"
   ]
  },
  {
   "cell_type": "markdown",
   "metadata": {
    "collapsed": false,
    "pycharm": {
     "name": "#%% md\n"
    }
   },
   "source": [
    "## Lat - Lon: Datos geoespaciales\n"
   ]
  },
  {
   "cell_type": "markdown",
   "metadata": {
    "collapsed": false,
    "pycharm": {
     "name": "#%% md\n"
    }
   },
   "source": [
    "Tomando los valores de las columnas latitud y longitud para hacer un análisis geo espacial de los datos, viendo dónde se encuentran ubicadas las propiedades en la Argentina y luego cómo es su distribución en Capital Federal."
   ]
  },
  {
   "cell_type": "markdown",
   "metadata": {
    "collapsed": false,
    "pycharm": {
     "name": "#%% md\n"
    }
   },
   "source": [
    "### Argentina\n"
   ]
  },
  {
   "cell_type": "code",
   "execution_count": null,
   "metadata": {
    "collapsed": false,
    "pycharm": {
     "name": "#%%\n"
    }
   },
   "outputs": [],
   "source": [
    "geometria_data = gpd.points_from_xy(data['lon'], data['lat'])\n",
    "data_geo=gpd.GeoDataFrame(data, geometry=geometria_data)"
   ]
  },
  {
   "cell_type": "code",
   "execution_count": null,
   "metadata": {
    "collapsed": false,
    "pycharm": {
     "name": "#%%\n"
    }
   },
   "outputs": [],
   "source": [
    "world = gpd.read_file(gpd.datasets.get_path('naturalearth_lowres'))\n",
    "world.head(2)"
   ]
  },
  {
   "cell_type": "code",
   "execution_count": null,
   "metadata": {
    "collapsed": false,
    "pycharm": {
     "name": "#%%\n"
    }
   },
   "outputs": [],
   "source": [
    "arg = world[world.name == 'Argentina']\n",
    "arg.head(3)"
   ]
  },
  {
   "cell_type": "code",
   "execution_count": null,
   "metadata": {
    "collapsed": false,
    "pycharm": {
     "name": "#%%\n"
    }
   },
   "outputs": [],
   "source": [
    "data_geo['is_in_arg'] = data_geo['geometry'].apply(lambda x: arg.iloc[0]['geometry'].contains(x))\n",
    "data_geo['is_in_arg'].value_counts()"
   ]
  },
  {
   "cell_type": "code",
   "execution_count": null,
   "metadata": {
    "collapsed": false,
    "pycharm": {
     "name": "#%%\n"
    }
   },
   "outputs": [],
   "source": [
    "# Mapa de Argentina\n",
    "ax = arg.plot(color='white', edgecolor='black')\n",
    "\n",
    "# Propiedades\n",
    "data_geo.loc[data_geo.is_in_arg==True].plot(ax=ax, color='blue', markersize=0.50)\n",
    "\n",
    "plt.show()"
   ]
  },
  {
   "cell_type": "markdown",
   "metadata": {
    "collapsed": false,
    "pycharm": {
     "name": "#%% md\n"
    }
   },
   "source": [
    "### Capital Federal"
   ]
  },
  {
   "cell_type": "markdown",
   "metadata": {
    "collapsed": false,
    "pycharm": {
     "name": "#%% md\n"
    }
   },
   "source": [
    "Tomamos un archivo con los datos correspondientes a las comunas de CABA para así ver la distribución espacial de las propiedades."
   ]
  },
  {
   "cell_type": "code",
   "execution_count": null,
   "metadata": {
    "collapsed": false,
    "pycharm": {
     "name": "#%%\n"
    }
   },
   "outputs": [],
   "source": [
    "barrios = pd.read_csv(\"./barrios.csv\", encoding='latin1')\n",
    "barrios.head()"
   ]
  },
  {
   "cell_type": "code",
   "execution_count": null,
   "metadata": {
    "collapsed": false,
    "pycharm": {
     "name": "#%%\n"
    }
   },
   "outputs": [],
   "source": [
    "barrios[\"WKT\"] = barrios[\"WKT\"].apply(shapely.wkt.loads) \n",
    "geo_barrios = gpd.GeoDataFrame(barrios, geometry='WKT')"
   ]
  },
  {
   "cell_type": "code",
   "execution_count": null,
   "metadata": {
    "collapsed": false,
    "pycharm": {
     "name": "#%%\n"
    }
   },
   "outputs": [],
   "source": [
    "geo_barrios.plot()"
   ]
  },
  {
   "cell_type": "code",
   "execution_count": null,
   "metadata": {
    "collapsed": false,
    "pycharm": {
     "name": "#%%\n"
    }
   },
   "outputs": [],
   "source": [
    "capital_federal_completo = data.loc[data.state_name.str.contains('Capital Federal') == True]\n",
    "capital_federal = capital_federal_completo.loc[(capital_federal_completo.lat > -35) & (capital_federal_completo.lon > -60), :]\n",
    "\n",
    "#capital_federal.info()\n",
    "#capital_federal_1.info()\n",
    "\n",
    "print(len(capital_federal))\n",
    "print(len(capital_federal_completo))"
   ]
  },
  {
   "cell_type": "code",
   "execution_count": null,
   "metadata": {
    "collapsed": false,
    "pycharm": {
     "name": "#%%\n"
    }
   },
   "outputs": [],
   "source": [
    "geometria = gpd.points_from_xy(capital_federal['lon'], capital_federal['lat'])"
   ]
  },
  {
   "cell_type": "code",
   "execution_count": null,
   "metadata": {
    "collapsed": false,
    "pycharm": {
     "name": "#%%\n"
    }
   },
   "outputs": [],
   "source": [
    "capital_federal_geo=gpd.GeoDataFrame(capital_federal, geometry=geometria)\n",
    "\n",
    "capital_federal_geo.crs = {'init' :'epsg:4326'}"
   ]
  },
  {
   "cell_type": "code",
   "execution_count": null,
   "metadata": {
    "collapsed": false,
    "pycharm": {
     "name": "#%%\n"
    }
   },
   "outputs": [],
   "source": [
    "fig, ax = plt.subplots(figsize=(12, 10))\n",
    "ax.set_aspect('equal')\n",
    "geo_barrios.plot(ax=ax, color='white', edgecolor='black')\n",
    "capital_federal_geo.plot(ax=ax, color='red',markersize=0.25)\n",
    "plt.show();"
   ]
  },
  {
   "cell_type": "markdown",
   "metadata": {
    "collapsed": false,
    "pycharm": {
     "name": "#%% md\n"
    }
   },
   "source": [
    "Incluimos una nueva base de datos que contiene las estaciones de subte de la ciudad con su información georeferenciada."
   ]
  },
  {
   "cell_type": "code",
   "execution_count": null,
   "metadata": {
    "collapsed": false,
    "pycharm": {
     "name": "#%%\n"
    }
   },
   "outputs": [],
   "source": [
    "data_location = \"./estaciones-de-subte.csv\"\n",
    "\n",
    "df_subte = pd.read_csv(data_location, sep=',')\n",
    "\n",
    "geometria = gpd.points_from_xy(df_subte.long, df_subte.lat)\n",
    "\n",
    "geo_subte = gpd.GeoDataFrame(df_subte ,geometry=geometria)\n",
    "\n",
    "geo_subte.plot()"
   ]
  },
  {
   "cell_type": "markdown",
   "metadata": {
    "collapsed": false,
    "pycharm": {
     "name": "#%% md\n"
    }
   },
   "source": [
    "Graficamos las propiedades y las estaciones de subte en la Ciudad Autónoma de Buenos Aires para ver cual es la distribución y su proximidad con alguna estación de subte."
   ]
  },
  {
   "cell_type": "code",
   "execution_count": null,
   "metadata": {
    "collapsed": false,
    "pycharm": {
     "name": "#%%\n"
    }
   },
   "outputs": [],
   "source": [
    "fig, ax = plt.subplots(figsize=(12, 10))\n",
    "ax.set_aspect('equal')\n",
    "geo_barrios.plot(ax=ax, color='white', edgecolor='black')\n",
    "capital_federal_geo.plot(ax=ax, color='red',markersize=0.25)\n",
    "geo_subte.plot(ax=ax, color='blue',markersize=15)\n",
    "plt.show();"
   ]
  },
  {
   "cell_type": "markdown",
   "metadata": {
    "collapsed": false,
    "pycharm": {
     "name": "#%% md\n"
    }
   },
   "source": [
    "Calculamos la distancia que tiene cada propiedad con la estación de subte más cercana."
   ]
  },
  {
   "cell_type": "code",
   "execution_count": null,
   "metadata": {
    "collapsed": false,
    "pycharm": {
     "name": "#%%\n"
    }
   },
   "outputs": [],
   "source": [
    "def calculate_distance_min(p,geo_subte):\n",
    "    distances = geo_subte.distance(p.geometry)\n",
    "    return distances.min()\n"
   ]
  },
  {
   "cell_type": "code",
   "execution_count": null,
   "metadata": {
    "collapsed": false,
    "pycharm": {
     "name": "#%%\n"
    }
   },
   "outputs": [],
   "source": [
    "capital_federal_geo['distancia_subte_km']= capital_federal_geo.apply(lambda x: calculate_distance_min(x, geo_subte), axis=1)"
   ]
  },
  {
   "cell_type": "code",
   "execution_count": null,
   "metadata": {
    "collapsed": false,
    "pycharm": {
     "name": "#%%\n"
    }
   },
   "outputs": [],
   "source": [
    "print(data_geo['distancia_subte_km'])"
   ]
  },
  {
   "cell_type": "markdown",
   "metadata": {
    "collapsed": false,
    "pycharm": {
     "name": "#%% md\n"
    }
   },
   "source": [
    "Evaluamos si hay relación entre el precio del metro cuadrado de la propiedad con la cercanía que tiene a una estación de subte."
   ]
  }
 ],
 "metadata": {
  "kernelspec": {
   "display_name": "Python 3.7.13 ('dhdsblend2021_geopandas')",
   "language": "python",
   "name": "python3"
  },
  "language_info": {
   "codemirror_mode": {
    "name": "ipython",
    "version": 3
   },
   "file_extension": ".py",
   "mimetype": "text/x-python",
   "name": "python",
   "nbconvert_exporter": "python",
   "pygments_lexer": "ipython3",
   "version": "3.7.13"
  },
  "orig_nbformat": 4,
  "vscode": {
   "interpreter": {
    "hash": "38af14351ff4990e41def0758694a8dfd960bc5ceb7361ae7583bbac5704791e"
   }
  }
 },
 "nbformat": 4,
 "nbformat_minor": 2
}
