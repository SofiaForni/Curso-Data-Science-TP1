{
 "cells": [
  {
   "cell_type": "markdown",
   "metadata": {
    "pycharm": {
     "name": "#%% md\n"
    }
   },
   "source": [
    "# Trabajo Práctico 1"
   ]
  },
  {
   "cell_type": "code",
   "execution_count": null,
   "outputs": [],
   "source": [
    "import pandas as pd\n",
    "import seaborn as sns\n",
    "import geopandas as gpd\n",
    "import matplotlib.pyplot as plt\n",
    "import descartes\n",
    "import pyproj\n",
    "import shapely.wkt\n",
    "import numpy as np"
   ],
   "metadata": {
    "collapsed": false,
    "pycharm": {
     "name": "#%%\n"
    }
   }
  },
  {
   "cell_type": "markdown",
   "source": [
    " # Glosario columnas\n",
    "\n",
    "-  operation: tipo de operacion (venta)\n",
    "-  property type: tipo de propiedad (house, PH, apartment, store)\n",
    "-  place_name: localidad de la propiedad.\n",
    "-  place_with_parent_names: localidad junto a provinca, pais.\n",
    "-  country_name: pais donde se encuentra la propiedad.\n",
    "-  state_name: provincia donde se encuentra la propiedad.\n",
    "-  geonames_id: número de identificación en la base de datos GeoNames.\n",
    "-  lat-lon: latitud y longitud juntos.\n",
    "-  lat: latidud.\n",
    "-  lon: longitud.\n",
    "-  price: precio de la propiedad en relacion a su moneda.\n",
    "-  currency: moneda en la que se encuentra valorizada la propiedad.\n",
    "-  price_aprox_local_currency: precio aproximado en pesos de la propiedad.\n",
    "-  price_aprox_usd: precio aproximado del inmueble en dólares.\n",
    "-  surface_total_in_m2: superficie total del inmueble en metros cuadrados.\n",
    "-  surface_covered_in_m2: superficie cubierta del inmueble en metros cuadrados.\n",
    "-  price_usd_per_m2: precio en dólares del metro cuadrado vs total m2.\n",
    "-  price_per_m2: precio, no se sabe en qué moneda.\n",
    "-  floor: piso? no es claro, valores extraños.\n",
    "-  rooms: cantidad de habitaciones.\n",
    "-  expenses: valor de las expensas.\n",
    "-  properati_url: url de la url de properati donde está publicado el inmueble.\n",
    "-  description: descripción completa de todo el inmueble. Contiene información de todas las columnas y más.\n",
    "-  title: título con el que se encuentra publicado. Aparece el tipo de propiedad, zona y alguna característica destacada como cantidad de ambientes.\n",
    "-  image_thumbnail: fotos del inmueble."
   ],
   "metadata": {
    "collapsed": false,
    "pycharm": {
     "name": "#%% md\n"
    }
   }
  },
  {
   "cell_type": "markdown",
   "source": [
    "# Leemos el dataset"
   ],
   "metadata": {
    "collapsed": false,
    "pycharm": {
     "name": "#%% md\n"
    }
   }
  },
  {
   "cell_type": "code",
   "execution_count": null,
   "outputs": [],
   "source": [
    "data=pd.read_csv('./properatti.csv')"
   ],
   "metadata": {
    "collapsed": false,
    "pycharm": {
     "name": "#%%\n"
    }
   }
  },
  {
   "cell_type": "markdown",
   "source": [
    "# Observamos las diferentes columnas, los tipos de datos y cuantos valores no nulos tienen\n"
   ],
   "metadata": {
    "collapsed": false,
    "pycharm": {
     "name": "#%% md\n"
    }
   }
  },
  {
   "cell_type": "code",
   "execution_count": null,
   "outputs": [],
   "source": [
    "data.info()"
   ],
   "metadata": {
    "collapsed": false,
    "pycharm": {
     "name": "#%%\n"
    }
   }
  },
  {
   "cell_type": "code",
   "execution_count": null,
   "outputs": [],
   "source": [
    "#El metodo describe arroja principalmente estadisticas descriptivas para columnas con datos cuantitativos, es por ello que vemos tan solo 14 columnas del dataset\n",
    "data.describe()"
   ],
   "metadata": {
    "collapsed": false,
    "pycharm": {
     "name": "#%%\n"
    }
   }
  },
  {
   "cell_type": "code",
   "execution_count": null,
   "outputs": [],
   "source": [
    "#Tomamos una muestra para entender los valores del dataset\n",
    "data.sample(10)"
   ],
   "metadata": {
    "collapsed": false,
    "pycharm": {
     "name": "#%%\n"
    }
   }
  },
  {
   "cell_type": "markdown",
   "source": [
    "# EDA (Exploration Data Analysis)"
   ],
   "metadata": {
    "collapsed": false,
    "pycharm": {
     "name": "#%% md\n"
    }
   }
  },
  {
   "cell_type": "markdown",
   "source": [
    "# Porcentaje por columna\n"
   ],
   "metadata": {
    "collapsed": false,
    "pycharm": {
     "name": "#%% md\n"
    }
   }
  },
  {
   "cell_type": "code",
   "execution_count": null,
   "outputs": [],
   "source": [
    "#Porcentaje de nulls respecto al total del dataset por columna\n",
    "\n",
    "percent_missing = data.isnull().sum() * 100 / len(data)\n",
    "missing_value_df = pd.DataFrame({'column_name': data.columns,\n",
    "                                 'percent_missing': percent_missing})\n",
    "\n",
    "missing_value_df.sort_values('percent_missing', inplace=True, ascending=False)\n",
    "missing_value_df"
   ],
   "metadata": {
    "collapsed": false,
    "pycharm": {
     "name": "#%%\n"
    }
   }
  },
  {
   "cell_type": "code",
   "execution_count": null,
   "outputs": [],
   "source": [
    "# Verificamos que todas las operaciones sean de tipo \"Venta\" // Podemos descartar esta columna\n",
    "data.operation.value_counts()"
   ],
   "metadata": {
    "collapsed": false,
    "pycharm": {
     "name": "#%%\n"
    }
   }
  },
  {
   "cell_type": "markdown",
   "source": [
    "# Dropeamos (descartamos) la columna operation porque tiene un solo valor"
   ],
   "metadata": {
    "collapsed": false,
    "pycharm": {
     "name": "#%% md\n"
    }
   }
  },
  {
   "cell_type": "code",
   "execution_count": null,
   "outputs": [],
   "source": [
    "data.drop('operation',inplace=True, axis=1)"
   ],
   "metadata": {
    "collapsed": false,
    "pycharm": {
     "name": "#%%\n"
    }
   }
  },
  {
   "cell_type": "markdown",
   "source": [
    "# Property Type"
   ],
   "metadata": {
    "collapsed": false,
    "pycharm": {
     "name": "#%% md\n"
    }
   }
  },
  {
   "cell_type": "code",
   "execution_count": null,
   "outputs": [],
   "source": [
    "# Vemos 4 valores distintos de property_type. \n",
    "# La mayor cantidad de anuncios son de Apartment y House\n",
    "print(data.property_type.value_counts())\n",
    "sns.histplot( x=\"property_type\", data=data, hue='property_type' )\n",
    "plt.show()\n"
   ],
   "metadata": {
    "collapsed": false,
    "pycharm": {
     "name": "#%%\n"
    }
   }
  },
  {
   "cell_type": "code",
   "execution_count": null,
   "outputs": [],
   "source": [
    "# Valores de property_type\n",
    "data.place_name.value_counts()"
   ],
   "metadata": {
    "collapsed": false,
    "pycharm": {
     "name": "#%%\n"
    }
   }
  },
  {
   "cell_type": "markdown",
   "source": [
    "# Chequeamos si los valores de place_name coinciden con place_with_parent_names"
   ],
   "metadata": {
    "collapsed": false,
    "pycharm": {
     "name": "#%% md\n"
    }
   }
  },
  {
   "cell_type": "code",
   "execution_count": null,
   "outputs": [],
   "source": [
    "# Chequeo si todos los place_names son correctos en place_with_parent_names\n",
    "# 23 --> a 23 registros le falta el place name\n",
    "place_coincide = data.apply(lambda x: True if str(x['place_with_parent_names']).find(str(x['place_name'])) >= 0 else False, axis=1)\n",
    "place_coincide.value_counts()"
   ],
   "metadata": {
    "collapsed": false,
    "pycharm": {
     "name": "#%%\n"
    }
   }
  },
  {
   "cell_type": "code",
   "execution_count": null,
   "outputs": [],
   "source": [
    "#Los que faltan son todos de Tigre\n",
    "data.place_name.isnull().value_counts()"
   ],
   "metadata": {
    "collapsed": false,
    "pycharm": {
     "name": "#%%\n"
    }
   }
  },
  {
   "cell_type": "markdown",
   "source": [
    "# Imputamos los valores diferentes por Tigre\n"
   ],
   "metadata": {
    "collapsed": false,
    "pycharm": {
     "name": "#%% md\n"
    }
   }
  },
  {
   "cell_type": "code",
   "execution_count": null,
   "outputs": [],
   "source": [
    "#Imputamos los valores faltantes en place_name con el Valor de Tigre.\n",
    "data['place_name'] = data['place_name'].replace('nan', 'Tigre')\n",
    "\n",
    "#Chequeamos los valores\n",
    "place_coincide = data.apply(lambda x: True if str(x['place_with_parent_names']).find(str(x['place_name'])) >= 0 else False, axis=1)\n",
    "place_coincide.value_counts()\n",
    "\n",
    "mask= place_coincide== False\n",
    "data[mask]\n",
    "\n",
    "data.iloc[6489]"
   ],
   "metadata": {
    "collapsed": false,
    "pycharm": {
     "name": "#%%\n"
    }
   }
  },
  {
   "cell_type": "code",
   "execution_count": null,
   "outputs": [],
   "source": [
    "#Hay nombres de place_name que tiene espacios al principio/final del string\n",
    "data['place_name'] = data['place_name'].apply(lambda x : str(x).strip())"
   ],
   "metadata": {
    "collapsed": false,
    "pycharm": {
     "name": "#%%\n"
    }
   }
  },
  {
   "cell_type": "markdown",
   "source": [
    "# Chequeamos si los valores de state_name coinciden con place_with_parent_names\n"
   ],
   "metadata": {
    "collapsed": false,
    "pycharm": {
     "name": "#%% md\n"
    }
   }
  },
  {
   "cell_type": "code",
   "execution_count": null,
   "outputs": [],
   "source": [
    "# Chequeo si todos los state_names son correctos en place_with_parent_names.\n",
    "# 121220 --> Todos OK \n",
    "state_coincide = data.apply(lambda x: True if str(x['place_with_parent_names']).find(str(x['state_name'])) >= 0 else False, axis=1)\n",
    "state_coincide.value_counts()"
   ],
   "metadata": {
    "collapsed": false,
    "pycharm": {
     "name": "#%%\n"
    }
   }
  },
  {
   "cell_type": "code",
   "execution_count": null,
   "outputs": [],
   "source": [
    "# Chequeo si todos los country_names son correctos en place_with_parent_names\n",
    "# 121220 --> Todos OK \n",
    "country_coincide = data.apply(lambda x: True if str(x['place_with_parent_names']).find(str(x['country_name'])) >= 0 else False, axis=1)\n",
    "country_coincide.value_counts()"
   ],
   "metadata": {
    "collapsed": false,
    "pycharm": {
     "name": "#%%\n"
    }
   }
  },
  {
   "cell_type": "code",
   "execution_count": null,
   "outputs": [],
   "source": [
    "#Verificamos los diferentes valores de country_name\n",
    "data['country_name'].value_counts()"
   ],
   "metadata": {
    "collapsed": false,
    "pycharm": {
     "name": "#%%\n"
    }
   }
  },
  {
   "cell_type": "markdown",
   "source": [
    "# Dropeamos country_name"
   ],
   "metadata": {
    "collapsed": false,
    "pycharm": {
     "name": "#%% md\n"
    }
   }
  },
  {
   "cell_type": "code",
   "execution_count": null,
   "outputs": [],
   "source": [
    "#Drop country_name porque tiene un solo valor\n",
    "data.drop('country_name', inplace=True, axis=1)"
   ],
   "metadata": {
    "collapsed": false,
    "pycharm": {
     "name": "#%%\n"
    }
   }
  },
  {
   "cell_type": "markdown",
   "source": [
    "# State Name"
   ],
   "metadata": {
    "collapsed": false,
    "pycharm": {
     "name": "#%% md\n"
    }
   }
  },
  {
   "cell_type": "code",
   "execution_count": null,
   "outputs": [],
   "source": [
    "#Top 10 Provincias con mas propiedades\n",
    "s= data.state_name.value_counts().nlargest(10)\n",
    "print(s)\n",
    "plt.figure(figsize=(25, 8))\n",
    "\n",
    "#Histplot con propiedades por provincia\n",
    "g =sns.histplot(x=\"state_name\",  data=data)\n",
    "g.set(xlim=(0,10))\n",
    "plt.show()"
   ],
   "metadata": {
    "collapsed": false,
    "pycharm": {
     "name": "#%%\n"
    }
   }
  },
  {
   "cell_type": "markdown",
   "source": [
    "# State Name // Group By"
   ],
   "metadata": {
    "collapsed": false,
    "pycharm": {
     "name": "#%% md\n"
    }
   }
  },
  {
   "cell_type": "code",
   "execution_count": null,
   "outputs": [],
   "source": [
    "# Chequeo de la cantidad de publicaciones por state_name ordenada.\n",
    "\n",
    "#data.columns\n",
    "#data_grouped = data.groupby(['state_name'])\n",
    "#display(data_grouped.describe().sort_values(by=('price_aprox_usd','count'), ascending=False)['price_aprox_usd'].round)\n",
    "#data_grouped.describe().sort_values(by=('price_aprox_usd','count'), ascending=False)['price_aprox_usd'].round\n",
    "\n",
    "# // Creo que lo de arriba puede ser reemplazable por la linea 9. Es mas prolijo y le agrega el valor de armarlo por property type.\n",
    "# De todas maneras podriamos poner esto aparte ya que parece datos estadisticos y podria ir en otra seccion.\n",
    "\n",
    "data.groupby(['state_name', 'property_type'])[['price_aprox_usd']].describe()\n",
    "\n"
   ],
   "metadata": {
    "collapsed": false,
    "pycharm": {
     "name": "#%%\n"
    }
   }
  },
  {
   "cell_type": "code",
   "execution_count": null,
   "outputs": [],
   "source": [],
   "metadata": {
    "collapsed": false,
    "pycharm": {
     "name": "#%%\n"
    }
   }
  },
  {
   "cell_type": "markdown",
   "source": [
    "# Currency"
   ],
   "metadata": {
    "collapsed": false,
    "pycharm": {
     "name": "#%% md\n"
    }
   }
  },
  {
   "cell_type": "code",
   "execution_count": null,
   "outputs": [],
   "source": [
    "#Verificamos los valores de currency\n",
    "data['currency'].value_counts()"
   ],
   "metadata": {
    "collapsed": false,
    "pycharm": {
     "name": "#%%\n"
    }
   }
  },
  {
   "cell_type": "markdown",
   "source": [
    "# Tipo de Cambio"
   ],
   "metadata": {
    "collapsed": false,
    "pycharm": {
     "name": "#%% md\n"
    }
   }
  },
  {
   "cell_type": "code",
   "execution_count": null,
   "outputs": [],
   "source": [
    "#Verificamos el tipo de cambio y si el price_aprox_usd es correcto con respecto al price_aprox_local_currency\n",
    "\n",
    "data[\"tipo_de_cambio\"]=round(data.price_aprox_local_currency/data.price_aprox_usd,2)\n",
    "print(f'Desvío tipo de cambio= ', data.tipo_de_cambio.std())\n",
    "print(data['tipo_de_cambio'].value_counts())\n",
    "print(f'Tipo de cambio nulos: ', data.tipo_de_cambio.isnull().sum())\n"
   ],
   "metadata": {
    "collapsed": false,
    "pycharm": {
     "name": "#%%\n"
    }
   }
  },
  {
   "cell_type": "markdown",
   "source": [
    "# Dropeamos columnas siguiendo criterio USD\n"
   ],
   "metadata": {
    "collapsed": false,
    "pycharm": {
     "name": "#%% md\n"
    }
   }
  },
  {
   "cell_type": "code",
   "execution_count": null,
   "outputs": [],
   "source": [
    "#Dropeamos currency, price_aprox_local_currency y price_per_m2 para dejar solo las columnas por dolares\n",
    "Esta bien esto ? Me parece que no\n",
    "#data.drop(['currency','price_aprox_local_currency','price_per_m2'], inplace=True, axis=1)"
   ],
   "metadata": {
    "collapsed": false,
    "pycharm": {
     "name": "#%%\n"
    }
   }
  },
  {
   "cell_type": "markdown",
   "source": [
    "# Analisis Estadistico Descriptivo"
   ],
   "metadata": {
    "collapsed": false,
    "pycharm": {
     "name": "#%% md\n"
    }
   }
  },
  {
   "cell_type": "markdown",
   "source": [
    "# Price Aprox USD"
   ],
   "metadata": {
    "collapsed": false,
    "pycharm": {
     "name": "#%% md\n"
    }
   }
  },
  {
   "cell_type": "code",
   "execution_count": null,
   "outputs": [],
   "source": [
    "#Quartiles para graficar outliers de Price aprox USD\n",
    "data['price_aprox_usd'].quantile([.95, .98, .99, .995, .998])\n"
   ],
   "metadata": {
    "collapsed": false,
    "pycharm": {
     "name": "#%%\n"
    }
   }
  },
  {
   "cell_type": "code",
   "execution_count": null,
   "outputs": [],
   "source": [
    "import matplotlib.pyplot as plt\n",
    "import seaborn as sns\n",
    "\n",
    "\n",
    "plt.figure(figsize=(18, 10))\n",
    "sns.boxplot(\n",
    "    data=data, x=\"property_type\", y=data[data['price_aprox_usd'] < 700000]['price_aprox_usd'],\n",
    "    notch=True, showcaps=False,\n",
    "    flierprops={\"marker\": \"x\"},\n",
    "    boxprops={\"facecolor\": (.4, .6, .8, .5)},\n",
    "    medianprops={\"color\": \"coral\"},\n",
    ")\n"
   ],
   "metadata": {
    "collapsed": false,
    "pycharm": {
     "name": "#%%\n"
    }
   }
  },
  {
   "cell_type": "markdown",
   "source": [
    "# Surface Aprox USD"
   ],
   "metadata": {
    "collapsed": false,
    "pycharm": {
     "name": "#%% md\n"
    }
   }
  },
  {
   "cell_type": "code",
   "execution_count": null,
   "outputs": [],
   "source": [
    "#Quartiles para graficar surface total in m2\n",
    "data['surface_total_in_m2'].quantile([.95, .98, .99, .995, .998])\n"
   ],
   "metadata": {
    "collapsed": false,
    "pycharm": {
     "name": "#%%\n"
    }
   }
  },
  {
   "cell_type": "code",
   "execution_count": null,
   "outputs": [],
   "source": [
    "import matplotlib.pyplot as plt\n",
    "import seaborn as sns\n",
    "\n",
    "\n",
    "plt.figure(figsize=(16, 8))\n",
    "sns.boxplot(\n",
    "    data=data, x=\"property_type\", y=data[data['surface_total_in_m2'] < 700]['surface_total_in_m2'],\n",
    "    notch=True, showcaps=False,\n",
    "    flierprops={\"marker\": \"x\"},\n",
    "    boxprops={\"facecolor\": (.4, .6, .8, .5)},\n",
    "    medianprops={\"color\": \"coral\"},\n",
    ")\n"
   ],
   "metadata": {
    "collapsed": false,
    "pycharm": {
     "name": "#%%\n"
    }
   }
  },
  {
   "cell_type": "markdown",
   "source": [
    "# Top 10 StateName por propiedades"
   ],
   "metadata": {
    "collapsed": false,
    "pycharm": {
     "name": "#%% md\n"
    }
   }
  },
  {
   "cell_type": "code",
   "execution_count": null,
   "outputs": [],
   "source": [
    "#Top 10 filtro para State Name grafico 10 provincias con mayor cantidad de propiedades\n",
    "mask_100_state_name =data.state_name.value_counts().nlargest(10)\n",
    "\n",
    "list=[]\n",
    "for i in mask_100_state_name.items():\n",
    "    list.append(i[0])\n",
    "print(list)\n",
    "\n",
    "\n",
    "mask_list=data.state_name.isin(list)\n",
    "\n",
    "plt.figure(figsize=(30, 8))\n",
    "sns.histplot(\n",
    "    data=data[mask_list], x=\"state_name\", stat='count'\n",
    ")\n",
    "\n",
    "print(data.state_name.value_counts().nlargest(10))\n",
    "#data.state_name.unique()"
   ],
   "metadata": {
    "collapsed": false,
    "pycharm": {
     "name": "#%%\n"
    }
   }
  },
  {
   "cell_type": "code",
   "execution_count": null,
   "outputs": [],
   "source": [
    "#Graficamos por property type y price_aprox_usd\n",
    "#Pareceria haber outliers en Apartments > 4, houses > 2 y stores > 1\n",
    "sns.scatterplot(data=data, x='property_type', y=\"price_aprox_usd\", alpha=0.4)"
   ],
   "metadata": {
    "collapsed": false,
    "pycharm": {
     "name": "#%%\n"
    }
   }
  },
  {
   "cell_type": "code",
   "execution_count": null,
   "outputs": [],
   "source": [
    "#Graficamos por property type y surface_total_in_m2\n",
    "#Pareceria haber outliers en Apartments > 25000, houses > 100000 y stores > 75000\n",
    "sns.scatterplot(data=data, x='property_type', y=\"surface_total_in_m2\", alpha=0.4)"
   ],
   "metadata": {
    "collapsed": false,
    "pycharm": {
     "name": "#%%\n"
    }
   }
  },
  {
   "cell_type": "code",
   "execution_count": null,
   "outputs": [],
   "source": [
    "#Graficamos por property type y surface_covered_in_m2\n",
    "#Pareceria haber outliers en Apartments > 50000\n",
    "sns.scatterplot(data=data, x='property_type', y=\"surface_covered_in_m2\", alpha=0.4)"
   ],
   "metadata": {
    "collapsed": false,
    "pycharm": {
     "name": "#%%\n"
    }
   }
  },
  {
   "cell_type": "markdown",
   "source": [
    "# Correlacion entre Expensas, Superficie total y Precio por M2 (Capital Federal)"
   ],
   "metadata": {
    "collapsed": false,
    "pycharm": {
     "name": "#%% md\n"
    }
   }
  },
  {
   "cell_type": "code",
   "execution_count": null,
   "outputs": [],
   "source": [
    "data_deptos_40=(data.surface_covered_in_m2==40)&(data.property_type==\"apartment\")&(data.state_name==\"Capital Federal\")\n",
    "data[data_deptos_40]\n",
    "sns.scatterplot(data=data[data_deptos_40],x=\"expenses\",y=\"price_aprox_usd\")"
   ],
   "metadata": {
    "collapsed": false,
    "pycharm": {
     "name": "#%%\n"
    }
   }
  },
  {
   "cell_type": "code",
   "execution_count": null,
   "outputs": [],
   "source": [
    "data_deptos_50=(data.surface_covered_in_m2==50)&(data.property_type==\"apartment\")&(data.state_name==\"Capital Federal\")\n",
    "data[data_deptos_50]\n",
    "sns.scatterplot(data=data[data_deptos_50],x=\"expenses\",y=\"price_aprox_usd\")"
   ],
   "metadata": {
    "collapsed": false,
    "pycharm": {
     "name": "#%%\n"
    }
   }
  },
  {
   "cell_type": "code",
   "execution_count": null,
   "outputs": [],
   "source": [
    "data_deptos_60=(data.surface_covered_in_m2==60)&(data.property_type==\"apartment\")&(data.state_name==\"Capital Federal\")\n",
    "data[data_deptos_60]\n",
    "sns.scatterplot(data=data[data_deptos_60],x=\"expenses\",y=\"price_aprox_usd\")"
   ],
   "metadata": {
    "collapsed": false,
    "pycharm": {
     "name": "#%%\n"
    }
   }
  },
  {
   "cell_type": "code",
   "execution_count": null,
   "outputs": [],
   "source": [
    "#SUMAR GRAFICOS ELEONORA DE AMBIENTES Y M2"
   ],
   "metadata": {
    "collapsed": false,
    "pycharm": {
     "name": "#%%\n"
    }
   }
  },
  {
   "cell_type": "code",
   "execution_count": null,
   "outputs": [],
   "source": [
    "#Prodiamos dropear las siguientes columnas porque no agregan valor\n",
    "#image_thumbnail \n",
    "#properati_url"
   ],
   "metadata": {
    "collapsed": false,
    "pycharm": {
     "name": "#%%\n"
    }
   }
  },
  {
   "cell_type": "markdown",
   "source": [
    "# Lat - Lon: Datos geoespaciales\n"
   ],
   "metadata": {
    "collapsed": false,
    "pycharm": {
     "name": "#%% md\n"
    }
   }
  },
  {
   "cell_type": "markdown",
   "source": [
    "Tomando los valores de las columnas latitud y longitud para hacer un análisis geo espacial de los datos, viendo dónde se encuentran ubicadas las propiedades en la Argentina y luego cómo es su distribución en Capital Federal."
   ],
   "metadata": {
    "collapsed": false,
    "pycharm": {
     "name": "#%% md\n"
    }
   }
  },
  {
   "cell_type": "markdown",
   "source": [
    "# Argentina\n"
   ],
   "metadata": {
    "collapsed": false,
    "pycharm": {
     "name": "#%% md\n"
    }
   }
  },
  {
   "cell_type": "code",
   "execution_count": null,
   "outputs": [],
   "source": [
    "geometria_data = gpd.points_from_xy(data['lon'], data['lat'])\n",
    "data_geo=gpd.GeoDataFrame(data, geometry=geometria_data)"
   ],
   "metadata": {
    "collapsed": false,
    "pycharm": {
     "name": "#%%\n"
    }
   }
  },
  {
   "cell_type": "code",
   "execution_count": null,
   "outputs": [],
   "source": [
    "world = gpd.read_file(gpd.datasets.get_path('naturalearth_lowres'))\n",
    "world.head(2)"
   ],
   "metadata": {
    "collapsed": false,
    "pycharm": {
     "name": "#%%\n"
    }
   }
  },
  {
   "cell_type": "code",
   "execution_count": null,
   "outputs": [],
   "source": [
    "arg = world[world.name == 'Argentina']\n",
    "arg.head(3)"
   ],
   "metadata": {
    "collapsed": false,
    "pycharm": {
     "name": "#%%\n"
    }
   }
  },
  {
   "cell_type": "code",
   "execution_count": null,
   "outputs": [],
   "source": [
    "data_geo['is_in_arg'] = data_geo['geometry'].apply(lambda x: arg.iloc[0]['geometry'].contains(x))\n",
    "data_geo['is_in_arg'].value_counts()"
   ],
   "metadata": {
    "collapsed": false,
    "pycharm": {
     "name": "#%%\n"
    }
   }
  },
  {
   "cell_type": "code",
   "execution_count": null,
   "outputs": [],
   "source": [
    "# Mapa de Argentina\n",
    "ax = arg.plot(color='white', edgecolor='black')\n",
    "\n",
    "# Propiedades\n",
    "data_geo.loc[data_geo.is_in_arg==True].plot(ax=ax, color='blue', markersize=0.50)\n",
    "\n",
    "plt.show()"
   ],
   "metadata": {
    "collapsed": false,
    "pycharm": {
     "name": "#%%\n"
    }
   }
  },
  {
   "cell_type": "markdown",
   "source": [
    "# Capital Federal"
   ],
   "metadata": {
    "collapsed": false,
    "pycharm": {
     "name": "#%% md\n"
    }
   }
  },
  {
   "cell_type": "markdown",
   "source": [
    "Tomamos un archivo con los datos correspondientes a las comunas de CABA para así ver la distribución espacial de las propiedades."
   ],
   "metadata": {
    "collapsed": false,
    "pycharm": {
     "name": "#%% md\n"
    }
   }
  },
  {
   "cell_type": "code",
   "execution_count": null,
   "outputs": [],
   "source": [
    "barrios = pd.read_csv(\"./barrios.csv\", encoding='latin1')\n",
    "barrios.head()"
   ],
   "metadata": {
    "collapsed": false,
    "pycharm": {
     "name": "#%%\n"
    }
   }
  },
  {
   "cell_type": "code",
   "execution_count": null,
   "outputs": [],
   "source": [
    "barrios[\"WKT\"] = barrios[\"WKT\"].apply(shapely.wkt.loads) \n",
    "geo_barrios = gpd.GeoDataFrame(barrios, geometry='WKT')"
   ],
   "metadata": {
    "collapsed": false,
    "pycharm": {
     "name": "#%%\n"
    }
   }
  },
  {
   "cell_type": "code",
   "execution_count": null,
   "outputs": [],
   "source": [
    "geo_barrios.plot()"
   ],
   "metadata": {
    "collapsed": false,
    "pycharm": {
     "name": "#%%\n"
    }
   }
  },
  {
   "cell_type": "code",
   "execution_count": null,
   "outputs": [],
   "source": [
    "capital_federal_completo = data.loc[data.state_name.str.contains('Capital Federal') == True]\n",
    "capital_federal = capital_federal_completo.loc[(capital_federal_completo.lat > -35) & (capital_federal_completo.lon > -60), :]\n",
    "\n",
    "#capital_federal.info()\n",
    "#capital_federal_1.info()\n",
    "\n",
    "print(len(capital_federal))\n",
    "print(len(capital_federal_completo))"
   ],
   "metadata": {
    "collapsed": false,
    "pycharm": {
     "name": "#%%\n"
    }
   }
  },
  {
   "cell_type": "code",
   "execution_count": null,
   "outputs": [],
   "source": [
    "geometria = gpd.points_from_xy(capital_federal['lon'], capital_federal['lat'])"
   ],
   "metadata": {
    "collapsed": false,
    "pycharm": {
     "name": "#%%\n"
    }
   }
  },
  {
   "cell_type": "code",
   "execution_count": null,
   "outputs": [],
   "source": [
    "capital_federal_geo=gpd.GeoDataFrame(capital_federal, geometry=geometria)\n",
    "\n",
    "capital_federal_geo.crs = {'init' :'epsg:4326'}"
   ],
   "metadata": {
    "collapsed": false,
    "pycharm": {
     "name": "#%%\n"
    }
   }
  },
  {
   "cell_type": "code",
   "execution_count": null,
   "outputs": [],
   "source": [
    "fig, ax = plt.subplots(figsize=(12, 10))\n",
    "ax.set_aspect('equal')\n",
    "geo_barrios.plot(ax=ax, color='white', edgecolor='black')\n",
    "capital_federal_geo.plot(ax=ax, color='red',markersize=0.25)\n",
    "plt.show();"
   ],
   "metadata": {
    "collapsed": false,
    "pycharm": {
     "name": "#%%\n"
    }
   }
  },
  {
   "cell_type": "markdown",
   "source": [
    "Incluimos una nueva base de datos que contiene las estaciones de subte de la ciudad con su información georeferenciada."
   ],
   "metadata": {
    "collapsed": false,
    "pycharm": {
     "name": "#%% md\n"
    }
   }
  },
  {
   "cell_type": "code",
   "execution_count": null,
   "outputs": [],
   "source": [
    "data_location = \"./estaciones-de-subte.csv\"\n",
    "\n",
    "df_subte = pd.read_csv(data_location, sep=',')\n",
    "\n",
    "geometria = gpd.points_from_xy(df_subte.long, df_subte.lat)\n",
    "\n",
    "geo_subte = gpd.GeoDataFrame(df_subte ,geometry=geometria)\n",
    "\n",
    "geo_subte.plot()"
   ],
   "metadata": {
    "collapsed": false,
    "pycharm": {
     "name": "#%%\n"
    }
   }
  },
  {
   "cell_type": "markdown",
   "source": [
    "Graficamos las propiedades y las estaciones de subte en la Ciudad Autónoma de Buenos Aires para ver cual es la distribución y su proximidad con alguna estación de subte."
   ],
   "metadata": {
    "collapsed": false,
    "pycharm": {
     "name": "#%% md\n"
    }
   }
  },
  {
   "cell_type": "code",
   "execution_count": null,
   "outputs": [],
   "source": [
    "fig, ax = plt.subplots(figsize=(12, 10))\n",
    "ax.set_aspect('equal')\n",
    "geo_barrios.plot(ax=ax, color='white', edgecolor='black')\n",
    "capital_federal_geo.plot(ax=ax, color='red',markersize=0.25)\n",
    "geo_subte.plot(ax=ax, color='blue',markersize=15)\n",
    "plt.show();"
   ],
   "metadata": {
    "collapsed": false,
    "pycharm": {
     "name": "#%%\n"
    }
   }
  },
  {
   "cell_type": "markdown",
   "source": [
    "Calculamos la distancia que tiene cada propiedad con la estación de subte más cercana."
   ],
   "metadata": {
    "collapsed": false,
    "pycharm": {
     "name": "#%% md\n"
    }
   }
  },
  {
   "cell_type": "code",
   "execution_count": null,
   "outputs": [],
   "source": [
    "def calculate_distance_min(p,geo_subte):\n",
    "    distances = geo_subte.distance(p.geometry)\n",
    "    return distances.min()\n"
   ],
   "metadata": {
    "collapsed": false,
    "pycharm": {
     "name": "#%%\n"
    }
   }
  },
  {
   "cell_type": "code",
   "execution_count": null,
   "outputs": [],
   "source": [
    "capital_federal_geo['distancia_subte_km']= capital_federal_geo.apply(lambda x: calculate_distance_min(x, geo_subte), axis=1)"
   ],
   "metadata": {
    "collapsed": false,
    "pycharm": {
     "name": "#%%\n"
    }
   }
  },
  {
   "cell_type": "code",
   "execution_count": null,
   "outputs": [],
   "source": [
    "print(data_geo['distancia_subte_km'])"
   ],
   "metadata": {
    "collapsed": false,
    "pycharm": {
     "name": "#%%\n"
    }
   }
  },
  {
   "cell_type": "markdown",
   "source": [
    "Evaluamos si hay relación entre el precio del metro cuadrado de la propiedad con la cercanía que tiene a una estación de subte."
   ],
   "metadata": {
    "collapsed": false,
    "pycharm": {
     "name": "#%% md\n"
    }
   }
  }
 ],
 "metadata": {
  "kernelspec": {
   "display_name": "Python 3.7.13 ('dhdsblend2021_geopandas')",
   "language": "python",
   "name": "python3"
  },
  "language_info": {
   "codemirror_mode": {
    "name": "ipython",
    "version": 3
   },
   "file_extension": ".py",
   "mimetype": "text/x-python",
   "name": "python",
   "nbconvert_exporter": "python",
   "pygments_lexer": "ipython3",
   "version": "3.7.13"
  },
  "orig_nbformat": 4,
  "vscode": {
   "interpreter": {
    "hash": "38af14351ff4990e41def0758694a8dfd960bc5ceb7361ae7583bbac5704791e"
   }
  }
 },
 "nbformat": 4,
 "nbformat_minor": 2
}