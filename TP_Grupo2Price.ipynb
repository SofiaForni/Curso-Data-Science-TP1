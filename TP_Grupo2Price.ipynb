{
 "cells": [
  {
   "cell_type": "code",
   "execution_count": 1,
   "metadata": {
    "pycharm": {
     "name": "#%%\n"
    }
   },
   "outputs": [],
   "source": [
    "import numpy as np\n",
    "import pandas as pd\n",
    "import matplotlib.pyplot as plt"
   ]
  },
  {
   "cell_type": "code",
   "execution_count": 2,
   "metadata": {
    "pycharm": {
     "name": "#%%\n"
    }
   },
   "outputs": [],
   "source": [
    "data = pd.read_csv(\"properatti.csv\")"
   ]
  },
  {
   "cell_type": "code",
   "execution_count": 3,
   "metadata": {
    "pycharm": {
     "name": "#%%\n"
    }
   },
   "outputs": [
    {
     "data": {
      "text/plain": "20410"
     },
     "execution_count": 3,
     "metadata": {},
     "output_type": "execute_result"
    }
   ],
   "source": [
    "data['price_aprox_usd'].isnull().sum()"
   ]
  },
  {
   "cell_type": "markdown",
   "metadata": {
    "pycharm": {
     "name": "#%% md\n"
    }
   },
   "source": [
    "#Variables económicas#\n",
    "\n",
    "Price, Currency, Price_aprox_usd, Price_aprox_local_currency\n",
    "Como decisión de negocios, decidimos usar valores de precio en dólares unicamente, por lo que estos son los que intentaremos completar y depurar."
   ]
  },
  {
   "cell_type": "markdown",
   "source": [
    "# EDA Price usd per m2"
   ],
   "metadata": {
    "collapsed": false,
    "pycharm": {
     "name": "#%% md\n"
    }
   }
  },
  {
   "cell_type": "code",
   "execution_count": 4,
   "metadata": {
    "pycharm": {
     "name": "#%%\n"
    }
   },
   "outputs": [
    {
     "data": {
      "text/plain": "87588"
     },
     "execution_count": 4,
     "metadata": {},
     "output_type": "execute_result"
    }
   ],
   "source": [
    "#Cantidad de casos en que 'price' coincide con 'Price_aprox_usd'. Tenemos 87588 que coinciden.\n",
    "\n",
    "sum(data.price == data.price_aprox_usd)"
   ]
  },
  {
   "cell_type": "code",
   "execution_count": 5,
   "metadata": {
    "pycharm": {
     "name": "#%%\n"
    }
   },
   "outputs": [
    {
     "data": {
      "text/plain": "33632"
     },
     "execution_count": 5,
     "metadata": {},
     "output_type": "execute_result"
    }
   ],
   "source": [
    "#Cantidad de casos en que 'price' no coincide con 'Price_aprox_usd'. Tenemos 33632 que no coinciden.\n",
    "sum(data.price != data.price_aprox_usd)"
   ]
  },
  {
   "cell_type": "code",
   "execution_count": 6,
   "metadata": {
    "pycharm": {
     "name": "#%%\n"
    }
   },
   "outputs": [
    {
     "data": {
      "text/plain": "1"
     },
     "execution_count": 6,
     "metadata": {},
     "output_type": "execute_result"
    }
   ],
   "source": [
    "#Cantidad de casos en que 'price' coincide con 'price_aprox_local_currency'\n",
    "sum(data.price == data.price_aprox_local_currency)"
   ]
  },
  {
   "cell_type": "code",
   "execution_count": 7,
   "metadata": {
    "pycharm": {
     "name": "#%%\n"
    }
   },
   "outputs": [
    {
     "data": {
      "text/plain": "      price currency  price_aprox_usd  price_aprox_local_currency\n9761    0.0      NaN              0.0                         0.0",
      "text/html": "<div>\n<style scoped>\n    .dataframe tbody tr th:only-of-type {\n        vertical-align: middle;\n    }\n\n    .dataframe tbody tr th {\n        vertical-align: top;\n    }\n\n    .dataframe thead th {\n        text-align: right;\n    }\n</style>\n<table border=\"1\" class=\"dataframe\">\n  <thead>\n    <tr style=\"text-align: right;\">\n      <th></th>\n      <th>price</th>\n      <th>currency</th>\n      <th>price_aprox_usd</th>\n      <th>price_aprox_local_currency</th>\n    </tr>\n  </thead>\n  <tbody>\n    <tr>\n      <th>9761</th>\n      <td>0.0</td>\n      <td>NaN</td>\n      <td>0.0</td>\n      <td>0.0</td>\n    </tr>\n  </tbody>\n</table>\n</div>"
     },
     "execution_count": 7,
     "metadata": {},
     "output_type": "execute_result"
    }
   ],
   "source": [
    "#Es uno solo, así que veo cuál es:\n",
    "\n",
    "data[data.price == data.price_aprox_local_currency][['price', 'currency', 'price_aprox_usd', 'price_aprox_local_currency']]"
   ]
  },
  {
   "cell_type": "code",
   "execution_count": 8,
   "metadata": {
    "pycharm": {
     "name": "#%%\n"
    }
   },
   "outputs": [],
   "source": [
    "#Corroboro que todos los 'price' cuya 'currency' es USD se correspondan con el 'price_aprox_usd'\n",
    "\n",
    "data2 = data[data.currency == 'USD']"
   ]
  },
  {
   "cell_type": "code",
   "execution_count": 9,
   "metadata": {
    "pycharm": {
     "name": "#%%\n"
    }
   },
   "outputs": [
    {
     "data": {
      "text/plain": "0"
     },
     "execution_count": 9,
     "metadata": {},
     "output_type": "execute_result"
    }
   ],
   "source": [
    "#Valido si hay algun precio que sea distinto\n",
    "len(data2[data2.price != data2.price_aprox_usd])"
   ]
  },
  {
   "cell_type": "code",
   "execution_count": 10,
   "metadata": {
    "pycharm": {
     "name": "#%%\n"
    }
   },
   "outputs": [
    {
     "data": {
      "text/plain": "87587"
     },
     "execution_count": 10,
     "metadata": {},
     "output_type": "execute_result"
    }
   ],
   "source": [
    "#veo que hay uno menos que los coincidentes en valor(87588 vs 87587), alguno debe estar mal etiquetado, lo busco.\n",
    "len(data2)"
   ]
  },
  {
   "cell_type": "code",
   "execution_count": 11,
   "metadata": {
    "pycharm": {
     "name": "#%%\n"
    }
   },
   "outputs": [
    {
     "data": {
      "text/plain": "      price currency  price_aprox_usd  price_aprox_local_currency\n9761    0.0      NaN              0.0                         0.0",
      "text/html": "<div>\n<style scoped>\n    .dataframe tbody tr th:only-of-type {\n        vertical-align: middle;\n    }\n\n    .dataframe tbody tr th {\n        vertical-align: top;\n    }\n\n    .dataframe thead th {\n        text-align: right;\n    }\n</style>\n<table border=\"1\" class=\"dataframe\">\n  <thead>\n    <tr style=\"text-align: right;\">\n      <th></th>\n      <th>price</th>\n      <th>currency</th>\n      <th>price_aprox_usd</th>\n      <th>price_aprox_local_currency</th>\n    </tr>\n  </thead>\n  <tbody>\n    <tr>\n      <th>9761</th>\n      <td>0.0</td>\n      <td>NaN</td>\n      <td>0.0</td>\n      <td>0.0</td>\n    </tr>\n  </tbody>\n</table>\n</div>"
     },
     "execution_count": 11,
     "metadata": {},
     "output_type": "execute_result"
    }
   ],
   "source": [
    "data[(data.price == data.price_aprox_usd) & (data.currency != 'USD')][['price', 'currency', 'price_aprox_usd', 'price_aprox_local_currency']]"
   ]
  },
  {
   "cell_type": "markdown",
   "source": [
    "# Ahora analizamos aquellos valores cuyos 'currency' no son USD.\n"
   ],
   "metadata": {
    "collapsed": false,
    "pycharm": {
     "name": "#%% md\n"
    }
   }
  },
  {
   "cell_type": "code",
   "execution_count": 12,
   "metadata": {
    "pycharm": {
     "name": "#%%\n"
    }
   },
   "outputs": [
    {
     "data": {
      "text/plain": "USD    87587\nARS    13219\nPEN        2\nUYU        1\nName: currency, dtype: int64"
     },
     "execution_count": 12,
     "metadata": {},
     "output_type": "execute_result"
    }
   ],
   "source": [
    "data.currency.value_counts()"
   ]
  },
  {
   "cell_type": "code",
   "execution_count": 13,
   "metadata": {
    "pycharm": {
     "name": "#%%\n"
    }
   },
   "outputs": [
    {
     "data": {
      "text/plain": "       price_aprox_usd     price\n50387        117139.33  380000.0\n50388        292848.33  950000.0",
      "text/html": "<div>\n<style scoped>\n    .dataframe tbody tr th:only-of-type {\n        vertical-align: middle;\n    }\n\n    .dataframe tbody tr th {\n        vertical-align: top;\n    }\n\n    .dataframe thead th {\n        text-align: right;\n    }\n</style>\n<table border=\"1\" class=\"dataframe\">\n  <thead>\n    <tr style=\"text-align: right;\">\n      <th></th>\n      <th>price_aprox_usd</th>\n      <th>price</th>\n    </tr>\n  </thead>\n  <tbody>\n    <tr>\n      <th>50387</th>\n      <td>117139.33</td>\n      <td>380000.0</td>\n    </tr>\n    <tr>\n      <th>50388</th>\n      <td>292848.33</td>\n      <td>950000.0</td>\n    </tr>\n  </tbody>\n</table>\n</div>"
     },
     "execution_count": 13,
     "metadata": {},
     "output_type": "execute_result"
    }
   ],
   "source": [
    "data[['price_aprox_usd', 'price']][data.currency == 'PEN']"
   ]
  },
  {
   "cell_type": "code",
   "execution_count": 14,
   "metadata": {
    "pycharm": {
     "name": "#%%\n"
    }
   },
   "outputs": [
    {
     "data": {
      "text/plain": "        price_aprox_usd        price\n107390      22980378.29  650000000.0",
      "text/html": "<div>\n<style scoped>\n    .dataframe tbody tr th:only-of-type {\n        vertical-align: middle;\n    }\n\n    .dataframe tbody tr th {\n        vertical-align: top;\n    }\n\n    .dataframe thead th {\n        text-align: right;\n    }\n</style>\n<table border=\"1\" class=\"dataframe\">\n  <thead>\n    <tr style=\"text-align: right;\">\n      <th></th>\n      <th>price_aprox_usd</th>\n      <th>price</th>\n    </tr>\n  </thead>\n  <tbody>\n    <tr>\n      <th>107390</th>\n      <td>22980378.29</td>\n      <td>650000000.0</td>\n    </tr>\n  </tbody>\n</table>\n</div>"
     },
     "execution_count": 14,
     "metadata": {},
     "output_type": "execute_result"
    }
   ],
   "source": [
    "data[['price_aprox_usd', 'price']][data.currency == 'UYU']"
   ]
  },
  {
   "cell_type": "code",
   "execution_count": 15,
   "metadata": {
    "pycharm": {
     "name": "#%%\n"
    }
   },
   "outputs": [],
   "source": [
    "auxData = data['description']\n"
   ]
  },
  {
   "cell_type": "code",
   "execution_count": 16,
   "metadata": {
    "pycharm": {
     "name": "#%%\n"
    }
   },
   "outputs": [
    {
     "data": {
      "text/plain": "0    2 AMBIENTES TIPO CASA PLANTA BAJA POR PASILLO,...\n1    VENTA DE DEPARTAMENTO EN DÉCIMO PISO AL FRENTE...\n2    2 AMBIENTES 3ER PISO LATERAL LIVING COMEDOR AM...\n3    PH 3 AMBIENTES CON PATIO HAY 3 DEPTOS EN LOTE,...\n4    DEPARTAMENTO CON FANTÁSTICA ILUMINACIÓN NATURA...\nName: description, dtype: object"
     },
     "execution_count": 16,
     "metadata": {},
     "output_type": "execute_result"
    }
   ],
   "source": [
    "auxData = auxData.str.upper()\n",
    "auxData = auxData.str.replace('.','', regex=True)\n",
    "auxData.fillna('', inplace = True)\n",
    "auxData.head()"
   ]
  },
  {
   "cell_type": "code",
   "execution_count": 17,
   "metadata": {
    "pycharm": {
     "name": "#%%\n"
    }
   },
   "outputs": [
    {
     "data": {
      "text/plain": "<bound method NDFrame.head of           0      1\n0       NaN    NaN\n1       U$D  20000\n2       NaN    NaN\n3       NaN    NaN\n4       NaN    NaN\n...     ...    ...\n121215  NaN    NaN\n121216  NaN    NaN\n121217  USD  20000\n121218  U$S  95900\n121219  NaN    NaN\n\n[121220 rows x 2 columns]>"
     },
     "execution_count": 17,
     "metadata": {},
     "output_type": "execute_result"
    }
   ],
   "source": [
    "auxData2 = auxData.str.extract('(USD|USS|US|U[$]D|U[$][$]|U[$]S)\\s?(\\d+)')\n",
    "auxData2.head"
   ]
  },
  {
   "cell_type": "code",
   "execution_count": 18,
   "metadata": {
    "pycharm": {
     "name": "#%%\n"
    }
   },
   "outputs": [],
   "source": [
    "auxData2.columns=['USD', 'price']"
   ]
  },
  {
   "cell_type": "code",
   "execution_count": 19,
   "metadata": {
    "pycharm": {
     "name": "#%%\n"
    }
   },
   "outputs": [
    {
     "data": {
      "text/plain": "13039"
     },
     "execution_count": 19,
     "metadata": {},
     "output_type": "execute_result"
    }
   ],
   "source": [
    "auxData2.price.notnull().sum()"
   ]
  },
  {
   "cell_type": "markdown",
   "source": [
    "Aplico al dataset\n"
   ],
   "metadata": {
    "collapsed": false,
    "pycharm": {
     "name": "#%% md\n"
    }
   }
  },
  {
   "cell_type": "code",
   "execution_count": 58,
   "metadata": {
    "pycharm": {
     "name": "#%%\n"
    }
   },
   "outputs": [],
   "source": [
    "auxData2.price = pd.to_numeric(auxData2['price'])"
   ]
  },
  {
   "cell_type": "code",
   "execution_count": 59,
   "metadata": {
    "pycharm": {
     "name": "#%%\n"
    }
   },
   "outputs": [],
   "source": [
    "data['price_aprox_usd'] = data['price_aprox_usd'].fillna(auxData2['price'])"
   ]
  },
  {
   "cell_type": "code",
   "execution_count": 60,
   "metadata": {
    "pycharm": {
     "name": "#%%\n"
    }
   },
   "outputs": [
    {
     "data": {
      "text/plain": "17102"
     },
     "execution_count": 60,
     "metadata": {},
     "output_type": "execute_result"
    }
   ],
   "source": [
    "data['price_aprox_usd'].isnull().sum()"
   ]
  },
  {
   "cell_type": "markdown",
   "source": [
    " Regex para tittle"
   ],
   "metadata": {
    "collapsed": false,
    "pycharm": {
     "name": "#%% md\n"
    }
   }
  },
  {
   "cell_type": "code",
   "execution_count": 61,
   "metadata": {
    "pycharm": {
     "name": "#%%\n"
    }
   },
   "outputs": [],
   "source": [
    "auxData3 = data['title']"
   ]
  },
  {
   "cell_type": "code",
   "execution_count": 62,
   "metadata": {
    "pycharm": {
     "name": "#%%\n"
    }
   },
   "outputs": [],
   "source": [
    "# formateo auxData3 para el regex\n",
    "\n",
    "auxData3 = auxData3.str.upper()\n",
    "auxData3 = auxData3.str.replace('.', '', regex=True)\n",
    "auxData3.fillna('', inplace=True)"
   ]
  },
  {
   "cell_type": "code",
   "execution_count": 63,
   "metadata": {
    "pycharm": {
     "name": "#%%\n"
    }
   },
   "outputs": [],
   "source": [
    "# hago la extracion\n",
    "auxData4 = auxData3.str.extract('(USD|USS|US|U[$]D|U[$][$]|U[$]S)\\s?(\\d+)')"
   ]
  },
  {
   "cell_type": "code",
   "execution_count": 64,
   "metadata": {
    "pycharm": {
     "name": "#%%\n"
    }
   },
   "outputs": [],
   "source": [
    "# renombro columnas\n",
    "auxData4.columns = ['USD', 'price']"
   ]
  },
  {
   "cell_type": "code",
   "execution_count": 65,
   "metadata": {
    "pycharm": {
     "name": "#%%\n"
    }
   },
   "outputs": [
    {
     "data": {
      "text/plain": "6948"
     },
     "execution_count": 65,
     "metadata": {},
     "output_type": "execute_result"
    }
   ],
   "source": [
    "# tenemos 6948 precios que no son nulos\n",
    "auxData4.price.notnull().sum()"
   ]
  },
  {
   "cell_type": "code",
   "execution_count": 66,
   "metadata": {
    "pycharm": {
     "name": "#%%\n"
    }
   },
   "outputs": [],
   "source": [
    "# paso a numero los precios\n",
    "auxData4.price = pd.to_numeric(auxData4['price'])"
   ]
  },
  {
   "cell_type": "markdown",
   "source": [
    "Se aplica al dataset\n"
   ],
   "metadata": {
    "collapsed": false,
    "pycharm": {
     "name": "#%% md\n"
    }
   }
  },
  {
   "cell_type": "code",
   "execution_count": 67,
   "metadata": {
    "pycharm": {
     "name": "#%%\n"
    }
   },
   "outputs": [],
   "source": [
    "data['price_aprox_usd'] = data['price_aprox_usd'].fillna(auxData4['price'])"
   ]
  },
  {
   "cell_type": "code",
   "execution_count": 68,
   "metadata": {
    "pycharm": {
     "name": "#%%\n"
    }
   },
   "outputs": [
    {
     "data": {
      "text/plain": "17102"
     },
     "execution_count": 68,
     "metadata": {},
     "output_type": "execute_result"
    }
   ],
   "source": [
    "# Todavia tenemos 17102 valores nulos para price\n",
    "data['price_aprox_usd'].isnull().sum()"
   ]
  },
  {
   "cell_type": "markdown",
   "source": [
    "# Completamos hasta ahora 3308 vacíos, quedandonos con 17102 datos vacíos."
   ],
   "metadata": {
    "collapsed": false,
    "pycharm": {
     "name": "#%% md\n"
    }
   }
  },
  {
   "cell_type": "markdown",
   "source": [
    "Separo valores de precios muy extremos para revaluar con coherencia:\n"
   ],
   "metadata": {
    "collapsed": false,
    "pycharm": {
     "name": "#%% md\n"
    }
   }
  },
  {
   "cell_type": "code",
   "execution_count": 32,
   "metadata": {
    "pycharm": {
     "name": "#%%\n"
    }
   },
   "outputs": [
    {
     "name": "stdout",
     "output_type": "stream",
     "text": [
      "ymax: 129629628.45\n"
     ]
    },
    {
     "data": {
      "text/plain": "<Figure size 720x432 with 1 Axes>",
      "image/png": "[encoded data removed]"
     },
     "metadata": {},
     "output_type": "display_data"
    }
   ],
   "source": [
    "\n",
    "plt.figure(figsize=(10,6))\n",
    "plt.grid(True)\n",
    "plt.plot(range(len(data.price_aprox_usd)), data.price_aprox_usd, color='red')\n",
    "\n",
    "plt.xlabel('Index')\n",
    "plt.ylabel('Precio aproximado en dólares')\n",
    "plt.title('Valores de precios en dólares')\n",
    "\n",
    "xmin, xmax, ymin, ymax = plt.axis()\n",
    "print('ymax: %.2f'% ymax)"
   ]
  },
  {
   "cell_type": "markdown",
   "source": [
    "# EDA Price usd per m2\n"
   ],
   "metadata": {
    "collapsed": false,
    "pycharm": {
     "name": "#%% md\n"
    }
   }
  },
  {
   "cell_type": "code",
   "execution_count": 33,
   "metadata": {
    "pycharm": {
     "name": "#%%\n"
    }
   },
   "outputs": [
    {
     "data": {
      "text/plain": "count     68617.000000\nmean       2160.086916\nstd        2759.288621\nmin           0.600000\n25%        1218.181818\n50%        1800.000000\n75%        2486.411765\nmax      206333.333333\nName: price_usd_per_m2, dtype: float64"
     },
     "execution_count": 33,
     "metadata": {},
     "output_type": "execute_result"
    }
   ],
   "source": [
    "## precio por m2\n",
    "data.price_usd_per_m2.describe()"
   ]
  },
  {
   "cell_type": "code",
   "execution_count": 34,
   "metadata": {
    "pycharm": {
     "name": "#%%\n"
    }
   },
   "outputs": [
    {
     "data": {
      "text/plain": "Int64Index([     5,     20,     41,     62,     67,     76,     83,     84,\n                85,    100,\n            ...\n            121126, 121127, 121129, 121142, 121207, 121208, 121210, 121211,\n            121212, 121213],\n           dtype='int64', length=17102)"
     },
     "execution_count": 34,
     "metadata": {},
     "output_type": "execute_result"
    }
   ],
   "source": [
    "\n",
    "#Vemos los null\n",
    "data.price_aprox_usd[data.price_aprox_usd.isnull()].index\n"
   ]
  },
  {
   "cell_type": "code",
   "execution_count": 35,
   "metadata": {
    "pycharm": {
     "name": "#%%\n"
    }
   },
   "outputs": [
    {
     "data": {
      "text/plain": "17102"
     },
     "execution_count": 35,
     "metadata": {},
     "output_type": "execute_result"
    }
   ],
   "source": [
    "len(data.price_aprox_usd[data.price_aprox_usd.isnull()].index)"
   ]
  },
  {
   "cell_type": "code",
   "execution_count": 36,
   "metadata": {
    "pycharm": {
     "name": "#%%\n"
    }
   },
   "outputs": [
    {
     "data": {
      "text/plain": "Int64Index([     1,      3,      5,      9,     11,     20,     41,     62,\n                65,     67,\n            ...\n            121152, 121155, 121156, 121207, 121208, 121210, 121211, 121212,\n            121213, 121214],\n           dtype='int64', length=52603)"
     },
     "execution_count": 36,
     "metadata": {},
     "output_type": "execute_result"
    }
   ],
   "source": [
    "indices=data.price_usd_per_m2[data.price_usd_per_m2.isnull()].index\n",
    "indices"
   ]
  },
  {
   "cell_type": "code",
   "execution_count": 37,
   "metadata": {
    "pycharm": {
     "name": "#%%\n"
    }
   },
   "outputs": [
    {
     "data": {
      "text/plain": "52603"
     },
     "execution_count": 37,
     "metadata": {},
     "output_type": "execute_result"
    }
   ],
   "source": [
    "len(data.price_usd_per_m2[data.price_usd_per_m2.isnull()].index)"
   ]
  },
  {
   "cell_type": "code",
   "execution_count": 38,
   "metadata": {
    "pycharm": {
     "name": "#%%\n"
    }
   },
   "outputs": [
    {
     "data": {
      "text/plain": "Int64Index([     1,      3,      9,     11,     65,     68,     70,     71,\n                72,     77,\n            ...\n            121148, 121149, 121150, 121151, 121152, 121155, 121156, 121207,\n            121208, 121210],\n           dtype='int64', length=39328)"
     },
     "execution_count": 38,
     "metadata": {},
     "output_type": "execute_result"
    }
   ],
   "source": [
    "data.surface_total_in_m2[data.surface_total_in_m2.isnull()].index\n"
   ]
  },
  {
   "cell_type": "code",
   "execution_count": 39,
   "metadata": {
    "pycharm": {
     "name": "#%%\n"
    }
   },
   "outputs": [
    {
     "data": {
      "text/plain": "39328"
     },
     "execution_count": 39,
     "metadata": {},
     "output_type": "execute_result"
    }
   ],
   "source": [
    "len(data.surface_total_in_m2[data.surface_total_in_m2.isnull()].index)"
   ]
  },
  {
   "cell_type": "code",
   "execution_count": 40,
   "metadata": {
    "pycharm": {
     "name": "#%%\n"
    }
   },
   "outputs": [],
   "source": [
    "price_usd_per_m2_nuevo = data[['price_aprox_usd','surface_total_in_m2']]\n",
    "\n",
    "price_usd_per_m2_nuevo = pd.DataFrame(price_usd_per_m2_nuevo.apply(lambda x: x['price_aprox_usd']/x['surface_total_in_m2'] \n",
    "                                   if(x['price_aprox_usd'] > 0 and x['surface_total_in_m2'] > 0 and x['price_aprox_usd'] > x['surface_total_in_m2']) \n",
    "                                   else np.nan, axis=1\n",
    "                                  )\n",
    "                     )"
   ]
  },
  {
   "cell_type": "code",
   "execution_count": 41,
   "metadata": {
    "pycharm": {
     "name": "#%%\n"
    }
   },
   "outputs": [
    {
     "data": {
      "text/plain": "                  0\n0       1127.272727\n1               NaN\n2       1309.090909\n3               NaN\n4       1828.571429\n...             ...\n121215  7699.115044\n121216  1383.333333\n121217  2858.695652\n121218  1997.916667\n121219  1675.324675\n\n[121220 rows x 1 columns]",
      "text/html": "<div>\n<style scoped>\n    .dataframe tbody tr th:only-of-type {\n        vertical-align: middle;\n    }\n\n    .dataframe tbody tr th {\n        vertical-align: top;\n    }\n\n    .dataframe thead th {\n        text-align: right;\n    }\n</style>\n<table border=\"1\" class=\"dataframe\">\n  <thead>\n    <tr style=\"text-align: right;\">\n      <th></th>\n      <th>0</th>\n    </tr>\n  </thead>\n  <tbody>\n    <tr>\n      <th>0</th>\n      <td>1127.272727</td>\n    </tr>\n    <tr>\n      <th>1</th>\n      <td>NaN</td>\n    </tr>\n    <tr>\n      <th>2</th>\n      <td>1309.090909</td>\n    </tr>\n    <tr>\n      <th>3</th>\n      <td>NaN</td>\n    </tr>\n    <tr>\n      <th>4</th>\n      <td>1828.571429</td>\n    </tr>\n    <tr>\n      <th>...</th>\n      <td>...</td>\n    </tr>\n    <tr>\n      <th>121215</th>\n      <td>7699.115044</td>\n    </tr>\n    <tr>\n      <th>121216</th>\n      <td>1383.333333</td>\n    </tr>\n    <tr>\n      <th>121217</th>\n      <td>2858.695652</td>\n    </tr>\n    <tr>\n      <th>121218</th>\n      <td>1997.916667</td>\n    </tr>\n    <tr>\n      <th>121219</th>\n      <td>1675.324675</td>\n    </tr>\n  </tbody>\n</table>\n<p>121220 rows × 1 columns</p>\n</div>"
     },
     "execution_count": 41,
     "metadata": {},
     "output_type": "execute_result"
    }
   ],
   "source": [
    "price_usd_per_m2_nuevo"
   ]
  },
  {
   "cell_type": "code",
   "execution_count": 42,
   "metadata": {
    "pycharm": {
     "name": "#%%\n"
    }
   },
   "outputs": [
    {
     "data": {
      "text/plain": "0    2130.800129\ndtype: float64"
     },
     "execution_count": 42,
     "metadata": {},
     "output_type": "execute_result"
    }
   ],
   "source": [
    "price_usd_per_m2_nuevo.mean()\n"
   ]
  },
  {
   "cell_type": "code",
   "execution_count": 43,
   "metadata": {
    "pycharm": {
     "name": "#%%\n"
    }
   },
   "outputs": [],
   "source": [
    "data.price_usd_per_m2.fillna(price_usd_per_m2_nuevo[0], inplace=True)\n"
   ]
  },
  {
   "cell_type": "markdown",
   "source": [
    "# Imputamos 2mil valores para los que estaban null, corregimos en caso de que el valor de price per m2 o surface fuera menor a 0, aplica Nan, caso contrario aplica la cuenta.\n"
   ],
   "metadata": {
    "collapsed": false,
    "pycharm": {
     "name": "#%% md\n"
    }
   }
  },
  {
   "cell_type": "code",
   "execution_count": 44,
   "metadata": {
    "pycharm": {
     "name": "#%%\n"
    }
   },
   "outputs": [
    {
     "data": {
      "text/plain": "50222"
     },
     "execution_count": 44,
     "metadata": {},
     "output_type": "execute_result"
    }
   ],
   "source": [
    "data.price_usd_per_m2.isnull().sum()"
   ]
  },
  {
   "cell_type": "markdown",
   "metadata": {
    "pycharm": {
     "name": "#%% md\n"
    }
   },
   "source": [
    "Analizamos cómo fueron calculados los valores de precio por m2, para los datos que coinciden precio y precio_aprox_usd:"
   ]
  },
  {
   "cell_type": "code",
   "execution_count": 45,
   "metadata": {
    "pycharm": {
     "name": "#%%\n"
    }
   },
   "outputs": [
    {
     "data": {
      "text/plain": "(87588, 26)"
     },
     "execution_count": 45,
     "metadata": {},
     "output_type": "execute_result"
    }
   ],
   "source": [
    "#total\n",
    "data.loc[(data['price'] == data['price_aprox_usd'])].shape"
   ]
  },
  {
   "cell_type": "code",
   "execution_count": 46,
   "metadata": {
    "pycharm": {
     "name": "#%%\n"
    }
   },
   "outputs": [
    {
     "data": {
      "text/plain": "(0, 26)"
     },
     "execution_count": 46,
     "metadata": {},
     "output_type": "execute_result"
    }
   ],
   "source": [
    "#vacios\n",
    "data.loc[(data['price'] == data['price_aprox_usd']) & (data['price_aprox_usd'].isnull())].shape"
   ]
  },
  {
   "cell_type": "code",
   "execution_count": 47,
   "metadata": {
    "pycharm": {
     "name": "#%%\n"
    }
   },
   "outputs": [
    {
     "data": {
      "text/plain": "(60133, 26)"
     },
     "execution_count": 47,
     "metadata": {},
     "output_type": "execute_result"
    }
   ],
   "source": [
    "#price usd o price y sup total (bien)\n",
    "\n",
    "data.loc[(data['price'] == data['price_aprox_usd']) & (round(data['price_usd_per_m2'],2) == round((data['price_aprox_usd']/data['surface_total_in_m2']),2))].shape\n"
   ]
  },
  {
   "cell_type": "code",
   "execution_count": 48,
   "metadata": {
    "pycharm": {
     "name": "#%%\n"
    }
   },
   "outputs": [
    {
     "data": {
      "text/plain": "(18400, 26)"
     },
     "execution_count": 48,
     "metadata": {},
     "output_type": "execute_result"
    }
   ],
   "source": [
    "##price usd o price y sup cubierta\n",
    "\n",
    "data.loc[(data['price'] == data['price_aprox_usd']) & (round(data['price_usd_per_m2'],2) == round((data['price_aprox_usd']/data['surface_covered_in_m2']),2))].shape\n"
   ]
  },
  {
   "cell_type": "markdown",
   "metadata": {
    "pycharm": {
     "name": "#%% md\n"
    }
   },
   "source": [
    "Notamos que fueron calculados de diferenctes maneras y que también hay datos erróneos.\n",
    "\n",
    "En todos los casos, reemplazamos la fórmula por la correcta:"
   ]
  },
  {
   "cell_type": "code",
   "execution_count": 49,
   "metadata": {
    "pycharm": {
     "name": "#%%\n"
    }
   },
   "outputs": [],
   "source": [
    "data.price_usd_per_m2 = np.where((data['price'] != data['price_aprox_usd']) & (data['surface_total_in_m2'] != 0), data['price_aprox_usd']/data['surface_total_in_m2'], data['price_usd_per_m2'])\n"
   ]
  },
  {
   "cell_type": "code",
   "execution_count": 50,
   "metadata": {
    "pycharm": {
     "name": "#%%\n"
    }
   },
   "outputs": [],
   "source": [
    "data.price_usd_per_m2 = np.where((data['price'] == data['price_aprox_usd'])  & (data['surface_total_in_m2'] != 0), data['price_aprox_usd']/data['surface_total_in_m2'], data['price_usd_per_m2'])\n"
   ]
  },
  {
   "cell_type": "code",
   "execution_count": 51,
   "metadata": {
    "pycharm": {
     "name": "#%%\n"
    }
   },
   "outputs": [
    {
     "data": {
      "text/plain": "50010"
     },
     "execution_count": 51,
     "metadata": {},
     "output_type": "execute_result"
    }
   ],
   "source": [
    "data.price_usd_per_m2.isnull().sum()\n"
   ]
  },
  {
   "cell_type": "code",
   "execution_count": 52,
   "metadata": {
    "pycharm": {
     "name": "#%%\n"
    }
   },
   "outputs": [],
   "source": [
    "# Confirmar, se hizo la media y se completaron los nan\n",
    "data.price_usd_per_m2.fillna(data.groupby(['property_type', 'place_name'])['price_usd_per_m2'].transform('mean'), inplace=True)\n"
   ]
  },
  {
   "cell_type": "code",
   "execution_count": 53,
   "metadata": {
    "pycharm": {
     "name": "#%%\n"
    }
   },
   "outputs": [
    {
     "data": {
      "text/plain": "1542"
     },
     "execution_count": 53,
     "metadata": {},
     "output_type": "execute_result"
    }
   ],
   "source": [
    "data.price_usd_per_m2.isnull().sum()"
   ]
  }
 ],
 "metadata": {
  "kernelspec": {
   "display_name": "Python 3.9.12 ('base')",
   "language": "python",
   "name": "python3"
  },
  "language_info": {
   "codemirror_mode": {
    "name": "ipython",
    "version": 3
   },
   "file_extension": ".py",
   "mimetype": "text/x-python",
   "name": "python",
   "nbconvert_exporter": "python",
   "pygments_lexer": "ipython3",
   "version": "3.9.12"
  },
  "orig_nbformat": 4,
  "vscode": {
   "interpreter": {
    "hash": "0a68ab044c6ea367198d7b58f0f8352272d5267d2d2c131306c104f6e9ede3d6"
   }
  }
 },
 "nbformat": 4,
 "nbformat_minor": 2
}