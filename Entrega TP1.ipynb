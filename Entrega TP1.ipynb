{
 "cells": [
  {
   "cell_type": "markdown",
   "metadata": {
    "pycharm": {
     "name": "#%% md\n"
    }
   },
   "source": [
    "# Trabajo Práctico 1"
   ]
  },
  {
   "cell_type": "code",
   "execution_count": 1,
   "metadata": {
    "collapsed": false,
    "pycharm": {
     "name": "#%%\n"
    }
   },
   "outputs": [],
   "source": [
    "import pandas as pd\n",
    "import seaborn as sns\n",
    "import geopandas as gpd\n",
    "import matplotlib.pyplot as plt\n",
    "import descartes\n",
    "import pyproj\n",
    "import shapely.wkt\n",
    "import numpy as np"
   ]
  },
  {
   "cell_type": "markdown",
   "metadata": {
    "collapsed": false,
    "pycharm": {
     "name": "#%% md\n"
    }
   },
   "source": [
    " # Glosario columnas\n",
    "\n",
    "-  operation: tipo de operacion (venta)\n",
    "-  property type: tipo de propiedad (house, PH, apartment, store)\n",
    "-  place_name: localidad de la propiedad.\n",
    "-  place_with_parent_names: localidad junto a provinca, pais.\n",
    "-  country_name: pais donde se encuentra la propiedad.\n",
    "-  state_name: provincia donde se encuentra la propiedad.\n",
    "-  geonames_id: número de identificación en la base de datos GeoNames.\n",
    "-  lat-lon: latitud y longitud juntos.\n",
    "-  lat: latidud.\n",
    "-  lon: longitud.\n",
    "-  price: precio de la propiedad en relacion a su moneda.\n",
    "-  currency: moneda en la que se encuentra valorizada la propiedad.\n",
    "-  price_aprox_local_currency: precio aproximado en pesos de la propiedad.\n",
    "-  price_aprox_usd: precio aproximado del inmueble en dólares.\n",
    "-  surface_total_in_m2: superficie total del inmueble en metros cuadrados.\n",
    "-  surface_covered_in_m2: superficie cubierta del inmueble en metros cuadrados.\n",
    "-  price_usd_per_m2: precio en dólares del metro cuadrado vs total m2.\n",
    "-  price_per_m2: precio, no se sabe en qué moneda.\n",
    "-  floor: piso? no es claro, valores extraños.\n",
    "-  rooms: cantidad de habitaciones.\n",
    "-  expenses: valor de las expensas.\n",
    "-  properati_url: url de la url de properati donde está publicado el inmueble.\n",
    "-  description: descripción completa de todo el inmueble. Contiene información de todas las columnas y más.\n",
    "-  title: título con el que se encuentra publicado. Aparece el tipo de propiedad, zona y alguna característica destacada como cantidad de ambientes.\n",
    "-  image_thumbnail: fotos del inmueble."
   ]
  },
  {
   "cell_type": "markdown",
   "metadata": {
    "collapsed": false,
    "pycharm": {
     "name": "#%% md\n"
    }
   },
   "source": [
    "# Leemos el dataset"
   ]
  },
  {
   "cell_type": "code",
   "execution_count": 2,
   "metadata": {
    "collapsed": false,
    "pycharm": {
     "name": "#%%\n"
    }
   },
   "outputs": [],
   "source": [
    "data=pd.read_csv('./properatti.csv')"
   ]
  },
  {
   "cell_type": "markdown",
   "metadata": {
    "collapsed": false,
    "pycharm": {
     "name": "#%% md\n"
    }
   },
   "source": [
    "# Observamos las diferentes columnas, los tipos de datos y cuantos valores no nulos tienen\n"
   ]
  },
  {
   "cell_type": "markdown",
   "metadata": {
    "pycharm": {
     "name": "#%% md\n"
    }
   },
   "source": [
    "Luego de disponibilizar el data set comenzamos a observar la información que contiene y a efectuar una limpieza del dataset provisto."
   ]
  },
  {
   "cell_type": "code",
   "execution_count": 3,
   "metadata": {
    "collapsed": false,
    "pycharm": {
     "name": "#%%\n"
    }
   },
   "outputs": [
    {
     "name": "stdout",
     "output_type": "stream",
     "text": [
      "<class 'pandas.core.frame.DataFrame'>\n",
      "RangeIndex: 121220 entries, 0 to 121219\n",
      "Data columns (total 26 columns):\n",
      " #   Column                      Non-Null Count   Dtype  \n",
      "---  ------                      --------------   -----  \n",
      " 0   Unnamed: 0                  121220 non-null  int64  \n",
      " 1   operation                   121220 non-null  object \n",
      " 2   property_type               121220 non-null  object \n",
      " 3   place_name                  121197 non-null  object \n",
      " 4   place_with_parent_names     121220 non-null  object \n",
      " 5   country_name                121220 non-null  object \n",
      " 6   state_name                  121220 non-null  object \n",
      " 7   geonames_id                 102503 non-null  float64\n",
      " 8   lat-lon                     69670 non-null   object \n",
      " 9   lat                         69670 non-null   float64\n",
      " 10  lon                         69670 non-null   float64\n",
      " 11  price                       100810 non-null  float64\n",
      " 12  currency                    100809 non-null  object \n",
      " 13  price_aprox_local_currency  100810 non-null  float64\n",
      " 14  price_aprox_usd             100810 non-null  float64\n",
      " 15  surface_total_in_m2         81892 non-null   float64\n",
      " 16  surface_covered_in_m2       101313 non-null  float64\n",
      " 17  price_usd_per_m2            68617 non-null   float64\n",
      " 18  price_per_m2                87658 non-null   float64\n",
      " 19  floor                       7899 non-null    float64\n",
      " 20  rooms                       47390 non-null   float64\n",
      " 21  expenses                    14262 non-null   float64\n",
      " 22  properati_url               121220 non-null  object \n",
      " 23  description                 121218 non-null  object \n",
      " 24  title                       121220 non-null  object \n",
      " 25  image_thumbnail             118108 non-null  object \n",
      "dtypes: float64(13), int64(1), object(12)\n",
      "memory usage: 24.0+ MB\n"
     ]
    }
   ],
   "source": [
    "data.info()"
   ]
  },
  {
   "cell_type": "code",
   "execution_count": 4,
   "metadata": {
    "collapsed": false,
    "pycharm": {
     "name": "#%%\n"
    }
   },
   "outputs": [
    {
     "data": {
      "text/plain": "          Unnamed: 0   geonames_id           lat           lon         price  \\\ncount  121220.000000  1.025030e+05  69670.000000  69670.000000  1.008100e+05   \nmean    60609.500000  3.574442e+06    -34.626210    -59.266290  4.685259e+05   \nstd     34993.344153  3.541306e+05      1.980936      2.299922  2.260101e+06   \nmin         0.000000  3.427208e+06    -54.823985    -75.678931  0.000000e+00   \n25%     30304.750000  3.430234e+06    -34.669065    -58.727040  1.100000e+05   \n50%     60609.500000  3.433910e+06    -34.597985    -58.480128  1.850000e+05   \n75%     90914.250000  3.836668e+06    -34.441299    -58.395908  4.200000e+05   \nmax    121219.000000  6.948895e+06      4.545843    -53.733330  6.500000e+08   \n\n       price_aprox_local_currency  price_aprox_usd  surface_total_in_m2  \\\ncount                1.008100e+05     1.008100e+05         81892.000000   \nmean                 4.229397e+06     2.397006e+05           233.795328   \nstd                  6.904714e+06     3.913239e+05          1782.222147   \nmin                  0.000000e+00     0.000000e+00             0.000000   \n25%                  1.583309e+06     8.973388e+04            50.000000   \n50%                  2.558452e+06     1.450000e+05            84.000000   \n75%                  4.675792e+06     2.650000e+05           200.000000   \nmax                  8.212711e+08     4.654544e+07        200000.000000   \n\n       surface_covered_in_m2  price_usd_per_m2  price_per_m2        floor  \\\ncount          101313.000000      68617.000000  8.765800e+04  7899.000000   \nmean              133.050181       2160.086916  6.912216e+03    17.452336   \nstd               724.351479       2759.288621  2.837864e+04   120.243621   \nmin                 0.000000          0.600000  1.510204e+00     1.000000   \n25%                45.000000       1218.181818  1.550000e+03     1.000000   \n50%                75.000000       1800.000000  2.213115e+03     3.000000   \n75%               150.000000       2486.411765  3.355549e+03     6.000000   \nmax            187000.000000     206333.333333  4.000000e+06  3150.000000   \n\n              rooms      expenses  \ncount  47390.000000  1.426200e+04  \nmean       3.080840  5.009234e+03  \nstd        1.860773  1.204403e+05  \nmin        1.000000  1.000000e+00  \n25%        2.000000  1.000000e+03  \n50%        3.000000  2.000000e+03  \n75%        4.000000  4.000000e+03  \nmax       32.000000  1.000150e+07  ",
      "text/html": "<div>\n<style scoped>\n    .dataframe tbody tr th:only-of-type {\n        vertical-align: middle;\n    }\n\n    .dataframe tbody tr th {\n        vertical-align: top;\n    }\n\n    .dataframe thead th {\n        text-align: right;\n    }\n</style>\n<table border=\"1\" class=\"dataframe\">\n  <thead>\n    <tr style=\"text-align: right;\">\n      <th></th>\n      <th>Unnamed: 0</th>\n      <th>geonames_id</th>\n      <th>lat</th>\n      <th>lon</th>\n      <th>price</th>\n      <th>price_aprox_local_currency</th>\n      <th>price_aprox_usd</th>\n      <th>surface_total_in_m2</th>\n      <th>surface_covered_in_m2</th>\n      <th>price_usd_per_m2</th>\n      <th>price_per_m2</th>\n      <th>floor</th>\n      <th>rooms</th>\n      <th>expenses</th>\n    </tr>\n  </thead>\n  <tbody>\n    <tr>\n      <th>count</th>\n      <td>121220.000000</td>\n      <td>1.025030e+05</td>\n      <td>69670.000000</td>\n      <td>69670.000000</td>\n      <td>1.008100e+05</td>\n      <td>1.008100e+05</td>\n      <td>1.008100e+05</td>\n      <td>81892.000000</td>\n      <td>101313.000000</td>\n      <td>68617.000000</td>\n      <td>8.765800e+04</td>\n      <td>7899.000000</td>\n      <td>47390.000000</td>\n      <td>1.426200e+04</td>\n    </tr>\n    <tr>\n      <th>mean</th>\n      <td>60609.500000</td>\n      <td>3.574442e+06</td>\n      <td>-34.626210</td>\n      <td>-59.266290</td>\n      <td>4.685259e+05</td>\n      <td>4.229397e+06</td>\n      <td>2.397006e+05</td>\n      <td>233.795328</td>\n      <td>133.050181</td>\n      <td>2160.086916</td>\n      <td>6.912216e+03</td>\n      <td>17.452336</td>\n      <td>3.080840</td>\n      <td>5.009234e+03</td>\n    </tr>\n    <tr>\n      <th>std</th>\n      <td>34993.344153</td>\n      <td>3.541306e+05</td>\n      <td>1.980936</td>\n      <td>2.299922</td>\n      <td>2.260101e+06</td>\n      <td>6.904714e+06</td>\n      <td>3.913239e+05</td>\n      <td>1782.222147</td>\n      <td>724.351479</td>\n      <td>2759.288621</td>\n      <td>2.837864e+04</td>\n      <td>120.243621</td>\n      <td>1.860773</td>\n      <td>1.204403e+05</td>\n    </tr>\n    <tr>\n      <th>min</th>\n      <td>0.000000</td>\n      <td>3.427208e+06</td>\n      <td>-54.823985</td>\n      <td>-75.678931</td>\n      <td>0.000000e+00</td>\n      <td>0.000000e+00</td>\n      <td>0.000000e+00</td>\n      <td>0.000000</td>\n      <td>0.000000</td>\n      <td>0.600000</td>\n      <td>1.510204e+00</td>\n      <td>1.000000</td>\n      <td>1.000000</td>\n      <td>1.000000e+00</td>\n    </tr>\n    <tr>\n      <th>25%</th>\n      <td>30304.750000</td>\n      <td>3.430234e+06</td>\n      <td>-34.669065</td>\n      <td>-58.727040</td>\n      <td>1.100000e+05</td>\n      <td>1.583309e+06</td>\n      <td>8.973388e+04</td>\n      <td>50.000000</td>\n      <td>45.000000</td>\n      <td>1218.181818</td>\n      <td>1.550000e+03</td>\n      <td>1.000000</td>\n      <td>2.000000</td>\n      <td>1.000000e+03</td>\n    </tr>\n    <tr>\n      <th>50%</th>\n      <td>60609.500000</td>\n      <td>3.433910e+06</td>\n      <td>-34.597985</td>\n      <td>-58.480128</td>\n      <td>1.850000e+05</td>\n      <td>2.558452e+06</td>\n      <td>1.450000e+05</td>\n      <td>84.000000</td>\n      <td>75.000000</td>\n      <td>1800.000000</td>\n      <td>2.213115e+03</td>\n      <td>3.000000</td>\n      <td>3.000000</td>\n      <td>2.000000e+03</td>\n    </tr>\n    <tr>\n      <th>75%</th>\n      <td>90914.250000</td>\n      <td>3.836668e+06</td>\n      <td>-34.441299</td>\n      <td>-58.395908</td>\n      <td>4.200000e+05</td>\n      <td>4.675792e+06</td>\n      <td>2.650000e+05</td>\n      <td>200.000000</td>\n      <td>150.000000</td>\n      <td>2486.411765</td>\n      <td>3.355549e+03</td>\n      <td>6.000000</td>\n      <td>4.000000</td>\n      <td>4.000000e+03</td>\n    </tr>\n    <tr>\n      <th>max</th>\n      <td>121219.000000</td>\n      <td>6.948895e+06</td>\n      <td>4.545843</td>\n      <td>-53.733330</td>\n      <td>6.500000e+08</td>\n      <td>8.212711e+08</td>\n      <td>4.654544e+07</td>\n      <td>200000.000000</td>\n      <td>187000.000000</td>\n      <td>206333.333333</td>\n      <td>4.000000e+06</td>\n      <td>3150.000000</td>\n      <td>32.000000</td>\n      <td>1.000150e+07</td>\n    </tr>\n  </tbody>\n</table>\n</div>"
     },
     "execution_count": 4,
     "metadata": {},
     "output_type": "execute_result"
    }
   ],
   "source": [
    "#El metodo describe arroja principalmente estadisticas descriptivas para columnas con datos cuantitativos, es por ello que vemos tan solo 14 columnas del dataset\n",
    "data.describe()"
   ]
  },
  {
   "cell_type": "code",
   "execution_count": 5,
   "metadata": {
    "collapsed": false,
    "pycharm": {
     "name": "#%%\n"
    }
   },
   "outputs": [
    {
     "data": {
      "text/plain": "        Unnamed: 0 operation property_type       place_name  \\\n66679        66679      sell     apartment          Córdoba   \n11588        11588      sell         house    Mar del Plata   \n45026        45026      sell     apartment  Capital Federal   \n97898        97898      sell     apartment         Castelar   \n105693      105693      sell         house          Rosario   \n55661        55661      sell     apartment           Flores   \n2871          2871      sell         house        Ituzaingó   \n83125        83125      sell         house         Nordelta   \n73515        73515      sell     apartment            Lanús   \n120823      120823      sell     apartment        Caballito   \n\n                                  place_with_parent_names country_name  \\\n66679                                 |Argentina|Córdoba|    Argentina   \n11588   |Argentina|Buenos Aires Costa Atlántica|Mar de...    Argentina   \n45026                         |Argentina|Capital Federal|    Argentina   \n97898   |Argentina|Bs.As. G.B.A. Zona Oeste|Morón|Cast...    Argentina   \n105693                       |Argentina|Santa Fe|Rosario|    Argentina   \n55661                  |Argentina|Capital Federal|Flores|    Argentina   \n2871       |Argentina|Bs.As. G.B.A. Zona Oeste|Ituzaingó|    Argentina   \n83125   |Argentina|Bs.As. G.B.A. Zona Norte|Tigre|Nord...    Argentina   \n73515      |Argentina|Bs.As. G.B.A. Zona Sur|Lanús|Lanús|    Argentina   \n120823              |Argentina|Capital Federal|Caballito|    Argentina   \n\n                          state_name  geonames_id                    lat-lon  \\\n66679                        Córdoba    3860255.0                        NaN   \n11588   Buenos Aires Costa Atlántica    3430863.0    -37.9893149,-57.5600139   \n45026                Capital Federal    3433955.0                        NaN   \n97898       Bs.As. G.B.A. Zona Oeste    3435607.0                        NaN   \n105693                      Santa Fe    3838574.0                        NaN   \n55661                Capital Federal    3433918.0    -34.6301094,-58.4638274   \n2871        Bs.As. G.B.A. Zona Oeste    3433359.0  -34.65702438,-58.67539597   \n83125       Bs.As. G.B.A. Zona Norte          NaN                        NaN   \n73515         Bs.As. G.B.A. Zona Sur          NaN                        NaN   \n120823               Capital Federal    3435874.0                        NaN   \n\n              lat  ...  surface_covered_in_m2  price_usd_per_m2 price_per_m2  \\\n66679         NaN  ...                    NaN               NaN          NaN   \n11588  -37.989315  ...                    NaN               NaN          NaN   \n45026         NaN  ...                   66.0       1710.526316  1969.696970   \n97898         NaN  ...                   41.0               NaN          NaN   \n105693        NaN  ...                  277.0               NaN          NaN   \n55661  -34.630109  ...                   40.0       1673.913043  1925.000000   \n2871   -34.657024  ...                   89.0               NaN          NaN   \n83125         NaN  ...                  200.0               NaN  1800.000000   \n73515         NaN  ...                   36.0               NaN  1638.888889   \n120823        NaN  ...                   56.0               NaN          NaN   \n\n        floor  rooms  expenses  \\\n66679     NaN    NaN       NaN   \n11588     NaN    4.0       NaN   \n45026     3.0    NaN       NaN   \n97898     NaN    NaN       NaN   \n105693    NaN    NaN       NaN   \n55661     NaN    NaN    1800.0   \n2871      NaN    2.0       NaN   \n83125     NaN    NaN       NaN   \n73515     NaN    NaN       NaN   \n120823    NaN    NaN       NaN   \n\n                                            properati_url  \\\n66679   http://www.properati.com.ar/1ae6u_venta_depart...   \n11588   http://www.properati.com.ar/16c39_venta_casa_m...   \n45026   http://www.properati.com.ar/191rr_venta_depart...   \n97898   http://www.properati.com.ar/1bkrh_venta_depart...   \n105693  http://www.properati.com.ar/1bv3d_venta_casa_r...   \n55661   http://www.properati.com.ar/19pfv_venta_depart...   \n2871    http://www.properati.com.ar/15kml_venta_casa_i...   \n83125   http://www.properati.com.ar/1b04q_venta_casa_n...   \n73515   http://www.properati.com.ar/1ansz_venta_depart...   \n120823  http://www.properati.com.ar/1cies_venta_depart...   \n\n                                              description  \\\n66679   Te invitamos a conocer: En barrio Nueva Córdob...   \n11588   CHALET A RECICLAR EN BARRIO FERROAUTOMOTORA, C...   \n45026   Barrio Cerrado Santa Barbara - Complejo Laguna...   \n97898   Departamento de 2 ambs semipiso, con excelente...   \n105693  CARACTERÍSTICAS Casa en 2 plantas de 277.00  m...   \n55661   CODIGO: 512-1788 ubicado en: PEDERNERA 65 1º B...   \n2871    Venta de Casa 3 AMBIENTES en Ituzaingó ,living...   \n83125   Espectacular casa a estrenar en uno de los mej...   \n73515   MONOAMBIENTE A ESTRENAR EN LANUS OESTE. A UNA ...   \n120823                  Semipiso de 3 ambientes todo r...   \n\n                                                    title  \\\n66679                               ***Vivi en Nva Cba***   \n11588   OPORTUNIDAD CHALET A RECICLAR BARRIO FERROAUTO...   \n45026   Departamento 76m² con 2 Plantas, Argentina, Ca...   \n97898                       Departamento - Castelar Norte   \n105693                                Casa - Centro Oeste   \n55661   2 AMBIENTES FRENTE BALCON EN VENTA EN FLORES S...   \n2871       U$D 115.000 - Casa en Venta - Bruselas     100   \n83125   Espectacular casa a estrenar en Nordelta - Las...   \n73515                          Departamento - Lanús Oeste   \n120823                           Departamento - Caballito   \n\n                                          image_thumbnail  \n66679   https://thumbs4.properati.com/5/AvbtpM1vhj2OJq...  \n11588   https://thumbs4.properati.com/6/ftf24ohXBlqS-c...  \n45026   https://thumbs4.properati.com/6/GViwsbxB5bBKRK...  \n97898   https://thumbs4.properati.com/3/wu4a8OJFD4E6jA...  \n105693  https://thumbs4.properati.com/8/qxJ3wkDE7xnaq9...  \n55661   https://thumbs4.properati.com/5/pEanR4MRYWKuYX...  \n2871    https://thumbs4.properati.com/6/Zxq5ShjjXPNCwQ...  \n83125   https://thumbs4.properati.com/0/1ygUP1jm43QszV...  \n73515   https://thumbs4.properati.com/5/GdNCVB4k0vmU69...  \n120823  https://thumbs4.properati.com/9/cErLO8B6Jy1IQU...  \n\n[10 rows x 26 columns]",
      "text/html": "<div>\n<style scoped>\n    .dataframe tbody tr th:only-of-type {\n        vertical-align: middle;\n    }\n\n    .dataframe tbody tr th {\n        vertical-align: top;\n    }\n\n    .dataframe thead th {\n        text-align: right;\n    }\n</style>\n<table border=\"1\" class=\"dataframe\">\n  <thead>\n    <tr style=\"text-align: right;\">\n      <th></th>\n      <th>Unnamed: 0</th>\n      <th>operation</th>\n      <th>property_type</th>\n      <th>place_name</th>\n      <th>place_with_parent_names</th>\n      <th>country_name</th>\n      <th>state_name</th>\n      <th>geonames_id</th>\n      <th>lat-lon</th>\n      <th>lat</th>\n      <th>...</th>\n      <th>surface_covered_in_m2</th>\n      <th>price_usd_per_m2</th>\n      <th>price_per_m2</th>\n      <th>floor</th>\n      <th>rooms</th>\n      <th>expenses</th>\n      <th>properati_url</th>\n      <th>description</th>\n      <th>title</th>\n      <th>image_thumbnail</th>\n    </tr>\n  </thead>\n  <tbody>\n    <tr>\n      <th>66679</th>\n      <td>66679</td>\n      <td>sell</td>\n      <td>apartment</td>\n      <td>Córdoba</td>\n      <td>|Argentina|Córdoba|</td>\n      <td>Argentina</td>\n      <td>Córdoba</td>\n      <td>3860255.0</td>\n      <td>NaN</td>\n      <td>NaN</td>\n      <td>...</td>\n      <td>NaN</td>\n      <td>NaN</td>\n      <td>NaN</td>\n      <td>NaN</td>\n      <td>NaN</td>\n      <td>NaN</td>\n      <td>http://www.properati.com.ar/1ae6u_venta_depart...</td>\n      <td>Te invitamos a conocer: En barrio Nueva Córdob...</td>\n      <td>***Vivi en Nva Cba***</td>\n      <td>https://thumbs4.properati.com/5/AvbtpM1vhj2OJq...</td>\n    </tr>\n    <tr>\n      <th>11588</th>\n      <td>11588</td>\n      <td>sell</td>\n      <td>house</td>\n      <td>Mar del Plata</td>\n      <td>|Argentina|Buenos Aires Costa Atlántica|Mar de...</td>\n      <td>Argentina</td>\n      <td>Buenos Aires Costa Atlántica</td>\n      <td>3430863.0</td>\n      <td>-37.9893149,-57.5600139</td>\n      <td>-37.989315</td>\n      <td>...</td>\n      <td>NaN</td>\n      <td>NaN</td>\n      <td>NaN</td>\n      <td>NaN</td>\n      <td>4.0</td>\n      <td>NaN</td>\n      <td>http://www.properati.com.ar/16c39_venta_casa_m...</td>\n      <td>CHALET A RECICLAR EN BARRIO FERROAUTOMOTORA, C...</td>\n      <td>OPORTUNIDAD CHALET A RECICLAR BARRIO FERROAUTO...</td>\n      <td>https://thumbs4.properati.com/6/ftf24ohXBlqS-c...</td>\n    </tr>\n    <tr>\n      <th>45026</th>\n      <td>45026</td>\n      <td>sell</td>\n      <td>apartment</td>\n      <td>Capital Federal</td>\n      <td>|Argentina|Capital Federal|</td>\n      <td>Argentina</td>\n      <td>Capital Federal</td>\n      <td>3433955.0</td>\n      <td>NaN</td>\n      <td>NaN</td>\n      <td>...</td>\n      <td>66.0</td>\n      <td>1710.526316</td>\n      <td>1969.696970</td>\n      <td>3.0</td>\n      <td>NaN</td>\n      <td>NaN</td>\n      <td>http://www.properati.com.ar/191rr_venta_depart...</td>\n      <td>Barrio Cerrado Santa Barbara - Complejo Laguna...</td>\n      <td>Departamento 76m² con 2 Plantas, Argentina, Ca...</td>\n      <td>https://thumbs4.properati.com/6/GViwsbxB5bBKRK...</td>\n    </tr>\n    <tr>\n      <th>97898</th>\n      <td>97898</td>\n      <td>sell</td>\n      <td>apartment</td>\n      <td>Castelar</td>\n      <td>|Argentina|Bs.As. G.B.A. Zona Oeste|Morón|Cast...</td>\n      <td>Argentina</td>\n      <td>Bs.As. G.B.A. Zona Oeste</td>\n      <td>3435607.0</td>\n      <td>NaN</td>\n      <td>NaN</td>\n      <td>...</td>\n      <td>41.0</td>\n      <td>NaN</td>\n      <td>NaN</td>\n      <td>NaN</td>\n      <td>NaN</td>\n      <td>NaN</td>\n      <td>http://www.properati.com.ar/1bkrh_venta_depart...</td>\n      <td>Departamento de 2 ambs semipiso, con excelente...</td>\n      <td>Departamento - Castelar Norte</td>\n      <td>https://thumbs4.properati.com/3/wu4a8OJFD4E6jA...</td>\n    </tr>\n    <tr>\n      <th>105693</th>\n      <td>105693</td>\n      <td>sell</td>\n      <td>house</td>\n      <td>Rosario</td>\n      <td>|Argentina|Santa Fe|Rosario|</td>\n      <td>Argentina</td>\n      <td>Santa Fe</td>\n      <td>3838574.0</td>\n      <td>NaN</td>\n      <td>NaN</td>\n      <td>...</td>\n      <td>277.0</td>\n      <td>NaN</td>\n      <td>NaN</td>\n      <td>NaN</td>\n      <td>NaN</td>\n      <td>NaN</td>\n      <td>http://www.properati.com.ar/1bv3d_venta_casa_r...</td>\n      <td>CARACTERÍSTICAS Casa en 2 plantas de 277.00  m...</td>\n      <td>Casa - Centro Oeste</td>\n      <td>https://thumbs4.properati.com/8/qxJ3wkDE7xnaq9...</td>\n    </tr>\n    <tr>\n      <th>55661</th>\n      <td>55661</td>\n      <td>sell</td>\n      <td>apartment</td>\n      <td>Flores</td>\n      <td>|Argentina|Capital Federal|Flores|</td>\n      <td>Argentina</td>\n      <td>Capital Federal</td>\n      <td>3433918.0</td>\n      <td>-34.6301094,-58.4638274</td>\n      <td>-34.630109</td>\n      <td>...</td>\n      <td>40.0</td>\n      <td>1673.913043</td>\n      <td>1925.000000</td>\n      <td>NaN</td>\n      <td>NaN</td>\n      <td>1800.0</td>\n      <td>http://www.properati.com.ar/19pfv_venta_depart...</td>\n      <td>CODIGO: 512-1788 ubicado en: PEDERNERA 65 1º B...</td>\n      <td>2 AMBIENTES FRENTE BALCON EN VENTA EN FLORES S...</td>\n      <td>https://thumbs4.properati.com/5/pEanR4MRYWKuYX...</td>\n    </tr>\n    <tr>\n      <th>2871</th>\n      <td>2871</td>\n      <td>sell</td>\n      <td>house</td>\n      <td>Ituzaingó</td>\n      <td>|Argentina|Bs.As. G.B.A. Zona Oeste|Ituzaingó|</td>\n      <td>Argentina</td>\n      <td>Bs.As. G.B.A. Zona Oeste</td>\n      <td>3433359.0</td>\n      <td>-34.65702438,-58.67539597</td>\n      <td>-34.657024</td>\n      <td>...</td>\n      <td>89.0</td>\n      <td>NaN</td>\n      <td>NaN</td>\n      <td>NaN</td>\n      <td>2.0</td>\n      <td>NaN</td>\n      <td>http://www.properati.com.ar/15kml_venta_casa_i...</td>\n      <td>Venta de Casa 3 AMBIENTES en Ituzaingó ,living...</td>\n      <td>U$D 115.000 - Casa en Venta - Bruselas     100</td>\n      <td>https://thumbs4.properati.com/6/Zxq5ShjjXPNCwQ...</td>\n    </tr>\n    <tr>\n      <th>83125</th>\n      <td>83125</td>\n      <td>sell</td>\n      <td>house</td>\n      <td>Nordelta</td>\n      <td>|Argentina|Bs.As. G.B.A. Zona Norte|Tigre|Nord...</td>\n      <td>Argentina</td>\n      <td>Bs.As. G.B.A. Zona Norte</td>\n      <td>NaN</td>\n      <td>NaN</td>\n      <td>NaN</td>\n      <td>...</td>\n      <td>200.0</td>\n      <td>NaN</td>\n      <td>1800.000000</td>\n      <td>NaN</td>\n      <td>NaN</td>\n      <td>NaN</td>\n      <td>http://www.properati.com.ar/1b04q_venta_casa_n...</td>\n      <td>Espectacular casa a estrenar en uno de los mej...</td>\n      <td>Espectacular casa a estrenar en Nordelta - Las...</td>\n      <td>https://thumbs4.properati.com/0/1ygUP1jm43QszV...</td>\n    </tr>\n    <tr>\n      <th>73515</th>\n      <td>73515</td>\n      <td>sell</td>\n      <td>apartment</td>\n      <td>Lanús</td>\n      <td>|Argentina|Bs.As. G.B.A. Zona Sur|Lanús|Lanús|</td>\n      <td>Argentina</td>\n      <td>Bs.As. G.B.A. Zona Sur</td>\n      <td>NaN</td>\n      <td>NaN</td>\n      <td>NaN</td>\n      <td>...</td>\n      <td>36.0</td>\n      <td>NaN</td>\n      <td>1638.888889</td>\n      <td>NaN</td>\n      <td>NaN</td>\n      <td>NaN</td>\n      <td>http://www.properati.com.ar/1ansz_venta_depart...</td>\n      <td>MONOAMBIENTE A ESTRENAR EN LANUS OESTE. A UNA ...</td>\n      <td>Departamento - Lanús Oeste</td>\n      <td>https://thumbs4.properati.com/5/GdNCVB4k0vmU69...</td>\n    </tr>\n    <tr>\n      <th>120823</th>\n      <td>120823</td>\n      <td>sell</td>\n      <td>apartment</td>\n      <td>Caballito</td>\n      <td>|Argentina|Capital Federal|Caballito|</td>\n      <td>Argentina</td>\n      <td>Capital Federal</td>\n      <td>3435874.0</td>\n      <td>NaN</td>\n      <td>NaN</td>\n      <td>...</td>\n      <td>56.0</td>\n      <td>NaN</td>\n      <td>NaN</td>\n      <td>NaN</td>\n      <td>NaN</td>\n      <td>NaN</td>\n      <td>http://www.properati.com.ar/1cies_venta_depart...</td>\n      <td>Semipiso de 3 ambientes todo r...</td>\n      <td>Departamento - Caballito</td>\n      <td>https://thumbs4.properati.com/9/cErLO8B6Jy1IQU...</td>\n    </tr>\n  </tbody>\n</table>\n<p>10 rows × 26 columns</p>\n</div>"
     },
     "execution_count": 5,
     "metadata": {},
     "output_type": "execute_result"
    }
   ],
   "source": [
    "#Tomamos una muestra para entender los valores del dataset\n",
    "data.sample(10)"
   ]
  },
  {
   "cell_type": "markdown",
   "metadata": {
    "collapsed": false,
    "pycharm": {
     "name": "#%% md\n"
    }
   },
   "source": [
    "# EDA (Exploration Data Analysis)"
   ]
  },
  {
   "cell_type": "markdown",
   "metadata": {
    "pycharm": {
     "name": "#%% md\n"
    }
   },
   "source": [
    "Comenzamos a explorar los datos, abordaremos las diferentes columnas evaluando qué datos contiene, su veracidad y utilidad. En el caso de datos nulos evaluaremos la opción de completarlos con datos que se encuentren en otras partes del data set."
   ]
  },
  {
   "cell_type": "markdown",
   "metadata": {
    "collapsed": false,
    "pycharm": {
     "name": "#%% md\n"
    }
   },
   "source": [
    "## Porcentaje por columna\n"
   ]
  },
  {
   "cell_type": "code",
   "execution_count": 6,
   "metadata": {
    "collapsed": false,
    "pycharm": {
     "name": "#%%\n"
    }
   },
   "outputs": [
    {
     "data": {
      "text/plain": "                                           column_name  percent_missing\nfloor                                            floor        93.483749\nexpenses                                      expenses        88.234615\nrooms                                            rooms        60.905791\nprice_usd_per_m2                      price_usd_per_m2        43.394654\nlat-lon                                        lat-lon        42.525986\nlat                                                lat        42.525986\nlon                                                lon        42.525986\nsurface_total_in_m2                surface_total_in_m2        32.443491\nprice_per_m2                              price_per_m2        27.686850\ncurrency                                      currency        16.837981\nprice_aprox_local_currency  price_aprox_local_currency        16.837156\nprice                                            price        16.837156\nprice_aprox_usd                        price_aprox_usd        16.837156\nsurface_covered_in_m2            surface_covered_in_m2        16.422208\ngeonames_id                                geonames_id        15.440521\nimage_thumbnail                        image_thumbnail         2.567233\nplace_name                                  place_name         0.018974\ndescription                                description         0.001650\noperation                                    operation         0.000000\nstate_name                                  state_name         0.000000\ncountry_name                              country_name         0.000000\nplace_with_parent_names        place_with_parent_names         0.000000\nproperty_type                            property_type         0.000000\nproperati_url                            properati_url         0.000000\ntitle                                            title         0.000000\nUnnamed: 0                                  Unnamed: 0         0.000000",
      "text/html": "<div>\n<style scoped>\n    .dataframe tbody tr th:only-of-type {\n        vertical-align: middle;\n    }\n\n    .dataframe tbody tr th {\n        vertical-align: top;\n    }\n\n    .dataframe thead th {\n        text-align: right;\n    }\n</style>\n<table border=\"1\" class=\"dataframe\">\n  <thead>\n    <tr style=\"text-align: right;\">\n      <th></th>\n      <th>column_name</th>\n      <th>percent_missing</th>\n    </tr>\n  </thead>\n  <tbody>\n    <tr>\n      <th>floor</th>\n      <td>floor</td>\n      <td>93.483749</td>\n    </tr>\n    <tr>\n      <th>expenses</th>\n      <td>expenses</td>\n      <td>88.234615</td>\n    </tr>\n    <tr>\n      <th>rooms</th>\n      <td>rooms</td>\n      <td>60.905791</td>\n    </tr>\n    <tr>\n      <th>price_usd_per_m2</th>\n      <td>price_usd_per_m2</td>\n      <td>43.394654</td>\n    </tr>\n    <tr>\n      <th>lat-lon</th>\n      <td>lat-lon</td>\n      <td>42.525986</td>\n    </tr>\n    <tr>\n      <th>lat</th>\n      <td>lat</td>\n      <td>42.525986</td>\n    </tr>\n    <tr>\n      <th>lon</th>\n      <td>lon</td>\n      <td>42.525986</td>\n    </tr>\n    <tr>\n      <th>surface_total_in_m2</th>\n      <td>surface_total_in_m2</td>\n      <td>32.443491</td>\n    </tr>\n    <tr>\n      <th>price_per_m2</th>\n      <td>price_per_m2</td>\n      <td>27.686850</td>\n    </tr>\n    <tr>\n      <th>currency</th>\n      <td>currency</td>\n      <td>16.837981</td>\n    </tr>\n    <tr>\n      <th>price_aprox_local_currency</th>\n      <td>price_aprox_local_currency</td>\n      <td>16.837156</td>\n    </tr>\n    <tr>\n      <th>price</th>\n      <td>price</td>\n      <td>16.837156</td>\n    </tr>\n    <tr>\n      <th>price_aprox_usd</th>\n      <td>price_aprox_usd</td>\n      <td>16.837156</td>\n    </tr>\n    <tr>\n      <th>surface_covered_in_m2</th>\n      <td>surface_covered_in_m2</td>\n      <td>16.422208</td>\n    </tr>\n    <tr>\n      <th>geonames_id</th>\n      <td>geonames_id</td>\n      <td>15.440521</td>\n    </tr>\n    <tr>\n      <th>image_thumbnail</th>\n      <td>image_thumbnail</td>\n      <td>2.567233</td>\n    </tr>\n    <tr>\n      <th>place_name</th>\n      <td>place_name</td>\n      <td>0.018974</td>\n    </tr>\n    <tr>\n      <th>description</th>\n      <td>description</td>\n      <td>0.001650</td>\n    </tr>\n    <tr>\n      <th>operation</th>\n      <td>operation</td>\n      <td>0.000000</td>\n    </tr>\n    <tr>\n      <th>state_name</th>\n      <td>state_name</td>\n      <td>0.000000</td>\n    </tr>\n    <tr>\n      <th>country_name</th>\n      <td>country_name</td>\n      <td>0.000000</td>\n    </tr>\n    <tr>\n      <th>place_with_parent_names</th>\n      <td>place_with_parent_names</td>\n      <td>0.000000</td>\n    </tr>\n    <tr>\n      <th>property_type</th>\n      <td>property_type</td>\n      <td>0.000000</td>\n    </tr>\n    <tr>\n      <th>properati_url</th>\n      <td>properati_url</td>\n      <td>0.000000</td>\n    </tr>\n    <tr>\n      <th>title</th>\n      <td>title</td>\n      <td>0.000000</td>\n    </tr>\n    <tr>\n      <th>Unnamed: 0</th>\n      <td>Unnamed: 0</td>\n      <td>0.000000</td>\n    </tr>\n  </tbody>\n</table>\n</div>"
     },
     "execution_count": 6,
     "metadata": {},
     "output_type": "execute_result"
    }
   ],
   "source": [
    "#Porcentaje de nulls respecto al total del dataset por columna\n",
    "\n",
    "percent_missing = data.isnull().sum() * 100 / len(data)\n",
    "missing_value_df = pd.DataFrame({'column_name': data.columns,\n",
    "                                 'percent_missing': percent_missing})\n",
    "\n",
    "missing_value_df.sort_values('percent_missing', inplace=True, ascending=False)\n",
    "missing_value_df"
   ]
  },
  {
   "cell_type": "code",
   "execution_count": 7,
   "metadata": {
    "collapsed": false,
    "pycharm": {
     "name": "#%%\n"
    }
   },
   "outputs": [
    {
     "data": {
      "text/plain": "sell    121220\nName: operation, dtype: int64"
     },
     "execution_count": 7,
     "metadata": {},
     "output_type": "execute_result"
    }
   ],
   "source": [
    "# Verificamos que todas las operaciones sean de tipo \"Venta\" // Podemos descartar esta columna\n",
    "data.operation.value_counts()"
   ]
  },
  {
   "cell_type": "markdown",
   "metadata": {
    "collapsed": false,
    "pycharm": {
     "name": "#%% md\n"
    }
   },
   "source": [
    "## Dropeamos (descartamos) la columna operation porque tiene un solo valor"
   ]
  },
  {
   "cell_type": "code",
   "execution_count": 8,
   "metadata": {
    "collapsed": false,
    "pycharm": {
     "name": "#%%\n"
    }
   },
   "outputs": [],
   "source": [
    "data.drop('operation',inplace=True, axis=1)"
   ]
  },
  {
   "cell_type": "markdown",
   "metadata": {
    "collapsed": false,
    "pycharm": {
     "name": "#%% md\n"
    }
   },
   "source": [
    "## Análisis columnas económicas"
   ]
  },
  {
   "cell_type": "markdown",
   "metadata": {
    "collapsed": false,
    "pycharm": {
     "name": "#%% md\n"
    }
   },
   "source": [
    "Price, Currency, Price_aprox_usd, Price_aprox_local_currency\n",
    "\n",
    "Como decisión de negocios, decidimos usar valores de precio en dólares únicamente, por lo que estos son los que intentaremos completar y depurar."
   ]
  },
  {
   "cell_type": "code",
   "execution_count": 9,
   "metadata": {
    "collapsed": false,
    "pycharm": {
     "name": "#%%\n"
    }
   },
   "outputs": [
    {
     "data": {
      "text/plain": "87588"
     },
     "execution_count": 9,
     "metadata": {},
     "output_type": "execute_result"
    }
   ],
   "source": [
    "#Cantidad de casos en que 'price' coincide con 'Price_aprox_usd'. Tenemos 87588 que coinciden.\n",
    "\n",
    "sum(data.price == data.price_aprox_usd)"
   ]
  },
  {
   "cell_type": "code",
   "execution_count": 10,
   "metadata": {
    "collapsed": false,
    "pycharm": {
     "name": "#%%\n"
    }
   },
   "outputs": [
    {
     "data": {
      "text/plain": "33632"
     },
     "execution_count": 10,
     "metadata": {},
     "output_type": "execute_result"
    }
   ],
   "source": [
    "#Cantidad de casos en que 'price' no coincide con 'Price_aprox_usd'. Tenemos 33632 que no coinciden.\n",
    "sum(data.price != data.price_aprox_usd)"
   ]
  },
  {
   "cell_type": "code",
   "execution_count": 11,
   "metadata": {
    "collapsed": false,
    "pycharm": {
     "name": "#%%\n"
    }
   },
   "outputs": [
    {
     "data": {
      "text/plain": "1"
     },
     "execution_count": 11,
     "metadata": {},
     "output_type": "execute_result"
    }
   ],
   "source": [
    "#Cantidad de casos en que 'price' coincide con 'price_aprox_local_currency'\n",
    "sum(data.price == data.price_aprox_local_currency)"
   ]
  },
  {
   "cell_type": "code",
   "execution_count": 12,
   "metadata": {
    "collapsed": false,
    "pycharm": {
     "name": "#%%\n"
    }
   },
   "outputs": [
    {
     "data": {
      "text/plain": "      price currency  price_aprox_usd  price_aprox_local_currency\n9761    0.0      NaN              0.0                         0.0",
      "text/html": "<div>\n<style scoped>\n    .dataframe tbody tr th:only-of-type {\n        vertical-align: middle;\n    }\n\n    .dataframe tbody tr th {\n        vertical-align: top;\n    }\n\n    .dataframe thead th {\n        text-align: right;\n    }\n</style>\n<table border=\"1\" class=\"dataframe\">\n  <thead>\n    <tr style=\"text-align: right;\">\n      <th></th>\n      <th>price</th>\n      <th>currency</th>\n      <th>price_aprox_usd</th>\n      <th>price_aprox_local_currency</th>\n    </tr>\n  </thead>\n  <tbody>\n    <tr>\n      <th>9761</th>\n      <td>0.0</td>\n      <td>NaN</td>\n      <td>0.0</td>\n      <td>0.0</td>\n    </tr>\n  </tbody>\n</table>\n</div>"
     },
     "execution_count": 12,
     "metadata": {},
     "output_type": "execute_result"
    }
   ],
   "source": [
    "#Es uno solo, así que veo cuál es:\n",
    "\n",
    "data[data.price == data.price_aprox_local_currency][['price', 'currency', 'price_aprox_usd', 'price_aprox_local_currency']]"
   ]
  },
  {
   "cell_type": "code",
   "execution_count": 13,
   "metadata": {
    "collapsed": false,
    "pycharm": {
     "name": "#%%\n"
    }
   },
   "outputs": [],
   "source": [
    "#Corroboro que todos los 'price' cuya 'currency' es USD se correspondan con el 'price_aprox_usd'\n",
    "\n",
    "data2 = data[data.currency == 'USD']"
   ]
  },
  {
   "cell_type": "code",
   "execution_count": 14,
   "metadata": {
    "collapsed": false,
    "pycharm": {
     "name": "#%%\n"
    }
   },
   "outputs": [
    {
     "data": {
      "text/plain": "0"
     },
     "execution_count": 14,
     "metadata": {},
     "output_type": "execute_result"
    }
   ],
   "source": [
    "#Valido si hay algun precio que sea distinto\n",
    "len(data2[data2.price != data2.price_aprox_usd])"
   ]
  },
  {
   "cell_type": "code",
   "execution_count": 15,
   "metadata": {
    "collapsed": false,
    "pycharm": {
     "name": "#%%\n"
    }
   },
   "outputs": [
    {
     "data": {
      "text/plain": "87587"
     },
     "execution_count": 15,
     "metadata": {},
     "output_type": "execute_result"
    }
   ],
   "source": [
    "#veo que hay uno menos que los coincidentes en valor(87588 vs 87587), alguno debe estar mal etiquetado, lo busco.\n",
    "len(data2)"
   ]
  },
  {
   "cell_type": "code",
   "execution_count": 16,
   "metadata": {
    "collapsed": false,
    "pycharm": {
     "name": "#%%\n"
    }
   },
   "outputs": [
    {
     "data": {
      "text/plain": "      price currency  price_aprox_usd  price_aprox_local_currency\n9761    0.0      NaN              0.0                         0.0",
      "text/html": "<div>\n<style scoped>\n    .dataframe tbody tr th:only-of-type {\n        vertical-align: middle;\n    }\n\n    .dataframe tbody tr th {\n        vertical-align: top;\n    }\n\n    .dataframe thead th {\n        text-align: right;\n    }\n</style>\n<table border=\"1\" class=\"dataframe\">\n  <thead>\n    <tr style=\"text-align: right;\">\n      <th></th>\n      <th>price</th>\n      <th>currency</th>\n      <th>price_aprox_usd</th>\n      <th>price_aprox_local_currency</th>\n    </tr>\n  </thead>\n  <tbody>\n    <tr>\n      <th>9761</th>\n      <td>0.0</td>\n      <td>NaN</td>\n      <td>0.0</td>\n      <td>0.0</td>\n    </tr>\n  </tbody>\n</table>\n</div>"
     },
     "execution_count": 16,
     "metadata": {},
     "output_type": "execute_result"
    }
   ],
   "source": [
    "data[(data.price == data.price_aprox_usd) & (data.currency != 'USD')][['price', 'currency', 'price_aprox_usd', 'price_aprox_local_currency']]"
   ]
  },
  {
   "cell_type": "code",
   "execution_count": 17,
   "metadata": {
    "collapsed": false,
    "pycharm": {
     "name": "#%%\n"
    }
   },
   "outputs": [
    {
     "data": {
      "text/plain": "USD    87587\nARS    13219\nPEN        2\nUYU        1\nName: currency, dtype: int64"
     },
     "execution_count": 17,
     "metadata": {},
     "output_type": "execute_result"
    }
   ],
   "source": [
    "#Ahora analizamos aquellos valores cuyos 'currency' no son USD.\n",
    "data.currency.value_counts()"
   ]
  },
  {
   "cell_type": "code",
   "execution_count": 18,
   "metadata": {
    "collapsed": false,
    "pycharm": {
     "name": "#%%\n"
    }
   },
   "outputs": [
    {
     "data": {
      "text/plain": "       price_aprox_usd     price\n50387        117139.33  380000.0\n50388        292848.33  950000.0",
      "text/html": "<div>\n<style scoped>\n    .dataframe tbody tr th:only-of-type {\n        vertical-align: middle;\n    }\n\n    .dataframe tbody tr th {\n        vertical-align: top;\n    }\n\n    .dataframe thead th {\n        text-align: right;\n    }\n</style>\n<table border=\"1\" class=\"dataframe\">\n  <thead>\n    <tr style=\"text-align: right;\">\n      <th></th>\n      <th>price_aprox_usd</th>\n      <th>price</th>\n    </tr>\n  </thead>\n  <tbody>\n    <tr>\n      <th>50387</th>\n      <td>117139.33</td>\n      <td>380000.0</td>\n    </tr>\n    <tr>\n      <th>50388</th>\n      <td>292848.33</td>\n      <td>950000.0</td>\n    </tr>\n  </tbody>\n</table>\n</div>"
     },
     "execution_count": 18,
     "metadata": {},
     "output_type": "execute_result"
    }
   ],
   "source": [
    "data[['price_aprox_usd', 'price']][data.currency == 'PEN']"
   ]
  },
  {
   "cell_type": "code",
   "execution_count": 19,
   "metadata": {
    "collapsed": false,
    "pycharm": {
     "name": "#%%\n"
    }
   },
   "outputs": [
    {
     "data": {
      "text/plain": "        price_aprox_usd        price\n107390      22980378.29  650000000.0",
      "text/html": "<div>\n<style scoped>\n    .dataframe tbody tr th:only-of-type {\n        vertical-align: middle;\n    }\n\n    .dataframe tbody tr th {\n        vertical-align: top;\n    }\n\n    .dataframe thead th {\n        text-align: right;\n    }\n</style>\n<table border=\"1\" class=\"dataframe\">\n  <thead>\n    <tr style=\"text-align: right;\">\n      <th></th>\n      <th>price_aprox_usd</th>\n      <th>price</th>\n    </tr>\n  </thead>\n  <tbody>\n    <tr>\n      <th>107390</th>\n      <td>22980378.29</td>\n      <td>650000000.0</td>\n    </tr>\n  </tbody>\n</table>\n</div>"
     },
     "execution_count": 19,
     "metadata": {},
     "output_type": "execute_result"
    }
   ],
   "source": [
    "data[['price_aprox_usd', 'price']][data.currency == 'UYU']"
   ]
  },
  {
   "cell_type": "code",
   "execution_count": 20,
   "metadata": {
    "collapsed": false,
    "pycharm": {
     "name": "#%%\n"
    }
   },
   "outputs": [],
   "source": [
    "auxData = data['description']\n"
   ]
  },
  {
   "cell_type": "code",
   "execution_count": 21,
   "metadata": {
    "collapsed": false,
    "pycharm": {
     "name": "#%%\n"
    }
   },
   "outputs": [
    {
     "data": {
      "text/plain": "0    2 AMBIENTES TIPO CASA PLANTA BAJA POR PASILLO,...\n1    VENTA DE DEPARTAMENTO EN DÉCIMO PISO AL FRENTE...\n2    2 AMBIENTES 3ER PISO LATERAL LIVING COMEDOR AM...\n3    PH 3 AMBIENTES CON PATIO HAY 3 DEPTOS EN LOTE,...\n4    DEPARTAMENTO CON FANTÁSTICA ILUMINACIÓN NATURA...\nName: description, dtype: object"
     },
     "execution_count": 21,
     "metadata": {},
     "output_type": "execute_result"
    }
   ],
   "source": [
    "auxData = auxData.str.upper()\n",
    "auxData = auxData.str.replace('.','', regex=True)\n",
    "auxData.fillna('', inplace = True)\n",
    "auxData.head()"
   ]
  },
  {
   "cell_type": "code",
   "execution_count": 22,
   "metadata": {
    "collapsed": false,
    "pycharm": {
     "name": "#%%\n"
    }
   },
   "outputs": [
    {
     "data": {
      "text/plain": "<bound method NDFrame.head of           0      1\n0       NaN    NaN\n1       U$D  20000\n2       NaN    NaN\n3       NaN    NaN\n4       NaN    NaN\n...     ...    ...\n121215  NaN    NaN\n121216  NaN    NaN\n121217  USD  20000\n121218  U$S  95900\n121219  NaN    NaN\n\n[121220 rows x 2 columns]>"
     },
     "execution_count": 22,
     "metadata": {},
     "output_type": "execute_result"
    }
   ],
   "source": [
    "auxData2 = auxData.str.extract('(USD|USS|US|U[$]D|U[$][$]|U[$]S)\\s?(\\d+)')\n",
    "auxData2.head"
   ]
  },
  {
   "cell_type": "code",
   "execution_count": 23,
   "metadata": {
    "collapsed": false,
    "pycharm": {
     "name": "#%%\n"
    }
   },
   "outputs": [],
   "source": [
    "auxData2.columns=['USD', 'price']"
   ]
  },
  {
   "cell_type": "code",
   "execution_count": 24,
   "metadata": {
    "collapsed": false,
    "pycharm": {
     "name": "#%%\n"
    }
   },
   "outputs": [
    {
     "data": {
      "text/plain": "13039"
     },
     "execution_count": 24,
     "metadata": {},
     "output_type": "execute_result"
    }
   ],
   "source": [
    "auxData2.price.notnull().sum()"
   ]
  },
  {
   "cell_type": "code",
   "execution_count": 25,
   "metadata": {
    "collapsed": false,
    "pycharm": {
     "name": "#%%\n"
    }
   },
   "outputs": [],
   "source": [
    "#aplico al dataset\n",
    "auxData2.price = pd.to_numeric(auxData2['price'])"
   ]
  },
  {
   "cell_type": "code",
   "execution_count": 26,
   "metadata": {
    "collapsed": false,
    "pycharm": {
     "name": "#%%\n"
    }
   },
   "outputs": [],
   "source": [
    "data['price_aprox_usd'] = data['price_aprox_usd'].fillna(auxData2['price'])"
   ]
  },
  {
   "cell_type": "code",
   "execution_count": 27,
   "metadata": {
    "collapsed": false,
    "pycharm": {
     "name": "#%%\n"
    }
   },
   "outputs": [
    {
     "data": {
      "text/plain": "19278"
     },
     "execution_count": 27,
     "metadata": {},
     "output_type": "execute_result"
    }
   ],
   "source": [
    "data['price_aprox_usd'].isnull().sum()"
   ]
  },
  {
   "cell_type": "code",
   "execution_count": 28,
   "metadata": {
    "collapsed": false,
    "pycharm": {
     "name": "#%%\n"
    }
   },
   "outputs": [],
   "source": [
    "#regex para tittle\n",
    "auxData3 = data['title']"
   ]
  },
  {
   "cell_type": "code",
   "execution_count": 29,
   "metadata": {
    "collapsed": false,
    "pycharm": {
     "name": "#%%\n"
    }
   },
   "outputs": [],
   "source": [
    "# formateo auxData3 para el regex\n",
    "\n",
    "auxData3 = auxData3.str.upper()\n",
    "auxData3 = auxData3.str.replace('.', '', regex=True)\n",
    "auxData3.fillna('', inplace=True)"
   ]
  },
  {
   "cell_type": "code",
   "execution_count": 30,
   "metadata": {
    "collapsed": false,
    "pycharm": {
     "name": "#%%\n"
    }
   },
   "outputs": [],
   "source": [
    "# Extraccion\n",
    "auxData4 = auxData3.str.extract('(USD|USS|US|U[$]D|U[$][$]|U[$]S)\\s?(\\d+)')"
   ]
  },
  {
   "cell_type": "code",
   "execution_count": 31,
   "metadata": {
    "collapsed": false,
    "pycharm": {
     "name": "#%%\n"
    }
   },
   "outputs": [],
   "source": [
    "# Renombro columnas\n",
    "auxData4.columns = ['USD', 'price']"
   ]
  },
  {
   "cell_type": "code",
   "execution_count": 32,
   "metadata": {
    "collapsed": false,
    "pycharm": {
     "name": "#%%\n"
    }
   },
   "outputs": [
    {
     "data": {
      "text/plain": "6948"
     },
     "execution_count": 32,
     "metadata": {},
     "output_type": "execute_result"
    }
   ],
   "source": [
    "# Tenemos 6948 precios que no son nulos\n",
    "auxData4.price.notnull().sum()"
   ]
  },
  {
   "cell_type": "code",
   "execution_count": 33,
   "metadata": {
    "collapsed": false,
    "pycharm": {
     "name": "#%%\n"
    }
   },
   "outputs": [],
   "source": [
    "# paso a numero los precios\n",
    "auxData4.price = pd.to_numeric(auxData4['price'])"
   ]
  },
  {
   "cell_type": "code",
   "execution_count": 34,
   "metadata": {
    "collapsed": false,
    "pycharm": {
     "name": "#%%\n"
    }
   },
   "outputs": [],
   "source": [
    "#Se aplica al dataset\n",
    "data['price_aprox_usd'] = data['price_aprox_usd'].fillna(auxData4['price'])"
   ]
  },
  {
   "cell_type": "code",
   "execution_count": 35,
   "metadata": {
    "collapsed": false,
    "pycharm": {
     "name": "#%%\n"
    }
   },
   "outputs": [
    {
     "data": {
      "text/plain": "17102"
     },
     "execution_count": 35,
     "metadata": {},
     "output_type": "execute_result"
    }
   ],
   "source": [
    "# Todavia tenemos 17102 valores nulos para price\n",
    "data['price_aprox_usd'].isnull().sum()"
   ]
  },
  {
   "cell_type": "code",
   "execution_count": 36,
   "metadata": {
    "collapsed": false,
    "pycharm": {
     "name": "#%%\n"
    }
   },
   "outputs": [],
   "source": [
    "#Completamos hasta ahora 3308 vacíos, quedandonos con 17102 datos vacíos."
   ]
  },
  {
   "cell_type": "code",
   "execution_count": 37,
   "metadata": {
    "collapsed": false,
    "pycharm": {
     "name": "#%%\n"
    }
   },
   "outputs": [
    {
     "name": "stdout",
     "output_type": "stream",
     "text": [
      "ymax: 129629628.45\n"
     ]
    },
    {
     "data": {
      "text/plain": "<Figure size 720x432 with 1 Axes>",
      "image/png": "[encoded data removed]"
     },
     "metadata": {},
     "output_type": "display_data"
    }
   ],
   "source": [
    "#Separo valores de precios muy extremos para revaluar con coherencia:\n",
    "\n",
    "plt.figure(figsize=(10,6))\n",
    "plt.grid(True)\n",
    "plt.plot(range(len(data.price_aprox_usd)), data.price_aprox_usd, color='red')\n",
    "\n",
    "plt.xlabel('Index')\n",
    "plt.ylabel('Precio aproximado en dólares')\n",
    "plt.title('Valores de precios en dólares')\n",
    "\n",
    "xmin, xmax, ymin, ymax = plt.axis()\n",
    "print('ymax: %.2f'% ymax)"
   ]
  },
  {
   "cell_type": "markdown",
   "metadata": {
    "pycharm": {
     "name": "#%% md\n"
    }
   },
   "source": [
    "Vamos a analizar la columna que contiene el precio de la propiedad por m2"
   ]
  },
  {
   "cell_type": "code",
   "execution_count": 38,
   "metadata": {
    "collapsed": false,
    "pycharm": {
     "name": "#%%\n"
    }
   },
   "outputs": [
    {
     "data": {
      "text/plain": "count     68617.000000\nmean       2160.086916\nstd        2759.288621\nmin           0.600000\n25%        1218.181818\n50%        1800.000000\n75%        2486.411765\nmax      206333.333333\nName: price_usd_per_m2, dtype: float64"
     },
     "execution_count": 38,
     "metadata": {},
     "output_type": "execute_result"
    }
   ],
   "source": [
    "## precio por m2\n",
    "data.price_usd_per_m2.describe()"
   ]
  },
  {
   "cell_type": "code",
   "execution_count": 39,
   "metadata": {
    "collapsed": false,
    "pycharm": {
     "name": "#%%\n"
    }
   },
   "outputs": [
    {
     "data": {
      "text/plain": "Int64Index([     5,     20,     41,     62,     67,     76,     83,     84,\n                85,    100,\n            ...\n            121126, 121127, 121129, 121142, 121207, 121208, 121210, 121211,\n            121212, 121213],\n           dtype='int64', length=17102)"
     },
     "execution_count": 39,
     "metadata": {},
     "output_type": "execute_result"
    }
   ],
   "source": [
    "\n",
    "#Vemos los null\n",
    "data.price_aprox_usd[data.price_aprox_usd.isnull()].index\n"
   ]
  },
  {
   "cell_type": "code",
   "execution_count": 40,
   "metadata": {
    "collapsed": false,
    "pycharm": {
     "name": "#%%\n"
    }
   },
   "outputs": [
    {
     "data": {
      "text/plain": "17102"
     },
     "execution_count": 40,
     "metadata": {},
     "output_type": "execute_result"
    }
   ],
   "source": [
    "len(data.price_aprox_usd[data.price_aprox_usd.isnull()].index)"
   ]
  },
  {
   "cell_type": "code",
   "execution_count": 41,
   "metadata": {
    "collapsed": false,
    "pycharm": {
     "name": "#%%\n"
    }
   },
   "outputs": [
    {
     "data": {
      "text/plain": "Int64Index([     1,      3,      5,      9,     11,     20,     41,     62,\n                65,     67,\n            ...\n            121152, 121155, 121156, 121207, 121208, 121210, 121211, 121212,\n            121213, 121214],\n           dtype='int64', length=52603)"
     },
     "execution_count": 41,
     "metadata": {},
     "output_type": "execute_result"
    }
   ],
   "source": [
    "indices=data.price_usd_per_m2[data.price_usd_per_m2.isnull()].index\n",
    "indices"
   ]
  },
  {
   "cell_type": "code",
   "execution_count": 42,
   "metadata": {
    "collapsed": false,
    "pycharm": {
     "name": "#%%\n"
    }
   },
   "outputs": [
    {
     "data": {
      "text/plain": "52603"
     },
     "execution_count": 42,
     "metadata": {},
     "output_type": "execute_result"
    }
   ],
   "source": [
    "len(data.price_usd_per_m2[data.price_usd_per_m2.isnull()].index)"
   ]
  },
  {
   "cell_type": "code",
   "execution_count": 43,
   "metadata": {
    "collapsed": false,
    "pycharm": {
     "name": "#%%\n"
    }
   },
   "outputs": [
    {
     "data": {
      "text/plain": "Int64Index([     1,      3,      9,     11,     65,     68,     70,     71,\n                72,     77,\n            ...\n            121148, 121149, 121150, 121151, 121152, 121155, 121156, 121207,\n            121208, 121210],\n           dtype='int64', length=39328)"
     },
     "execution_count": 43,
     "metadata": {},
     "output_type": "execute_result"
    }
   ],
   "source": [
    "data.surface_total_in_m2[data.surface_total_in_m2.isnull()].index\n"
   ]
  },
  {
   "cell_type": "code",
   "execution_count": 44,
   "metadata": {
    "collapsed": false,
    "pycharm": {
     "name": "#%%\n"
    }
   },
   "outputs": [
    {
     "data": {
      "text/plain": "39328"
     },
     "execution_count": 44,
     "metadata": {},
     "output_type": "execute_result"
    }
   ],
   "source": [
    "len(data.surface_total_in_m2[data.surface_total_in_m2.isnull()].index)"
   ]
  },
  {
   "cell_type": "code",
   "execution_count": 45,
   "metadata": {
    "collapsed": false,
    "pycharm": {
     "name": "#%%\n"
    }
   },
   "outputs": [],
   "source": [
    "price_usd_per_m2_nuevo = data[['price_aprox_usd','surface_total_in_m2']]\n",
    "\n",
    "price_usd_per_m2_nuevo = pd.DataFrame(price_usd_per_m2_nuevo.apply(lambda x: x['price_aprox_usd']/x['surface_total_in_m2'] \n",
    "                                   if(x['price_aprox_usd'] > 0 and x['surface_total_in_m2'] > 0 and x['price_aprox_usd'] > x['surface_total_in_m2']) \n",
    "                                   else np.nan, axis=1\n",
    "                                  )\n",
    "                     )"
   ]
  },
  {
   "cell_type": "code",
   "execution_count": 46,
   "metadata": {
    "collapsed": false,
    "pycharm": {
     "name": "#%%\n"
    }
   },
   "outputs": [
    {
     "data": {
      "text/plain": "                  0\n0       1127.272727\n1               NaN\n2       1309.090909\n3               NaN\n4       1828.571429\n...             ...\n121215  7699.115044\n121216  1383.333333\n121217  2858.695652\n121218  1997.916667\n121219  1675.324675\n\n[121220 rows x 1 columns]",
      "text/html": "<div>\n<style scoped>\n    .dataframe tbody tr th:only-of-type {\n        vertical-align: middle;\n    }\n\n    .dataframe tbody tr th {\n        vertical-align: top;\n    }\n\n    .dataframe thead th {\n        text-align: right;\n    }\n</style>\n<table border=\"1\" class=\"dataframe\">\n  <thead>\n    <tr style=\"text-align: right;\">\n      <th></th>\n      <th>0</th>\n    </tr>\n  </thead>\n  <tbody>\n    <tr>\n      <th>0</th>\n      <td>1127.272727</td>\n    </tr>\n    <tr>\n      <th>1</th>\n      <td>NaN</td>\n    </tr>\n    <tr>\n      <th>2</th>\n      <td>1309.090909</td>\n    </tr>\n    <tr>\n      <th>3</th>\n      <td>NaN</td>\n    </tr>\n    <tr>\n      <th>4</th>\n      <td>1828.571429</td>\n    </tr>\n    <tr>\n      <th>...</th>\n      <td>...</td>\n    </tr>\n    <tr>\n      <th>121215</th>\n      <td>7699.115044</td>\n    </tr>\n    <tr>\n      <th>121216</th>\n      <td>1383.333333</td>\n    </tr>\n    <tr>\n      <th>121217</th>\n      <td>2858.695652</td>\n    </tr>\n    <tr>\n      <th>121218</th>\n      <td>1997.916667</td>\n    </tr>\n    <tr>\n      <th>121219</th>\n      <td>1675.324675</td>\n    </tr>\n  </tbody>\n</table>\n<p>121220 rows × 1 columns</p>\n</div>"
     },
     "execution_count": 46,
     "metadata": {},
     "output_type": "execute_result"
    }
   ],
   "source": [
    "price_usd_per_m2_nuevo"
   ]
  },
  {
   "cell_type": "code",
   "execution_count": 47,
   "metadata": {
    "collapsed": false,
    "pycharm": {
     "name": "#%%\n"
    }
   },
   "outputs": [
    {
     "data": {
      "text/plain": "0    2130.800129\ndtype: float64"
     },
     "execution_count": 47,
     "metadata": {},
     "output_type": "execute_result"
    }
   ],
   "source": [
    "price_usd_per_m2_nuevo.mean()\n"
   ]
  },
  {
   "cell_type": "code",
   "execution_count": 48,
   "metadata": {
    "collapsed": false,
    "pycharm": {
     "name": "#%%\n"
    }
   },
   "outputs": [],
   "source": [
    "data.price_usd_per_m2.fillna(price_usd_per_m2_nuevo[0], inplace=True)\n"
   ]
  },
  {
   "cell_type": "code",
   "execution_count": 49,
   "metadata": {
    "collapsed": false,
    "pycharm": {
     "name": "#%%\n"
    }
   },
   "outputs": [
    {
     "data": {
      "text/plain": "50222"
     },
     "execution_count": 49,
     "metadata": {},
     "output_type": "execute_result"
    }
   ],
   "source": [
    "data.price_usd_per_m2.isnull().sum()\n"
   ]
  },
  {
   "cell_type": "markdown",
   "metadata": {
    "collapsed": false,
    "pycharm": {
     "name": "#%% md\n"
    }
   },
   "source": [
    "Analizamos cómo fueron calculados los valores de precio por m2, para los datos que coinciden precio y precio_aprox_usd:"
   ]
  },
  {
   "cell_type": "code",
   "execution_count": 50,
   "metadata": {
    "collapsed": false,
    "pycharm": {
     "name": "#%%\n"
    }
   },
   "outputs": [
    {
     "data": {
      "text/plain": "(87588, 25)"
     },
     "execution_count": 50,
     "metadata": {},
     "output_type": "execute_result"
    }
   ],
   "source": [
    "#total\n",
    "data.loc[(data['price'] == data['price_aprox_usd'])].shape"
   ]
  },
  {
   "cell_type": "code",
   "execution_count": 51,
   "metadata": {
    "collapsed": false,
    "pycharm": {
     "name": "#%%\n"
    }
   },
   "outputs": [
    {
     "data": {
      "text/plain": "(0, 25)"
     },
     "execution_count": 51,
     "metadata": {},
     "output_type": "execute_result"
    }
   ],
   "source": [
    "#vacios\n",
    "data.loc[(data['price'] == data['price_aprox_usd']) & (data['price_aprox_usd'].isnull())].shape"
   ]
  },
  {
   "cell_type": "code",
   "execution_count": 52,
   "metadata": {
    "collapsed": false,
    "pycharm": {
     "name": "#%%\n"
    }
   },
   "outputs": [
    {
     "data": {
      "text/plain": "(60133, 25)"
     },
     "execution_count": 52,
     "metadata": {},
     "output_type": "execute_result"
    }
   ],
   "source": [
    "#price usd o price y sup total (bien)\n",
    "\n",
    "data.loc[(data['price'] == data['price_aprox_usd']) & (round(data['price_usd_per_m2'],2) == round((data['price_aprox_usd']/data['surface_total_in_m2']),2))].shape\n"
   ]
  },
  {
   "cell_type": "code",
   "execution_count": 53,
   "metadata": {
    "collapsed": false,
    "pycharm": {
     "name": "#%%\n"
    }
   },
   "outputs": [
    {
     "data": {
      "text/plain": "(18400, 25)"
     },
     "execution_count": 53,
     "metadata": {},
     "output_type": "execute_result"
    }
   ],
   "source": [
    "##price usd o price y sup cubierta\n",
    "\n",
    "data.loc[(data['price'] == data['price_aprox_usd']) & (round(data['price_usd_per_m2'],2) == round((data['price_aprox_usd']/data['surface_covered_in_m2']),2))].shape\n"
   ]
  },
  {
   "cell_type": "markdown",
   "metadata": {
    "collapsed": false,
    "pycharm": {
     "name": "#%% md\n"
    }
   },
   "source": [
    "Notamos que fueron calculados de diferenctes maneras y que también hay datos erróneos.\n",
    "\n",
    "En todos los casos, reemplazamos la fórmula por la correcta:"
   ]
  },
  {
   "cell_type": "code",
   "execution_count": 54,
   "metadata": {
    "collapsed": false,
    "pycharm": {
     "name": "#%%\n"
    }
   },
   "outputs": [],
   "source": [
    "data.price_usd_per_m2 = np.where((data['price'] != data['price_aprox_usd']) & (data['surface_total_in_m2'] != 0), data['price_aprox_usd']/data['surface_total_in_m2'], data['price_usd_per_m2'])\n"
   ]
  },
  {
   "cell_type": "code",
   "execution_count": 55,
   "metadata": {
    "collapsed": false,
    "pycharm": {
     "name": "#%%\n"
    }
   },
   "outputs": [],
   "source": [
    "data.price_usd_per_m2 = np.where((data['price'] == data['price_aprox_usd'])  & (data['surface_total_in_m2'] != 0), data['price_aprox_usd']/data['surface_total_in_m2'], data['price_usd_per_m2'])\n"
   ]
  },
  {
   "cell_type": "code",
   "execution_count": 56,
   "metadata": {
    "collapsed": false,
    "pycharm": {
     "name": "#%%\n"
    }
   },
   "outputs": [
    {
     "data": {
      "text/plain": "50010"
     },
     "execution_count": 56,
     "metadata": {},
     "output_type": "execute_result"
    }
   ],
   "source": [
    "data.price_usd_per_m2.isnull().sum()\n"
   ]
  },
  {
   "cell_type": "code",
   "execution_count": 57,
   "metadata": {
    "collapsed": false,
    "pycharm": {
     "name": "#%%\n"
    }
   },
   "outputs": [],
   "source": [
    "# Confirmar, se hizo la media y se completaron los nan\n",
    "data.price_usd_per_m2.fillna(data.groupby(['property_type', 'place_name'])['price_usd_per_m2'].transform('mean'), inplace=True)\n"
   ]
  },
  {
   "cell_type": "code",
   "execution_count": 58,
   "metadata": {
    "collapsed": false,
    "pycharm": {
     "name": "#%%\n"
    }
   },
   "outputs": [
    {
     "data": {
      "text/plain": "1542"
     },
     "execution_count": 58,
     "metadata": {},
     "output_type": "execute_result"
    }
   ],
   "source": [
    "data.price_usd_per_m2.isnull().sum()"
   ]
  },
  {
   "cell_type": "markdown",
   "metadata": {
    "collapsed": false,
    "pycharm": {
     "name": "#%% md\n"
    }
   },
   "source": [
    "## Property Type"
   ]
  },
  {
   "cell_type": "code",
   "execution_count": 59,
   "metadata": {
    "collapsed": false,
    "pycharm": {
     "name": "#%%\n"
    }
   },
   "outputs": [
    {
     "name": "stdout",
     "output_type": "stream",
     "text": [
      "apartment    71065\n",
      "house        40268\n",
      "PH            5751\n",
      "store         4136\n",
      "Name: property_type, dtype: int64\n"
     ]
    },
    {
     "data": {
      "text/plain": "<Figure size 432x288 with 1 Axes>",
      "image/png": "[encoded data removed]"
     },
     "metadata": {},
     "output_type": "display_data"
    }
   ],
   "source": [
    "# Vemos 4 valores distintos de property_type. \n",
    "# La mayor cantidad de anuncios son de Apartment y House\n",
    "print(data.property_type.value_counts())\n",
    "sns.histplot( x=\"property_type\", data=data, hue='property_type' )\n",
    "plt.show()\n"
   ]
  },
  {
   "cell_type": "code",
   "execution_count": 60,
   "metadata": {
    "collapsed": false,
    "pycharm": {
     "name": "#%%\n"
    }
   },
   "outputs": [
    {
     "data": {
      "text/plain": "Córdoba               9254\nRosario               8504\nMar del Plata         6534\nTigre                 3324\nNordelta              3315\n                      ... \nSierras Bayas            1\nPaso de los Libres       1\nAzara                    1\nCoronel Du Graty         1\nAltos de Hudson I        1\nName: place_name, Length: 1060, dtype: int64"
     },
     "execution_count": 60,
     "metadata": {},
     "output_type": "execute_result"
    }
   ],
   "source": [
    "# Valores de property_type\n",
    "data.place_name.value_counts()"
   ]
  },
  {
   "cell_type": "markdown",
   "metadata": {
    "collapsed": false,
    "pycharm": {
     "name": "#%% md\n"
    }
   },
   "source": [
    "## Chequeamos si los valores de place_name coinciden con place_with_parent_names"
   ]
  },
  {
   "cell_type": "code",
   "execution_count": 61,
   "metadata": {
    "collapsed": false,
    "pycharm": {
     "name": "#%%\n"
    }
   },
   "outputs": [
    {
     "data": {
      "text/plain": "True     121197\nFalse        23\ndtype: int64"
     },
     "execution_count": 61,
     "metadata": {},
     "output_type": "execute_result"
    }
   ],
   "source": [
    "# Chequeo si todos los place_names son correctos en place_with_parent_names\n",
    "# 23 --> a 23 registros le falta el place name\n",
    "place_coincide = data.apply(lambda x: True if str(x['place_with_parent_names']).find(str(x['place_name'])) >= 0 else False, axis=1)\n",
    "place_coincide.value_counts()"
   ]
  },
  {
   "cell_type": "code",
   "execution_count": 62,
   "metadata": {
    "pycharm": {
     "name": "#%%\n"
    }
   },
   "outputs": [
    {
     "name": "stdout",
     "output_type": "stream",
     "text": [
      "                           place_with_parent_names\n",
      "6489   |Argentina|Bs.As. G.B.A. Zona Norte|Tigre||\n",
      "10201  |Argentina|Bs.As. G.B.A. Zona Norte|Tigre||\n",
      "11451  |Argentina|Bs.As. G.B.A. Zona Norte|Tigre||\n",
      "14839  |Argentina|Bs.As. G.B.A. Zona Norte|Tigre||\n",
      "18622  |Argentina|Bs.As. G.B.A. Zona Norte|Tigre||\n",
      "21922  |Argentina|Bs.As. G.B.A. Zona Norte|Tigre||\n",
      "23664  |Argentina|Bs.As. G.B.A. Zona Norte|Tigre||\n",
      "24722  |Argentina|Bs.As. G.B.A. Zona Norte|Tigre||\n",
      "38856  |Argentina|Bs.As. G.B.A. Zona Norte|Tigre||\n",
      "45970  |Argentina|Bs.As. G.B.A. Zona Norte|Tigre||\n",
      "46642  |Argentina|Bs.As. G.B.A. Zona Norte|Tigre||\n",
      "53130  |Argentina|Bs.As. G.B.A. Zona Norte|Tigre||\n",
      "55306  |Argentina|Bs.As. G.B.A. Zona Norte|Tigre||\n",
      "57703  |Argentina|Bs.As. G.B.A. Zona Norte|Tigre||\n",
      "57759  |Argentina|Bs.As. G.B.A. Zona Norte|Tigre||\n",
      "57764  |Argentina|Bs.As. G.B.A. Zona Norte|Tigre||\n",
      "57793  |Argentina|Bs.As. G.B.A. Zona Norte|Tigre||\n",
      "58004  |Argentina|Bs.As. G.B.A. Zona Norte|Tigre||\n",
      "58037  |Argentina|Bs.As. G.B.A. Zona Norte|Tigre||\n",
      "59069  |Argentina|Bs.As. G.B.A. Zona Norte|Tigre||\n",
      "62411  |Argentina|Bs.As. G.B.A. Zona Norte|Tigre||\n",
      "62413  |Argentina|Bs.As. G.B.A. Zona Norte|Tigre||\n",
      "63849  |Argentina|Bs.As. G.B.A. Zona Norte|Tigre||\n"
     ]
    }
   ],
   "source": [
    "print(data.loc[~place_coincide,['place_with_parent_names']])"
   ]
  },
  {
   "cell_type": "markdown",
   "metadata": {
    "pycharm": {
     "name": "#%% md\n"
    }
   },
   "source": [
    "### Los que faltan son todos de Tigre"
   ]
  },
  {
   "cell_type": "code",
   "execution_count": 63,
   "metadata": {
    "collapsed": false,
    "pycharm": {
     "name": "#%%\n"
    }
   },
   "outputs": [
    {
     "data": {
      "text/plain": "False    121197\nTrue         23\nName: place_name, dtype: int64"
     },
     "execution_count": 63,
     "metadata": {},
     "output_type": "execute_result"
    }
   ],
   "source": [
    "\n",
    "data.place_name.isnull().value_counts()"
   ]
  },
  {
   "cell_type": "markdown",
   "metadata": {
    "collapsed": false,
    "pycharm": {
     "name": "#%% md\n"
    }
   },
   "source": [
    "## Imputamos los valores diferentes por Tigre\n"
   ]
  },
  {
   "cell_type": "code",
   "execution_count": 64,
   "metadata": {
    "collapsed": false,
    "pycharm": {
     "name": "#%%\n"
    }
   },
   "outputs": [
    {
     "data": {
      "text/plain": "Unnamed: 0                                                                 6489\nproperty_type                                                             house\nplace_name                                                                  NaN\nplace_with_parent_names             |Argentina|Bs.As. G.B.A. Zona Norte|Tigre||\ncountry_name                                                          Argentina\nstate_name                                             Bs.As. G.B.A. Zona Norte\ngeonames_id                                                                 NaN\nlat-lon                                             -34.4008968545,-58.63809847\nlat                                                                  -34.400897\nlon                                                                  -58.638098\nprice                                                                  650000.0\ncurrency                                                                    USD\nprice_aprox_local_currency                                           11468925.0\nprice_aprox_usd                                                        650000.0\nsurface_total_in_m2                                                       240.0\nsurface_covered_in_m2                                                     240.0\nprice_usd_per_m2                                                    2708.333333\nprice_per_m2                                                        2708.333333\nfloor                                                                       NaN\nrooms                                                                       NaN\nexpenses                                                                    NaN\nproperati_url                 http://www.properati.com.ar/15ui7_venta_casa_t...\ndescription                   Espectacular casa moderna de una planta, con a...\ntitle                                     Venta de casa en Santa María de Tigre\nimage_thumbnail               https://thumbs4.properati.com/7/vQjgbHSz1fKXxy...\nName: 6489, dtype: object"
     },
     "execution_count": 64,
     "metadata": {},
     "output_type": "execute_result"
    }
   ],
   "source": [
    "#Imputamos los valores faltantes en place_name con el Valor de Tigre.\n",
    "data['place_name'] = data['place_name'].replace('nan', 'Tigre')\n",
    "\n",
    "#Chequeamos los valores\n",
    "place_coincide = data.apply(lambda x: True if str(x['place_with_parent_names']).find(str(x['place_name'])) >= 0 else False, axis=1)\n",
    "place_coincide.value_counts()\n",
    "\n",
    "mask= place_coincide== False\n",
    "data[mask]\n",
    "\n",
    "data.iloc[6489]"
   ]
  },
  {
   "cell_type": "code",
   "execution_count": 65,
   "metadata": {
    "collapsed": false,
    "pycharm": {
     "name": "#%%\n"
    }
   },
   "outputs": [],
   "source": [
    "#Hay nombres de place_name que tiene espacios al principio/final del string\n",
    "data['place_name'] = data['place_name'].apply(lambda x : str(x).strip())"
   ]
  },
  {
   "cell_type": "markdown",
   "metadata": {
    "collapsed": false,
    "pycharm": {
     "name": "#%% md\n"
    }
   },
   "source": [
    "## Chequeamos si los valores de state_name coinciden con place_with_parent_names\n"
   ]
  },
  {
   "cell_type": "code",
   "execution_count": 66,
   "metadata": {
    "collapsed": false,
    "pycharm": {
     "name": "#%%\n"
    }
   },
   "outputs": [
    {
     "data": {
      "text/plain": "True    121220\ndtype: int64"
     },
     "execution_count": 66,
     "metadata": {},
     "output_type": "execute_result"
    }
   ],
   "source": [
    "# Chequeo si todos los state_names son correctos en place_with_parent_names.\n",
    "# 121220 --> Todos OK \n",
    "state_coincide = data.apply(lambda x: True if str(x['place_with_parent_names']).find(str(x['state_name'])) >= 0 else False, axis=1)\n",
    "state_coincide.value_counts()"
   ]
  },
  {
   "cell_type": "code",
   "execution_count": 67,
   "metadata": {
    "collapsed": false,
    "pycharm": {
     "name": "#%%\n"
    }
   },
   "outputs": [
    {
     "data": {
      "text/plain": "True    121220\ndtype: int64"
     },
     "execution_count": 67,
     "metadata": {},
     "output_type": "execute_result"
    }
   ],
   "source": [
    "# Chequeo si todos los country_names son correctos en place_with_parent_names\n",
    "# 121220 --> Todos OK \n",
    "country_coincide = data.apply(lambda x: True if str(x['place_with_parent_names']).find(str(x['country_name'])) >= 0 else False, axis=1)\n",
    "country_coincide.value_counts()"
   ]
  },
  {
   "cell_type": "code",
   "execution_count": 68,
   "metadata": {
    "collapsed": false,
    "pycharm": {
     "name": "#%%\n"
    }
   },
   "outputs": [
    {
     "data": {
      "text/plain": "Argentina    121220\nName: country_name, dtype: int64"
     },
     "execution_count": 68,
     "metadata": {},
     "output_type": "execute_result"
    }
   ],
   "source": [
    "#Verificamos los diferentes valores de country_name\n",
    "data['country_name'].value_counts()"
   ]
  },
  {
   "cell_type": "markdown",
   "metadata": {
    "collapsed": false,
    "pycharm": {
     "name": "#%% md\n"
    }
   },
   "source": [
    "## Dropeamos country_name"
   ]
  },
  {
   "cell_type": "code",
   "execution_count": 69,
   "metadata": {
    "collapsed": false,
    "pycharm": {
     "name": "#%%\n"
    }
   },
   "outputs": [],
   "source": [
    "#Drop country_name porque tiene un solo valor\n",
    "data.drop('country_name', inplace=True, axis=1)"
   ]
  },
  {
   "cell_type": "markdown",
   "metadata": {
    "collapsed": false,
    "pycharm": {
     "name": "#%% md\n"
    }
   },
   "source": [
    "## State Name"
   ]
  },
  {
   "cell_type": "code",
   "execution_count": 70,
   "metadata": {
    "collapsed": false,
    "pycharm": {
     "name": "#%%\n"
    }
   },
   "outputs": [
    {
     "name": "stdout",
     "output_type": "stream",
     "text": [
      "Capital Federal                 32316\n",
      "Bs.As. G.B.A. Zona Norte        25560\n",
      "Bs.As. G.B.A. Zona Sur          13952\n",
      "Córdoba                         12069\n",
      "Santa Fe                        10172\n",
      "Buenos Aires Costa Atlántica    10006\n",
      "Bs.As. G.B.A. Zona Oeste         9322\n",
      "Buenos Aires Interior            2291\n",
      "Río Negro                         808\n",
      "Neuquén                           733\n",
      "Name: state_name, dtype: int64\n"
     ]
    },
    {
     "data": {
      "text/plain": "<Figure size 1800x576 with 1 Axes>",
      "image/png": "[encoded data removed]"
     },
     "metadata": {},
     "output_type": "display_data"
    }
   ],
   "source": [
    "#Top 10 Provincias con mas propiedades\n",
    "s= data.state_name.value_counts().nlargest(10)\n",
    "print(s)\n",
    "plt.figure(figsize=(25, 8))\n",
    "\n",
    "#Histplot con propiedades por provincia\n",
    "g =sns.histplot(x=\"state_name\",  data=data)\n",
    "g.set(xlim=(0,10))\n",
    "plt.show()"
   ]
  },
  {
   "cell_type": "markdown",
   "metadata": {
    "collapsed": false,
    "pycharm": {
     "name": "#%% md\n"
    }
   },
   "source": [
    "## State Name // Group By"
   ]
  },
  {
   "cell_type": "code",
   "execution_count": 71,
   "metadata": {
    "collapsed": false,
    "pycharm": {
     "name": "#%%\n"
    }
   },
   "outputs": [
    {
     "data": {
      "text/plain": "                                       price_aprox_usd                 \\\n                                                 count           mean   \nstate_name               property_type                                  \nBs.As. G.B.A. Zona Norte PH                      978.0  136045.021789   \n                         apartment             10419.0  198918.033440   \n                         house                 13052.0  424355.059119   \n                         store                   547.0  547507.330695   \nBs.As. G.B.A. Zona Oeste PH                      769.0  108863.509909   \n...                                                ...            ...   \nTierra Del Fuego         store                     3.0  371514.630000   \nTucumán                  PH                        2.0   77675.885000   \n                         apartment               141.0  140950.819078   \n                         house                    61.0  218445.141803   \n                         store                    10.0  168659.926000   \n\n                                                                              \\\n                                                  std       min          25%   \nstate_name               property_type                                         \nBs.As. G.B.A. Zona Norte PH              68278.211861   5047.53   90000.0000   \n                         apartment      207749.446227      1.00  110000.0000   \n                         house          418151.568648      1.00  217000.0000   \n                         store          974277.300217      1.00   98000.0000   \nBs.As. G.B.A. Zona Oeste PH              69347.217837      1.00   75000.0000   \n...                                               ...       ...          ...   \nTierra Del Fuego         store          342156.549230  84125.51  182271.9450   \nTucumán                  PH              72572.582197  26359.32   52017.6025   \n                         apartment      331839.520515  16719.77   61692.0400   \n                         house          390074.332898  16916.52   72908.7700   \n                         store          176861.139066   6383.89   45932.1475   \n\n                                                                              \n                                               50%          75%          max  \nstate_name               property_type                                        \nBs.As. G.B.A. Zona Norte PH             125000.000  165000.0000    680000.00  \n                         apartment      155000.000  240000.0000  11800000.00  \n                         house          328000.000  485000.0000  14000000.00  \n                         store          250000.000  535000.0000  13000000.00  \nBs.As. G.B.A. Zona Oeste PH              95000.000  128000.0000    980000.00  \n...                                            ...          ...          ...  \nTierra Del Fuego         store          280418.380  515209.1900    750000.00  \nTucumán                  PH              77675.885  103334.1675    128992.45  \n                         apartment       84125.510  109363.1600   3300000.00  \n                         house          112167.350  196292.8600   2500000.00  \n                         store           91135.970  293668.1450    476711.25  \n\n[98 rows x 8 columns]",
      "text/html": "<div>\n<style scoped>\n    .dataframe tbody tr th:only-of-type {\n        vertical-align: middle;\n    }\n\n    .dataframe tbody tr th {\n        vertical-align: top;\n    }\n\n    .dataframe thead tr th {\n        text-align: left;\n    }\n\n    .dataframe thead tr:last-of-type th {\n        text-align: right;\n    }\n</style>\n<table border=\"1\" class=\"dataframe\">\n  <thead>\n    <tr>\n      <th></th>\n      <th></th>\n      <th colspan=\"8\" halign=\"left\">price_aprox_usd</th>\n    </tr>\n    <tr>\n      <th></th>\n      <th></th>\n      <th>count</th>\n      <th>mean</th>\n      <th>std</th>\n      <th>min</th>\n      <th>25%</th>\n      <th>50%</th>\n      <th>75%</th>\n      <th>max</th>\n    </tr>\n    <tr>\n      <th>state_name</th>\n      <th>property_type</th>\n      <th></th>\n      <th></th>\n      <th></th>\n      <th></th>\n      <th></th>\n      <th></th>\n      <th></th>\n      <th></th>\n    </tr>\n  </thead>\n  <tbody>\n    <tr>\n      <th rowspan=\"4\" valign=\"top\">Bs.As. G.B.A. Zona Norte</th>\n      <th>PH</th>\n      <td>978.0</td>\n      <td>136045.021789</td>\n      <td>68278.211861</td>\n      <td>5047.53</td>\n      <td>90000.0000</td>\n      <td>125000.000</td>\n      <td>165000.0000</td>\n      <td>680000.00</td>\n    </tr>\n    <tr>\n      <th>apartment</th>\n      <td>10419.0</td>\n      <td>198918.033440</td>\n      <td>207749.446227</td>\n      <td>1.00</td>\n      <td>110000.0000</td>\n      <td>155000.000</td>\n      <td>240000.0000</td>\n      <td>11800000.00</td>\n    </tr>\n    <tr>\n      <th>house</th>\n      <td>13052.0</td>\n      <td>424355.059119</td>\n      <td>418151.568648</td>\n      <td>1.00</td>\n      <td>217000.0000</td>\n      <td>328000.000</td>\n      <td>485000.0000</td>\n      <td>14000000.00</td>\n    </tr>\n    <tr>\n      <th>store</th>\n      <td>547.0</td>\n      <td>547507.330695</td>\n      <td>974277.300217</td>\n      <td>1.00</td>\n      <td>98000.0000</td>\n      <td>250000.000</td>\n      <td>535000.0000</td>\n      <td>13000000.00</td>\n    </tr>\n    <tr>\n      <th>Bs.As. G.B.A. Zona Oeste</th>\n      <th>PH</th>\n      <td>769.0</td>\n      <td>108863.509909</td>\n      <td>69347.217837</td>\n      <td>1.00</td>\n      <td>75000.0000</td>\n      <td>95000.000</td>\n      <td>128000.0000</td>\n      <td>980000.00</td>\n    </tr>\n    <tr>\n      <th>...</th>\n      <th>...</th>\n      <td>...</td>\n      <td>...</td>\n      <td>...</td>\n      <td>...</td>\n      <td>...</td>\n      <td>...</td>\n      <td>...</td>\n      <td>...</td>\n    </tr>\n    <tr>\n      <th>Tierra Del Fuego</th>\n      <th>store</th>\n      <td>3.0</td>\n      <td>371514.630000</td>\n      <td>342156.549230</td>\n      <td>84125.51</td>\n      <td>182271.9450</td>\n      <td>280418.380</td>\n      <td>515209.1900</td>\n      <td>750000.00</td>\n    </tr>\n    <tr>\n      <th rowspan=\"4\" valign=\"top\">Tucumán</th>\n      <th>PH</th>\n      <td>2.0</td>\n      <td>77675.885000</td>\n      <td>72572.582197</td>\n      <td>26359.32</td>\n      <td>52017.6025</td>\n      <td>77675.885</td>\n      <td>103334.1675</td>\n      <td>128992.45</td>\n    </tr>\n    <tr>\n      <th>apartment</th>\n      <td>141.0</td>\n      <td>140950.819078</td>\n      <td>331839.520515</td>\n      <td>16719.77</td>\n      <td>61692.0400</td>\n      <td>84125.510</td>\n      <td>109363.1600</td>\n      <td>3300000.00</td>\n    </tr>\n    <tr>\n      <th>house</th>\n      <td>61.0</td>\n      <td>218445.141803</td>\n      <td>390074.332898</td>\n      <td>16916.52</td>\n      <td>72908.7700</td>\n      <td>112167.350</td>\n      <td>196292.8600</td>\n      <td>2500000.00</td>\n    </tr>\n    <tr>\n      <th>store</th>\n      <td>10.0</td>\n      <td>168659.926000</td>\n      <td>176861.139066</td>\n      <td>6383.89</td>\n      <td>45932.1475</td>\n      <td>91135.970</td>\n      <td>293668.1450</td>\n      <td>476711.25</td>\n    </tr>\n  </tbody>\n</table>\n<p>98 rows × 8 columns</p>\n</div>"
     },
     "execution_count": 71,
     "metadata": {},
     "output_type": "execute_result"
    }
   ],
   "source": [
    "# Chequeo de la cantidad de publicaciones por state_name ordenada.\n",
    "\n",
    "#data.columns\n",
    "#data_grouped = data.groupby(['state_name'])\n",
    "#display(data_grouped.describe().sort_values(by=('price_aprox_usd','count'), ascending=False)['price_aprox_usd'].round)\n",
    "#data_grouped.describe().sort_values(by=('price_aprox_usd','count'), ascending=False)['price_aprox_usd'].round\n",
    "\n",
    "# // Creo que lo de arriba puede ser reemplazable por la linea 9. Es mas prolijo y le agrega el valor de armarlo por property type.\n",
    "# De todas maneras podriamos poner esto aparte ya que parece datos estadisticos y podria ir en otra seccion.\n",
    "\n",
    "data.groupby(['state_name', 'property_type'])[['price_aprox_usd']].describe()\n",
    "\n"
   ]
  },
  {
   "cell_type": "markdown",
   "metadata": {
    "collapsed": false,
    "pycharm": {
     "name": "#%% md\n"
    }
   },
   "source": [
    "## Currency"
   ]
  },
  {
   "cell_type": "code",
   "execution_count": 72,
   "metadata": {
    "collapsed": false,
    "pycharm": {
     "name": "#%%\n"
    }
   },
   "outputs": [
    {
     "data": {
      "text/plain": "USD    87587\nARS    13219\nPEN        2\nUYU        1\nName: currency, dtype: int64"
     },
     "execution_count": 72,
     "metadata": {},
     "output_type": "execute_result"
    }
   ],
   "source": [
    "#Verificamos los valores de currency\n",
    "data['currency'].value_counts()"
   ]
  },
  {
   "cell_type": "markdown",
   "metadata": {
    "collapsed": false,
    "pycharm": {
     "name": "#%% md\n"
    }
   },
   "source": [
    "## Tipo de Cambio"
   ]
  },
  {
   "cell_type": "code",
   "execution_count": 73,
   "metadata": {
    "collapsed": false,
    "pycharm": {
     "name": "#%%\n"
    }
   },
   "outputs": [
    {
     "name": "stdout",
     "output_type": "stream",
     "text": [
      "Desvío tipo de cambio=  3.487005770896986e-11\n",
      "17.64    100809\n",
      "Name: tipo_de_cambio, dtype: int64\n",
      "Tipo de cambio nulos:  20411\n"
     ]
    }
   ],
   "source": [
    "#Verificamos el tipo de cambio y si el price_aprox_usd es correcto con respecto al price_aprox_local_currency\n",
    "\n",
    "data[\"tipo_de_cambio\"]=round(data.price_aprox_local_currency/data.price_aprox_usd,2)\n",
    "print(f'Desvío tipo de cambio= ', data.tipo_de_cambio.std())\n",
    "print(data['tipo_de_cambio'].value_counts())\n",
    "print(f'Tipo de cambio nulos: ', data.tipo_de_cambio.isnull().sum())\n"
   ]
  },
  {
   "cell_type": "markdown",
   "metadata": {
    "collapsed": false,
    "pycharm": {
     "name": "#%% md\n"
    }
   },
   "source": [
    "# Analisis Estadistico Descriptivo"
   ]
  },
  {
   "cell_type": "markdown",
   "metadata": {
    "pycharm": {
     "name": "#%% md\n"
    }
   },
   "source": [
    "Realizamos un análisis descriptivo de las principales variables"
   ]
  },
  {
   "cell_type": "markdown",
   "metadata": {
    "collapsed": false,
    "pycharm": {
     "name": "#%% md\n"
    }
   },
   "source": [
    "## Price Aprox USD"
   ]
  },
  {
   "cell_type": "code",
   "execution_count": 74,
   "metadata": {
    "collapsed": false,
    "pycharm": {
     "name": "#%%\n"
    }
   },
   "outputs": [
    {
     "data": {
      "text/plain": "0.950     698000.0\n0.980    1150000.0\n0.990    1500000.0\n0.995    2000000.0\n0.998    2850000.0\nName: price_aprox_usd, dtype: float64"
     },
     "execution_count": 74,
     "metadata": {},
     "output_type": "execute_result"
    }
   ],
   "source": [
    "#Quartiles para graficar outliers de Price aprox USD\n",
    "data['price_aprox_usd'].quantile([.95, .98, .99, .995, .998])\n"
   ]
  },
  {
   "cell_type": "code",
   "execution_count": 75,
   "metadata": {
    "collapsed": false,
    "pycharm": {
     "name": "#%%\n"
    }
   },
   "outputs": [
    {
     "data": {
      "text/plain": "<AxesSubplot:xlabel='property_type', ylabel='price_aprox_usd'>"
     },
     "execution_count": 75,
     "metadata": {},
     "output_type": "execute_result"
    },
    {
     "data": {
      "text/plain": "<Figure size 1296x720 with 1 Axes>",
      "image/png": "[encoded data removed]"
     },
     "metadata": {},
     "output_type": "display_data"
    }
   ],
   "source": [
    "import matplotlib.pyplot as plt\n",
    "import seaborn as sns\n",
    "\n",
    "\n",
    "plt.figure(figsize=(18, 10))\n",
    "sns.boxplot(\n",
    "    data=data, x=\"property_type\", y=data[data['price_aprox_usd'] < 700000]['price_aprox_usd'],\n",
    "    notch=True, showcaps=False,\n",
    "    flierprops={\"marker\": \"x\"},\n",
    "    boxprops={\"facecolor\": (.4, .6, .8, .5)},\n",
    "    medianprops={\"color\": \"coral\"},\n",
    ")\n"
   ]
  },
  {
   "cell_type": "markdown",
   "metadata": {
    "collapsed": false,
    "pycharm": {
     "name": "#%% md\n"
    }
   },
   "source": [
    "## Surface Aprox USD"
   ]
  },
  {
   "cell_type": "code",
   "execution_count": 76,
   "metadata": {
    "collapsed": false,
    "pycharm": {
     "name": "#%%\n"
    }
   },
   "outputs": [
    {
     "data": {
      "text/plain": "0.950     704.450\n0.980    1120.180\n0.990    1700.000\n0.995    2700.000\n0.998    5732.924\nName: surface_total_in_m2, dtype: float64"
     },
     "execution_count": 76,
     "metadata": {},
     "output_type": "execute_result"
    }
   ],
   "source": [
    "#Quartiles para graficar surface total in m2\n",
    "data['surface_total_in_m2'].quantile([.95, .98, .99, .995, .998])\n"
   ]
  },
  {
   "cell_type": "code",
   "execution_count": 77,
   "metadata": {
    "collapsed": false,
    "pycharm": {
     "name": "#%%\n"
    }
   },
   "outputs": [
    {
     "data": {
      "text/plain": "<AxesSubplot:xlabel='property_type', ylabel='surface_total_in_m2'>"
     },
     "execution_count": 77,
     "metadata": {},
     "output_type": "execute_result"
    },
    {
     "data": {
      "text/plain": "<Figure size 1152x576 with 1 Axes>",
      "image/png": "[encoded data removed]"
     },
     "metadata": {},
     "output_type": "display_data"
    }
   ],
   "source": [
    "import matplotlib.pyplot as plt\n",
    "import seaborn as sns\n",
    "\n",
    "\n",
    "plt.figure(figsize=(16, 8))\n",
    "sns.boxplot(\n",
    "    data=data, x=\"property_type\", y=data[data['surface_total_in_m2'] < 700]['surface_total_in_m2'],\n",
    "    notch=True, showcaps=False,\n",
    "    flierprops={\"marker\": \"x\"},\n",
    "    boxprops={\"facecolor\": (.4, .6, .8, .5)},\n",
    "    medianprops={\"color\": \"coral\"},\n",
    ")\n"
   ]
  },
  {
   "cell_type": "markdown",
   "metadata": {
    "collapsed": false,
    "pycharm": {
     "name": "#%% md\n"
    }
   },
   "source": [
    "## Top 10 StateName por propiedades"
   ]
  },
  {
   "cell_type": "code",
   "execution_count": 78,
   "metadata": {
    "collapsed": false,
    "pycharm": {
     "name": "#%%\n"
    }
   },
   "outputs": [
    {
     "name": "stdout",
     "output_type": "stream",
     "text": [
      "['Capital Federal', 'Bs.As. G.B.A. Zona Norte', 'Bs.As. G.B.A. Zona Sur', 'Córdoba', 'Santa Fe', 'Buenos Aires Costa Atlántica', 'Bs.As. G.B.A. Zona Oeste', 'Buenos Aires Interior', 'Río Negro', 'Neuquén']\n",
      "Capital Federal                 32316\n",
      "Bs.As. G.B.A. Zona Norte        25560\n",
      "Bs.As. G.B.A. Zona Sur          13952\n",
      "Córdoba                         12069\n",
      "Santa Fe                        10172\n",
      "Buenos Aires Costa Atlántica    10006\n",
      "Bs.As. G.B.A. Zona Oeste         9322\n",
      "Buenos Aires Interior            2291\n",
      "Río Negro                         808\n",
      "Neuquén                           733\n",
      "Name: state_name, dtype: int64\n"
     ]
    },
    {
     "data": {
      "text/plain": "<Figure size 2160x576 with 1 Axes>",
      "image/png": "[encoded data removed]"
     },
     "metadata": {},
     "output_type": "display_data"
    }
   ],
   "source": [
    "#Top 10 filtro para State Name grafico 10 provincias con mayor cantidad de propiedades\n",
    "mask_100_state_name =data.state_name.value_counts().nlargest(10)\n",
    "\n",
    "list=[]\n",
    "for i in mask_100_state_name.items():\n",
    "    list.append(i[0])\n",
    "print(list)\n",
    "\n",
    "\n",
    "mask_list=data.state_name.isin(list)\n",
    "\n",
    "plt.figure(figsize=(30, 8))\n",
    "sns.histplot(\n",
    "    data=data[mask_list], x=\"state_name\", stat='count'\n",
    ")\n",
    "\n",
    "print(data.state_name.value_counts().nlargest(10))\n",
    "#data.state_name.unique()"
   ]
  },
  {
   "cell_type": "code",
   "execution_count": 79,
   "metadata": {
    "collapsed": false,
    "pycharm": {
     "name": "#%%\n"
    }
   },
   "outputs": [
    {
     "data": {
      "text/plain": "<AxesSubplot:xlabel='property_type', ylabel='price_aprox_usd'>"
     },
     "execution_count": 79,
     "metadata": {},
     "output_type": "execute_result"
    },
    {
     "data": {
      "text/plain": "<Figure size 432x288 with 1 Axes>",
      "image/png": "[encoded data removed]"
     },
     "metadata": {},
     "output_type": "display_data"
    }
   ],
   "source": [
    "#Graficamos por property type y price_aprox_usd\n",
    "#Pareceria haber outliers en Apartments > 4, houses > 2 y stores > 1\n",
    "sns.scatterplot(data=data, x='property_type', y=\"price_aprox_usd\", alpha=0.4)"
   ]
  },
  {
   "cell_type": "code",
   "execution_count": 80,
   "metadata": {
    "collapsed": false,
    "pycharm": {
     "name": "#%%\n"
    }
   },
   "outputs": [
    {
     "data": {
      "text/plain": "<AxesSubplot:xlabel='property_type', ylabel='surface_total_in_m2'>"
     },
     "execution_count": 80,
     "metadata": {},
     "output_type": "execute_result"
    },
    {
     "data": {
      "text/plain": "<Figure size 432x288 with 1 Axes>",
      "image/png": "[encoded data removed]"
     },
     "metadata": {},
     "output_type": "display_data"
    }
   ],
   "source": [
    "#Graficamos por property type y surface_total_in_m2\n",
    "#Pareceria haber outliers en Apartments > 25000, houses > 100000 y stores > 75000\n",
    "sns.scatterplot(data=data, x='property_type', y=\"surface_total_in_m2\", alpha=0.4)"
   ]
  },
  {
   "cell_type": "code",
   "execution_count": 81,
   "metadata": {
    "collapsed": false,
    "pycharm": {
     "name": "#%%\n"
    }
   },
   "outputs": [
    {
     "data": {
      "text/plain": "<AxesSubplot:xlabel='property_type', ylabel='surface_covered_in_m2'>"
     },
     "execution_count": 81,
     "metadata": {},
     "output_type": "execute_result"
    },
    {
     "data": {
      "text/plain": "<Figure size 432x288 with 1 Axes>",
      "image/png": "[encoded data removed]"
     },
     "metadata": {},
     "output_type": "display_data"
    }
   ],
   "source": [
    "#Graficamos por property type y surface_covered_in_m2\n",
    "#Pareceria haber outliers en Apartments > 50000\n",
    "sns.scatterplot(data=data, x='property_type', y=\"surface_covered_in_m2\", alpha=0.4)"
   ]
  },
  {
   "cell_type": "markdown",
   "metadata": {
    "collapsed": false,
    "pycharm": {
     "name": "#%% md\n"
    }
   },
   "source": [
    "## Correlacion entre Expensas, Superficie total y Precio por M2 (Capital Federal)"
   ]
  },
  {
   "cell_type": "code",
   "execution_count": 82,
   "metadata": {
    "collapsed": false,
    "pycharm": {
     "name": "#%%\n"
    }
   },
   "outputs": [
    {
     "data": {
      "text/plain": "<AxesSubplot:xlabel='expenses', ylabel='price_aprox_usd'>"
     },
     "execution_count": 82,
     "metadata": {},
     "output_type": "execute_result"
    },
    {
     "data": {
      "text/plain": "<Figure size 432x288 with 1 Axes>",
      "image/png": "[encoded data removed]"
     },
     "metadata": {},
     "output_type": "display_data"
    }
   ],
   "source": [
    "data_deptos_40=(data.surface_covered_in_m2==40)&(data.property_type==\"apartment\")&(data.state_name==\"Capital Federal\")\n",
    "data[data_deptos_40]\n",
    "sns.scatterplot(data=data[data_deptos_40],x=\"expenses\",y=\"price_aprox_usd\")"
   ]
  },
  {
   "cell_type": "code",
   "execution_count": 83,
   "metadata": {
    "collapsed": false,
    "pycharm": {
     "name": "#%%\n"
    }
   },
   "outputs": [
    {
     "data": {
      "text/plain": "<AxesSubplot:xlabel='expenses', ylabel='price_aprox_usd'>"
     },
     "execution_count": 83,
     "metadata": {},
     "output_type": "execute_result"
    },
    {
     "data": {
      "text/plain": "<Figure size 432x288 with 1 Axes>",
      "image/png": "[encoded data removed]"
     },
     "metadata": {},
     "output_type": "display_data"
    }
   ],
   "source": [
    "data_deptos_50=(data.surface_covered_in_m2==50)&(data.property_type==\"apartment\")&(data.state_name==\"Capital Federal\")\n",
    "data[data_deptos_50]\n",
    "sns.scatterplot(data=data[data_deptos_50],x=\"expenses\",y=\"price_aprox_usd\")"
   ]
  },
  {
   "cell_type": "code",
   "execution_count": 84,
   "metadata": {
    "collapsed": false,
    "pycharm": {
     "name": "#%%\n"
    }
   },
   "outputs": [
    {
     "data": {
      "text/plain": "<AxesSubplot:xlabel='expenses', ylabel='price_aprox_usd'>"
     },
     "execution_count": 84,
     "metadata": {},
     "output_type": "execute_result"
    },
    {
     "data": {
      "text/plain": "<Figure size 432x288 with 1 Axes>",
      "image/png": "[encoded data removed]"
     },
     "metadata": {},
     "output_type": "display_data"
    }
   ],
   "source": [
    "data_deptos_60=(data.surface_covered_in_m2==60)&(data.property_type==\"apartment\")&(data.state_name==\"Capital Federal\")\n",
    "data[data_deptos_60]\n",
    "sns.scatterplot(data=data[data_deptos_60],x=\"expenses\",y=\"price_aprox_usd\")"
   ]
  },
  {
   "cell_type": "code",
   "execution_count": 85,
   "metadata": {
    "collapsed": false,
    "pycharm": {
     "name": "#%%\n"
    }
   },
   "outputs": [],
   "source": [
    "#SUMAR GRAFICOS ELEONORA DE AMBIENTES Y M2"
   ]
  },
  {
   "cell_type": "code",
   "execution_count": 86,
   "metadata": {
    "collapsed": false,
    "pycharm": {
     "name": "#%%\n"
    }
   },
   "outputs": [],
   "source": [
    "#Prodiamos dropear las siguientes columnas porque no agregan valor\n",
    "#image_thumbnail \n",
    "#properati_url"
   ]
  },
  {
   "cell_type": "markdown",
   "metadata": {
    "collapsed": false,
    "pycharm": {
     "name": "#%% md\n"
    }
   },
   "source": [
    "## Lat - Lon: Datos geoespaciales\n"
   ]
  },
  {
   "cell_type": "markdown",
   "metadata": {
    "collapsed": false,
    "pycharm": {
     "name": "#%% md\n"
    }
   },
   "source": [
    "Tomando los valores de las columnas latitud y longitud para hacer un análisis geo espacial de los datos, viendo dónde se encuentran ubicadas las propiedades en la Argentina y luego cómo es su distribución en Capital Federal."
   ]
  },
  {
   "cell_type": "markdown",
   "metadata": {
    "collapsed": false,
    "pycharm": {
     "name": "#%% md\n"
    }
   },
   "source": [
    "### Argentina\n"
   ]
  },
  {
   "cell_type": "code",
   "execution_count": 87,
   "metadata": {
    "collapsed": false,
    "pycharm": {
     "name": "#%%\n"
    }
   },
   "outputs": [],
   "source": [
    "geometria_data = gpd.points_from_xy(data['lon'], data['lat'])\n",
    "data_geo=gpd.GeoDataFrame(data, geometry=geometria_data)"
   ]
  },
  {
   "cell_type": "code",
   "execution_count": 88,
   "metadata": {
    "collapsed": false,
    "pycharm": {
     "name": "#%%\n"
    }
   },
   "outputs": [
    {
     "ename": "ImportError",
     "evalue": "The 'read_file' function requires the 'pyogrio' or 'fiona' package, but neither is installed or imports correctly.\nImporting fiona resulted in: dlopen(/Users/juanmartingarcia/opt/anaconda3/lib/python3.9/site-packages/fiona/ogrext.cpython-39-darwin.so, 0x0002): Library not loaded: '@rpath/libpoppler.91.dylib'\n  Referenced from: '/Users/juanmartingarcia/opt/anaconda3/lib/libgdal.30.dylib'\n  Reason: tried: '/Users/juanmartingarcia/opt/anaconda3/lib/libpoppler.91.dylib' (no such file), '/Users/juanmartingarcia/opt/anaconda3/lib/python3.9/site-packages/fiona/../../../libpoppler.91.dylib' (no such file), '/Users/juanmartingarcia/opt/anaconda3/lib/python3.9/site-packages/fiona/../../../libpoppler.91.dylib' (no such file), '/Users/juanmartingarcia/opt/anaconda3/lib/libpoppler.91.dylib' (no such file), '/Users/juanmartingarcia/opt/anaconda3/bin/../lib/libpoppler.91.dylib' (no such file), '/Users/juanmartingarcia/opt/anaconda3/lib/libpoppler.91.dylib' (no such file), '/Users/juanmartingarcia/opt/anaconda3/bin/../lib/libpoppler.91.dylib' (no such file), '/usr/local/lib/libpoppler.91.dylib' (no such file), '/usr/lib/libpoppler.91.dylib' (no such file)\nImporting pyogrio resulted in: No module named 'pyogrio'",
     "output_type": "error",
     "traceback": [
      "\u001B[0;31m---------------------------------------------------------------------------\u001B[0m",
      "\u001B[0;31mImportError\u001B[0m                               Traceback (most recent call last)",
      "Input \u001B[0;32mIn [88]\u001B[0m, in \u001B[0;36m<cell line: 1>\u001B[0;34m()\u001B[0m\n\u001B[0;32m----> 1\u001B[0m world \u001B[38;5;241m=\u001B[39m \u001B[43mgpd\u001B[49m\u001B[38;5;241;43m.\u001B[39;49m\u001B[43mread_file\u001B[49m\u001B[43m(\u001B[49m\u001B[43mgpd\u001B[49m\u001B[38;5;241;43m.\u001B[39;49m\u001B[43mdatasets\u001B[49m\u001B[38;5;241;43m.\u001B[39;49m\u001B[43mget_path\u001B[49m\u001B[43m(\u001B[49m\u001B[38;5;124;43m'\u001B[39;49m\u001B[38;5;124;43mnaturalearth_lowres\u001B[39;49m\u001B[38;5;124;43m'\u001B[39;49m\u001B[43m)\u001B[49m\u001B[43m)\u001B[49m\n\u001B[1;32m      2\u001B[0m world\u001B[38;5;241m.\u001B[39mhead(\u001B[38;5;241m2\u001B[39m)\n",
      "File \u001B[0;32m~/opt/anaconda3/lib/python3.9/site-packages/geopandas/io/file.py:236\u001B[0m, in \u001B[0;36m_read_file\u001B[0;34m(filename, bbox, mask, rows, engine, **kwargs)\u001B[0m\n\u001B[1;32m    167\u001B[0m \u001B[38;5;28;01mdef\u001B[39;00m \u001B[38;5;21m_read_file\u001B[39m(filename, bbox\u001B[38;5;241m=\u001B[39m\u001B[38;5;28;01mNone\u001B[39;00m, mask\u001B[38;5;241m=\u001B[39m\u001B[38;5;28;01mNone\u001B[39;00m, rows\u001B[38;5;241m=\u001B[39m\u001B[38;5;28;01mNone\u001B[39;00m, engine\u001B[38;5;241m=\u001B[39m\u001B[38;5;28;01mNone\u001B[39;00m, \u001B[38;5;241m*\u001B[39m\u001B[38;5;241m*\u001B[39mkwargs):\n\u001B[1;32m    168\u001B[0m     \u001B[38;5;124;03m\"\"\"\u001B[39;00m\n\u001B[1;32m    169\u001B[0m \u001B[38;5;124;03m    Returns a GeoDataFrame from a file or URL.\u001B[39;00m\n\u001B[1;32m    170\u001B[0m \n\u001B[0;32m   (...)\u001B[0m\n\u001B[1;32m    234\u001B[0m \u001B[38;5;124;03m    by using the encoding keyword parameter, e.g. ``encoding='utf-8'``.\u001B[39;00m\n\u001B[1;32m    235\u001B[0m \u001B[38;5;124;03m    \"\"\"\u001B[39;00m\n\u001B[0;32m--> 236\u001B[0m     engine \u001B[38;5;241m=\u001B[39m \u001B[43m_check_engine\u001B[49m\u001B[43m(\u001B[49m\u001B[43mengine\u001B[49m\u001B[43m,\u001B[49m\u001B[43m \u001B[49m\u001B[38;5;124;43m\"\u001B[39;49m\u001B[38;5;124;43m'\u001B[39;49m\u001B[38;5;124;43mread_file\u001B[39;49m\u001B[38;5;124;43m'\u001B[39;49m\u001B[38;5;124;43m function\u001B[39;49m\u001B[38;5;124;43m\"\u001B[39;49m\u001B[43m)\u001B[49m\n\u001B[1;32m    238\u001B[0m     filename \u001B[38;5;241m=\u001B[39m _expand_user(filename)\n\u001B[1;32m    240\u001B[0m     from_bytes \u001B[38;5;241m=\u001B[39m \u001B[38;5;28;01mFalse\u001B[39;00m\n",
      "File \u001B[0;32m~/opt/anaconda3/lib/python3.9/site-packages/geopandas/io/file.py:107\u001B[0m, in \u001B[0;36m_check_engine\u001B[0;34m(engine, func)\u001B[0m\n\u001B[1;32m    105\u001B[0m     _check_pyogrio(func)\n\u001B[1;32m    106\u001B[0m \u001B[38;5;28;01melif\u001B[39;00m engine \u001B[38;5;129;01mis\u001B[39;00m \u001B[38;5;28;01mNone\u001B[39;00m:\n\u001B[0;32m--> 107\u001B[0m     \u001B[38;5;28;01mraise\u001B[39;00m \u001B[38;5;167;01mImportError\u001B[39;00m(\n\u001B[1;32m    108\u001B[0m         \u001B[38;5;124mf\u001B[39m\u001B[38;5;124m\"\u001B[39m\u001B[38;5;124mThe \u001B[39m\u001B[38;5;132;01m{\u001B[39;00mfunc\u001B[38;5;132;01m}\u001B[39;00m\u001B[38;5;124m requires the \u001B[39m\u001B[38;5;124m'\u001B[39m\u001B[38;5;124mpyogrio\u001B[39m\u001B[38;5;124m'\u001B[39m\u001B[38;5;124m or \u001B[39m\u001B[38;5;124m'\u001B[39m\u001B[38;5;124mfiona\u001B[39m\u001B[38;5;124m'\u001B[39m\u001B[38;5;124m package, \u001B[39m\u001B[38;5;124m\"\u001B[39m\n\u001B[1;32m    109\u001B[0m         \u001B[38;5;124m\"\u001B[39m\u001B[38;5;124mbut neither is installed or imports correctly.\u001B[39m\u001B[38;5;124m\"\u001B[39m\n\u001B[1;32m    110\u001B[0m         \u001B[38;5;124mf\u001B[39m\u001B[38;5;124m\"\u001B[39m\u001B[38;5;130;01m\\n\u001B[39;00m\u001B[38;5;124mImporting fiona resulted in: \u001B[39m\u001B[38;5;132;01m{\u001B[39;00mfiona_import_error\u001B[38;5;132;01m}\u001B[39;00m\u001B[38;5;124m\"\u001B[39m\n\u001B[1;32m    111\u001B[0m         \u001B[38;5;124mf\u001B[39m\u001B[38;5;124m\"\u001B[39m\u001B[38;5;130;01m\\n\u001B[39;00m\u001B[38;5;124mImporting pyogrio resulted in: \u001B[39m\u001B[38;5;132;01m{\u001B[39;00mpyogrio_import_error\u001B[38;5;132;01m}\u001B[39;00m\u001B[38;5;124m\"\u001B[39m\n\u001B[1;32m    112\u001B[0m     )\n\u001B[1;32m    114\u001B[0m \u001B[38;5;28;01mreturn\u001B[39;00m engine\n",
      "\u001B[0;31mImportError\u001B[0m: The 'read_file' function requires the 'pyogrio' or 'fiona' package, but neither is installed or imports correctly.\nImporting fiona resulted in: dlopen(/Users/juanmartingarcia/opt/anaconda3/lib/python3.9/site-packages/fiona/ogrext.cpython-39-darwin.so, 0x0002): Library not loaded: '@rpath/libpoppler.91.dylib'\n  Referenced from: '/Users/juanmartingarcia/opt/anaconda3/lib/libgdal.30.dylib'\n  Reason: tried: '/Users/juanmartingarcia/opt/anaconda3/lib/libpoppler.91.dylib' (no such file), '/Users/juanmartingarcia/opt/anaconda3/lib/python3.9/site-packages/fiona/../../../libpoppler.91.dylib' (no such file), '/Users/juanmartingarcia/opt/anaconda3/lib/python3.9/site-packages/fiona/../../../libpoppler.91.dylib' (no such file), '/Users/juanmartingarcia/opt/anaconda3/lib/libpoppler.91.dylib' (no such file), '/Users/juanmartingarcia/opt/anaconda3/bin/../lib/libpoppler.91.dylib' (no such file), '/Users/juanmartingarcia/opt/anaconda3/lib/libpoppler.91.dylib' (no such file), '/Users/juanmartingarcia/opt/anaconda3/bin/../lib/libpoppler.91.dylib' (no such file), '/usr/local/lib/libpoppler.91.dylib' (no such file), '/usr/lib/libpoppler.91.dylib' (no such file)\nImporting pyogrio resulted in: No module named 'pyogrio'"
     ]
    }
   ],
   "source": [
    "world = gpd.read_file(gpd.datasets.get_path('naturalearth_lowres'))\n",
    "world.head(2)"
   ]
  },
  {
   "cell_type": "code",
   "execution_count": null,
   "metadata": {
    "collapsed": false,
    "pycharm": {
     "name": "#%%\n"
    }
   },
   "outputs": [],
   "source": [
    "arg = world[world.name == 'Argentina']\n",
    "arg.head(3)"
   ]
  },
  {
   "cell_type": "code",
   "execution_count": null,
   "metadata": {
    "collapsed": false,
    "pycharm": {
     "name": "#%%\n"
    }
   },
   "outputs": [],
   "source": [
    "data_geo['is_in_arg'] = data_geo['geometry'].apply(lambda x: arg.iloc[0]['geometry'].contains(x))\n",
    "data_geo['is_in_arg'].value_counts()"
   ]
  },
  {
   "cell_type": "code",
   "execution_count": null,
   "metadata": {
    "collapsed": false,
    "pycharm": {
     "name": "#%%\n"
    }
   },
   "outputs": [],
   "source": [
    "# Mapa de Argentina\n",
    "ax = arg.plot(color='white', edgecolor='black')\n",
    "\n",
    "# Propiedades\n",
    "data_geo.loc[data_geo.is_in_arg==True].plot(ax=ax, color='blue', markersize=0.50)\n",
    "\n",
    "plt.show()"
   ]
  },
  {
   "cell_type": "markdown",
   "metadata": {
    "collapsed": false,
    "pycharm": {
     "name": "#%% md\n"
    }
   },
   "source": [
    "### Capital Federal"
   ]
  },
  {
   "cell_type": "markdown",
   "metadata": {
    "collapsed": false,
    "pycharm": {
     "name": "#%% md\n"
    }
   },
   "source": [
    "Tomamos un archivo con los datos correspondientes a las comunas de CABA para así ver la distribución espacial de las propiedades."
   ]
  },
  {
   "cell_type": "code",
   "execution_count": null,
   "metadata": {
    "collapsed": false,
    "pycharm": {
     "name": "#%%\n"
    }
   },
   "outputs": [],
   "source": [
    "barrios = pd.read_csv(\"./barrios.csv\", encoding='latin1')\n",
    "barrios.head()"
   ]
  },
  {
   "cell_type": "code",
   "execution_count": null,
   "metadata": {
    "collapsed": false,
    "pycharm": {
     "name": "#%%\n"
    }
   },
   "outputs": [],
   "source": [
    "barrios[\"WKT\"] = barrios[\"WKT\"].apply(shapely.wkt.loads) \n",
    "geo_barrios = gpd.GeoDataFrame(barrios, geometry='WKT')"
   ]
  },
  {
   "cell_type": "code",
   "execution_count": null,
   "metadata": {
    "collapsed": false,
    "pycharm": {
     "name": "#%%\n"
    }
   },
   "outputs": [],
   "source": [
    "geo_barrios.plot()"
   ]
  },
  {
   "cell_type": "code",
   "execution_count": null,
   "metadata": {
    "collapsed": false,
    "pycharm": {
     "name": "#%%\n"
    }
   },
   "outputs": [],
   "source": [
    "capital_federal_completo = data.loc[data.state_name.str.contains('Capital Federal') == True]\n",
    "capital_federal = capital_federal_completo.loc[(capital_federal_completo.lat > -35) & (capital_federal_completo.lon > -60), :]\n",
    "\n",
    "#capital_federal.info()\n",
    "#capital_federal_1.info()\n",
    "\n",
    "print(len(capital_federal))\n",
    "print(len(capital_federal_completo))"
   ]
  },
  {
   "cell_type": "code",
   "execution_count": null,
   "metadata": {
    "collapsed": false,
    "pycharm": {
     "name": "#%%\n"
    }
   },
   "outputs": [],
   "source": [
    "geometria = gpd.points_from_xy(capital_federal['lon'], capital_federal['lat'])"
   ]
  },
  {
   "cell_type": "code",
   "execution_count": null,
   "metadata": {
    "collapsed": false,
    "pycharm": {
     "name": "#%%\n"
    }
   },
   "outputs": [],
   "source": [
    "capital_federal_geo=gpd.GeoDataFrame(capital_federal, geometry=geometria)\n",
    "\n",
    "capital_federal_geo.crs = {'init' :'epsg:4326'}"
   ]
  },
  {
   "cell_type": "code",
   "execution_count": null,
   "metadata": {
    "collapsed": false,
    "pycharm": {
     "name": "#%%\n"
    }
   },
   "outputs": [],
   "source": [
    "fig, ax = plt.subplots(figsize=(12, 10))\n",
    "ax.set_aspect('equal')\n",
    "geo_barrios.plot(ax=ax, color='white', edgecolor='black')\n",
    "capital_federal_geo.plot(ax=ax, color='red',markersize=0.25)\n",
    "plt.show();"
   ]
  },
  {
   "cell_type": "markdown",
   "metadata": {
    "collapsed": false,
    "pycharm": {
     "name": "#%% md\n"
    }
   },
   "source": [
    "Incluimos una nueva base de datos que contiene las estaciones de subte de la ciudad con su información georeferenciada."
   ]
  },
  {
   "cell_type": "code",
   "execution_count": null,
   "metadata": {
    "collapsed": false,
    "pycharm": {
     "name": "#%%\n"
    }
   },
   "outputs": [],
   "source": [
    "data_location = \"./estaciones-de-subte.csv\"\n",
    "\n",
    "df_subte = pd.read_csv(data_location, sep=',')\n",
    "\n",
    "geometria = gpd.points_from_xy(df_subte.long, df_subte.lat)\n",
    "\n",
    "geo_subte = gpd.GeoDataFrame(df_subte ,geometry=geometria)\n",
    "\n",
    "geo_subte.plot()"
   ]
  },
  {
   "cell_type": "markdown",
   "metadata": {
    "collapsed": false,
    "pycharm": {
     "name": "#%% md\n"
    }
   },
   "source": [
    "Graficamos las propiedades y las estaciones de subte en la Ciudad Autónoma de Buenos Aires para ver cual es la distribución y su proximidad con alguna estación de subte."
   ]
  },
  {
   "cell_type": "code",
   "execution_count": null,
   "metadata": {
    "collapsed": false,
    "pycharm": {
     "name": "#%%\n"
    }
   },
   "outputs": [],
   "source": [
    "fig, ax = plt.subplots(figsize=(12, 10))\n",
    "ax.set_aspect('equal')\n",
    "geo_barrios.plot(ax=ax, color='white', edgecolor='black')\n",
    "capital_federal_geo.plot(ax=ax, color='red',markersize=0.25)\n",
    "geo_subte.plot(ax=ax, color='blue',markersize=15)\n",
    "plt.show();"
   ]
  },
  {
   "cell_type": "markdown",
   "metadata": {
    "collapsed": false,
    "pycharm": {
     "name": "#%% md\n"
    }
   },
   "source": [
    "Calculamos la distancia que tiene cada propiedad con la estación de subte más cercana."
   ]
  },
  {
   "cell_type": "code",
   "execution_count": null,
   "metadata": {
    "collapsed": false,
    "pycharm": {
     "name": "#%%\n"
    }
   },
   "outputs": [],
   "source": [
    "def calculate_distance_min(p,geo_subte):\n",
    "    distances = geo_subte.distance(p.geometry)\n",
    "    return distances.min()\n"
   ]
  },
  {
   "cell_type": "code",
   "execution_count": null,
   "metadata": {
    "collapsed": false,
    "pycharm": {
     "name": "#%%\n"
    }
   },
   "outputs": [],
   "source": [
    "capital_federal_geo['distancia_subte_km']= capital_federal_geo.apply(lambda x: calculate_distance_min(x, geo_subte), axis=1)"
   ]
  },
  {
   "cell_type": "code",
   "execution_count": null,
   "metadata": {
    "collapsed": false,
    "pycharm": {
     "name": "#%%\n"
    }
   },
   "outputs": [],
   "source": [
    "print(capital_federal_geo['distancia_subte_km'])"
   ]
  },
  {
   "cell_type": "markdown",
   "metadata": {
    "collapsed": false,
    "pycharm": {
     "name": "#%% md\n"
    }
   },
   "source": [
    "Evaluamos si hay relación entre el precio del metro cuadrado de la propiedad con la cercanía que tiene a una estación de subte."
   ]
  },
  {
   "cell_type": "code",
   "execution_count": null,
   "metadata": {
    "collapsed": false,
    "pycharm": {
     "name": "#%%\n"
    }
   },
   "outputs": [],
   "source": [
    "capital_federal_geo[[\"price_usd_per_m2\", \"distancia_subte_km\"]].plot(kind='scatter', y=\"price_usd_per_m2\", x=\"distancia_subte_km\", figsize=(12, 10), alpha=0.5)\n",
    "plt.ylim((0,20000))\n",
    "plt.ylabel('Precio en dolares por metro cuadrado',size=8.0,labelpad=20.0)\n",
    "plt.xlabel('Distancia al subte en kilómetros', size=8.0,labelpad=20.0)\n",
    "plt.grid(True)\n",
    "plt.suptitle('Precio del m2 según la distancia al subte')"
   ]
  },
  {
   "cell_type": "markdown",
   "metadata": {
    "pycharm": {
     "name": "#%% md\n"
    }
   },
   "source": [
    "# Conclusiones"
   ]
  },
  {
   "cell_type": "markdown",
   "source": [
    "El dataset posee columnas de tipo numericas (float) y cadena de caracteres (string). En lineas generales pudimos observar que el 60% de las columnas poseen datos faltantes, teniendo alguna de ellas con mas del 80% de los valores nulls, las columnas más datos tienen hacen a las dimensiones del dataset, como state_name, place_name, property_type, operation, title, etc.\n",
    "\n",
    "Como el objetivo es realizar un modelo de regresion lineal que predijera el precio de las propiedades, la falta de datos numericos en relacion al precio afecta al modelo. Por ese motivo es que el EDA (Exploration Data Analysis) fue principalmente enfocado en las columnas numericas, sobretodo con enfoque en las columnas en relacion al precio por propiedad.\n",
    "\n",
    "Como parte del trabajo de exploracion, comparamos aquellas columnas que en primer lugar parecieran compartir un mismo valor (por ejemplo place_name, place_with_parent_name) o (price, price_aprox_usd) e imputamos aquellos valores que existian en una columna y no en otra. Tambien utilizamos metodos estadisticos nativos de numpy y pandas para arrojar rapidamente metricas estadisticas de las colmunas numericas, como \".describe()\"\n",
    "\n",
    "Por otro lado, para poder imputar los distintos registros nulos que consideramos importantes para entrenar posteriormente el modelo, utilizamos principalmente la herramienta REGEX, sustrayendo valores de precio, expensas, cantidad de habitaciones, de la columna descripcion.\n",
    "\n",
    "Por ultimo en la etapa de Analisis Estadistico Descriptivo tomamos como iniciativa utilizar la libreria seaborn y matplotlib, con estas pudimos rapidamente visualizar outliers, distribuciones geograficas, correlaciones, etc. Como conclusiones generales pudimos observar que existe una correlacion entre el precio por m2 y la distancia al subte, por otro lado tambien observamos que en departamentos de ciertas dimensiones existe una relacion entre precio aproximado en dolares y expensas.\n",
    "\n"
   ],
   "metadata": {
    "collapsed": false,
    "pycharm": {
     "name": "#%% md\n"
    }
   }
  },
  {
   "cell_type": "markdown",
   "metadata": {
    "pycharm": {
     "name": "#%% md\n"
    }
   },
   "source": []
  }
 ],
 "metadata": {
  "kernelspec": {
   "display_name": "Python 3.10.6 ('DH')",
   "language": "python",
   "name": "python3"
  },
  "language_info": {
   "codemirror_mode": {
    "name": "ipython",
    "version": 3
   },
   "file_extension": ".py",
   "mimetype": "text/x-python",
   "name": "python",
   "nbconvert_exporter": "python",
   "pygments_lexer": "ipython3",
   "version": "3.10.6"
  },
  "orig_nbformat": 4,
  "vscode": {
   "interpreter": {
    "hash": "51f772a01f3728c9cb60ced237e3bf91381106f96875877db9afd61c9cb425c3"
   }
  }
 },
 "nbformat": 4,
 "nbformat_minor": 2
}